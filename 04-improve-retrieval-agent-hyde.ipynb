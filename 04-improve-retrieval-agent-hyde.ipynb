{
 "cells": [
  {
   "cell_type": "markdown",
   "id": "2ae12f82-de31-41d5-8c1b-dadf77779603",
   "metadata": {},
   "source": [
    "# Improving Retrieval Agent using HyDe Method\n",
    "\n",
    "We're going to improve at area before searching by generating similar content based on the questions and then comparing to the actual documents."
   ]
  },
  {
   "cell_type": "code",
   "execution_count": 1,
   "id": "1beae1b1-44da-4ea0-a2eb-4eca0aa1b528",
   "metadata": {},
   "outputs": [
    {
     "data": {
      "text/plain": [
       "True"
      ]
     },
     "execution_count": 1,
     "metadata": {},
     "output_type": "execute_result"
    }
   ],
   "source": [
    "# Prepare environment variable\n",
    "# You should check env.example file\n",
    "# It's needed throughout this jupyter notebook\n",
    "import os\n",
    "from dotenv import load_dotenv\n",
    "load_dotenv()"
   ]
  },
  {
   "cell_type": "markdown",
   "id": "f8603791-3c51-4593-8854-b1fdb53b7553",
   "metadata": {},
   "source": [
    "# Retrieval Tool\n",
    "\n",
    "Creating tools meaning we are only doing what the tools intendeed, let the summarizer by the agent it self"
   ]
  },
  {
   "cell_type": "code",
   "execution_count": 32,
   "id": "f214cf88-46ba-43fe-8897-83e266e3745a",
   "metadata": {},
   "outputs": [],
   "source": [
    "# Prepare library\n",
    "## AI Search related\n",
    "import langchain_community.vectorstores.azuresearch as azuresearch\n",
    "from langchain_community.vectorstores.azuresearch import AzureSearch\n",
    "from langchain_openai import AzureOpenAIEmbeddings\n",
    "\n",
    "## LLM related\n",
    "import os\n",
    "import json\n",
    "from langchain.chat_models import init_chat_model\n",
    "\n",
    "## Tool creation related\n",
    "from langchain_core.tools import tool\n",
    "from langchain_core.messages import SystemMessage, HumanMessage, AIMessage, AnyMessage, ToolMessage\n",
    "\n",
    "## Misc - to improve tool performance\n",
    "import threading"
   ]
  },
  {
   "cell_type": "code",
   "execution_count": 33,
   "id": "66c22b0e-9d2e-4ecb-bdc8-9cce4ba82c45",
   "metadata": {},
   "outputs": [],
   "source": [
    "# Check if you already prepare the environment file\n",
    "index_name = \"kaenova-testing-3\" # You can change it, if you want to\n",
    "api_version = \"2024-12-01-preview\"\n",
    "langchain_model_name = \"azure_openai:gpt-4\" # Adjust based on what you deployed \n",
    "\n",
    "for key in [\"AZURE_AIS_ENDPOINT\", \"AZURE_AIS_KEY\", \"AZURE_OAI_ENDPOINT\", \"AZURE_OAI_KEY\", \"AZURE_OAI_DEPLOYMENT\", \"AZURE_OAI_CHAT_DEPLOYMENT\"]:\n",
    "    if not os.getenv(key):\n",
    "        raise ValueError(f\"{key} is not provided\")"
   ]
  },
  {
   "cell_type": "code",
   "execution_count": 34,
   "id": "1c86ddfa-db20-4e6e-9953-c56efe6b18c9",
   "metadata": {},
   "outputs": [],
   "source": [
    "# !important you may change this. Map the fields into the connector library\n",
    "azuresearch.FIELDS_CONTENT = \"chunk\"\n",
    "azuresearch.FIELDS_CONTENT_VECTOR = \"chunk_vector\"\n",
    "azuresearch.FIELDS_ID = \"id\""
   ]
  },
  {
   "cell_type": "code",
   "execution_count": 35,
   "id": "dd614b0d-21de-445a-a5dc-6c85e3c51290",
   "metadata": {},
   "outputs": [],
   "source": [
    "# Prepare the embedding function\n",
    "embeddings : AzureOpenAIEmbeddings = AzureOpenAIEmbeddings(\n",
    "    azure_deployment=os.getenv(\"AZURE_OAI_DEPLOYMENT\"),\n",
    "    openai_api_version=api_version,\n",
    "    azure_endpoint=os.getenv(\"AZURE_OAI_ENDPOINT\"),\n",
    "    api_key=os.getenv(\"AZURE_OAI_KEY\"),\n",
    ")\n",
    "\n",
    "embeddings_function = embeddings.embed_query"
   ]
  },
  {
   "cell_type": "code",
   "execution_count": 36,
   "id": "f1cc862a-61c0-4c9b-b129-0b18c11a208a",
   "metadata": {},
   "outputs": [],
   "source": [
    "# Create Azure AI Search client\n",
    "vector_store: AzureSearch = AzureSearch(\n",
    "    azure_search_endpoint=os.getenv(\"AZURE_AIS_ENDPOINT\"),\n",
    "    azure_search_key=os.getenv(\"AZURE_AIS_KEY\"),\n",
    "    index_name=index_name,\n",
    "    embedding_function=embeddings.embed_query,\n",
    ")"
   ]
  },
  {
   "cell_type": "code",
   "execution_count": 37,
   "id": "d3c8c055-e67c-4de0-aa6c-61881775a47e",
   "metadata": {},
   "outputs": [],
   "source": [
    "# Prepare LLM for query Expander\n",
    "os.environ[\"AZURE_OPENAI_API_KEY\"] = os.getenv(\"AZURE_OAI_KEY\")\n",
    "os.environ[\"AZURE_OPENAI_ENDPOINT\"] = os.getenv(\"AZURE_OAI_ENDPOINT\")\n",
    "os.environ[\"OPENAI_API_VERSION\"] = api_version\n",
    "\n",
    "chat_llm = init_chat_model(\n",
    "    langchain_model_name,\n",
    "    azure_deployment=os.environ[\"AZURE_OAI_CHAT_DEPLOYMENT\"],\n",
    ")"
   ]
  },
  {
   "cell_type": "code",
   "execution_count": null,
   "id": "47e63b9e-2b35-4580-a789-b80df7394c61",
   "metadata": {},
   "outputs": [],
   "source": [
    "# Define the steps of retrieval flow\n",
    "def expand_query(questions: str) -> list[str]:\n",
    "    system_prompt = (\n",
    "        \"You're a search query expander, you'll get a user question and you need to create multiple concise, keyworded, and general search query\"\n",
    "        \"That'll be injected to the Azure AI Search\"\n",
    "        \"The document is mainly in Indonesian\"\n",
    "        \"Return the question only in JSON array without any codeblocks\"\n",
    "        \"You'll only return like \\'[\\\"query_1\\\", \\\"query_2\\\", \\\"query_3\\\", \\\"query_4\\\", \\\"query_5\\\"]\\'\"\n",
    "    )\n",
    "\n",
    "    valid = False\n",
    "    data = []\n",
    "    while not valid:\n",
    "        result = chat_llm.invoke([SystemMessage(content=system_prompt), HumanMessage(content=questions)])\n",
    "        print(\"[expand_query] llm_result\", result.content)\n",
    "        \n",
    "        try:\n",
    "            data = json.loads(result.content)\n",
    "            if type(data) is list:\n",
    "                valid = True\n",
    "        except:\n",
    "            print(\"[expand_query] not a valid value\")\n",
    "\n",
    "    return data\n",
    "\n",
    "# New! Creating hypothetical documents\n",
    "def hypothetical_query(questions:str) -> list[str]:\n",
    "    system_prompt = (\n",
    "        \"You're an answerer to a questions, make a hypothetical multiple short answer. The documents mainly in Indonesian. Make the answer a general short complete sentence.\"\n",
    "        \"That'll be injected to the Azure AI Search\"\n",
    "        \"Return the answer only in JSON array without any codeblocks\"\n",
    "        \"You'll only return like \\'[\\\"query_1\\\", \\\"query_2\\\", \\\"query_3\\\", \\\"query_4\\\", \\\"query_5\\\"]\\'\"\n",
    "    )\n",
    "\n",
    "    valid = False\n",
    "    data = []\n",
    "    while not valid:\n",
    "        result = chat_llm.invoke([SystemMessage(content=system_prompt), HumanMessage(content=questions)])\n",
    "        print(\"[hypothetical_query] llm_result\", result.content)\n",
    "        \n",
    "        try:\n",
    "            data = json.loads(result.content)\n",
    "            if type(data) is list:\n",
    "                valid = True\n",
    "        except:\n",
    "            print(\"[hypothetical_query] not a valid value\")\n",
    "\n",
    "    return data\n",
    "\n",
    "def unique_dicts(list_of_dicts):\n",
    "    \"\"\"\n",
    "    Returns a unique list of dictionaries based on the 'id' key.\n",
    "\n",
    "    Args:\n",
    "        list_of_dicts: A list of dictionaries.\n",
    "\n",
    "    Returns:\n",
    "        A new list containing only the unique dictionaries.\n",
    "    \"\"\"\n",
    "    unique_ids = set()\n",
    "    unique_list = []\n",
    "    for d in list_of_dicts:\n",
    "        if d['id'] not in unique_ids:\n",
    "            unique_ids.add(d['id'])\n",
    "            unique_list.append(d)\n",
    "    return unique_list\n",
    "\n",
    "\n",
    "def retrieve_documents(questions: list[str]) -> list[dict]:\n",
    "    retrieved_chunks = []\n",
    "    lock = threading.Lock()\n",
    "\n",
    "    def search_and_store(question):\n",
    "        answers = vector_store.semantic_hybrid_search(query=question, k=3)\n",
    "        local_chunks = [\n",
    "            {\"id\": x.metadata['id'], \"content\": x.page_content}\n",
    "            for x in answers\n",
    "        ]\n",
    "        with lock:\n",
    "            retrieved_chunks.extend(local_chunks)\n",
    "\n",
    "    threads = []\n",
    "    for question in questions:\n",
    "        thread = threading.Thread(target=search_and_store, args=(question,))\n",
    "        thread.start()\n",
    "        threads.append(thread)\n",
    "\n",
    "    for thread in threads:\n",
    "        thread.join()\n",
    "\n",
    "    final_chunks = unique_dicts(retrieved_chunks)\n",
    "    return final_chunks\n"
   ]
  },
  {
   "cell_type": "code",
   "execution_count": 45,
   "id": "bedbcc02-d06a-469e-8bec-5488d86eeaf1",
   "metadata": {},
   "outputs": [],
   "source": [
    "# Creating the tool itself\n",
    "\n",
    "@tool\n",
    "def retrieve_tool(questions: str) -> list[str]:\n",
    "    \"\"\"Tool to retrieve document based on the questions related. This will return a json of related documents. Mainly this is a Indonesian Document, so your questions should be in Indonesian.\"\"\"\n",
    "    generated_questions = expand_query(questions)\n",
    "    hypothetical_answers = hypothetical_query(questions)\n",
    "    data = retrieve_documents(generated_questions + hypothetical_answers)\n",
    "    print(\"[retrieve_tool]\", str(data))\n",
    "    tool_output = \"Chunk Data\\n```\"\n",
    "    for x in data:\n",
    "        tool_output += f\"\\n<data><id>{x[\"id\"]}</id><chunk>{x[\"content\"]}</chunk>/data>\"\n",
    "    tool_output += \"\\n```\"\n",
    "    return tool_output"
   ]
  },
  {
   "cell_type": "code",
   "execution_count": 47,
   "id": "2a4f6c62-5552-4507-8c03-4741a62dbf52",
   "metadata": {},
   "outputs": [
    {
     "name": "stdout",
     "output_type": "stream",
     "text": [
      "[expand_query] llm_result [\"gerakan perempuan tanggal\", \"sejarah gerakan perempuan\", \"gerakan feminis timeline\", \"perkembangan gerakan perempuan\", \"milestones gerakan feminis\"]\n",
      "[hypothetical_query] llm_result [\"Gerakan perempuan mulai muncul di Indonesia pada awal abad ke-20\", \"Gerakan perempuan mengalami kemajuan signifikan setelah kemerdekaan Indonesia\", \"Gerakan perempuan bertujuan untuk memperjuangkan kesetaraan dan keadilan gender\"]\n"
     ]
    },
    {
     "name": "stderr",
     "output_type": "stream",
     "text": [
      "Exception in thread Thread-39 (search_and_store):\n",
      "Traceback (most recent call last):\n",
      "  File \"/Users/mymac/.local/share/uv/python/cpython-3.12.11-macos-aarch64-none/lib/python3.12/threading.py\", line 1075, in _bootstrap_inner\n",
      "    self.run()\n",
      "  File \"/Users/mymac/.cache/uv/archive-v0/lv37PuXbW9hg5BbsAuAcy/lib/python3.12/site-packages/ipykernel/ipkernel.py\", line 772, in run_closure\n",
      "    _threading_Thread_run(self)\n",
      "  File \"/Users/mymac/.local/share/uv/python/cpython-3.12.11-macos-aarch64-none/lib/python3.12/threading.py\", line 1012, in run\n",
      "    self._target(*self._args, **self._kwargs)\n",
      "  File \"/var/folders/03/74z6gldj3tl9q5x76cxxngl40000gn/T/ipykernel_89687/2192689258.py\", line 73, in search_and_store\n",
      "  File \"/Users/mymac/Development/learn-rag-agentic/.venv/lib/python3.12/site-packages/langchain_community/vectorstores/azuresearch.py\", line 1276, in semantic_hybrid_search\n",
      "    docs_and_scores = self.semantic_hybrid_search_with_score_and_rerank(\n",
      "                      ^^^^^^^^^^^^^^^^^^^^^^^^^^^^^^^^^^^^^^^^^^^^^^^^^^\n",
      "  File \"/Users/mymac/Development/learn-rag-agentic/.venv/lib/python3.12/site-packages/langchain_community/vectorstores/azuresearch.py\", line 1459, in semantic_hybrid_search_with_score_and_rerank\n",
      "    float(result[\"@search.reranker_score\"]),\n",
      "    ^^^^^^^^^^^^^^^^^^^^^^^^^^^^^^^^^^^^^^^\n",
      "TypeError: float() argument must be a string or a real number, not 'NoneType'\n"
     ]
    },
    {
     "name": "stdout",
     "output_type": "stream",
     "text": [
      "[retrieve_tool] [{'id': '75f218c9a1341be9b298ed3848d7c055__chunk_0045', 'content': 'banyak kelompok yang memiliki massa, baik yang berbasis ideologi \\npolitik maupun agama. Kekuatan kelompok tersebut memunculkan warna \\nyang beragam pada identitas nasional dan berbagai peristiwa sejarah di \\nIndonesia. Beberapa di antaranya akan dibahas pada subbab berikut.\\n1.\\t Gerakan Perempuan \\nGerakan Perempuan pada tahun 1950—1960 merupakan salah satu \\nperiode pergerakan paling progresif setelah tahun 1928. Pada periode ini \\nbanyak organisasi perempuan yang berafiliasi dengan kekuatan-kekuatan \\norganisasi massa yang besar. Sebagai contoh Aisyiah dari Muhammadiyah, \\nMuslimat dari Masyumi, Muslimat Nahdlatul Ulama (NU) dari NU, Perwari, \\ndan juga Gerakan Wanita Istri Sedar (Gerwis). Gerwis merupakan gabungan \\ndari ratusan aktivis dan berbagai organisasi perempuan, misalnya Rukun \\nPutri Indonesia, Persatuan Wanita Sedar, Isteri Sedar, Gerakan Wanita \\nIndonesia, dan Perjuangan Putri Republik Indonesia. Pada kongres pertama \\ntahun 1951, Gerwis berubah nama menjadi Gerwani (Gerakan Wanita \\nIndonesia). Pada tahun 1954 PKI memanfaatkan organisasi ini untuk \\nmenggalang suara pada Pemilu 1955.\\nGambar 2.6 Beberapa organisasi perempuan berdemo menentang PP No. 19 Tahun 1952. \\nPeraturan pemerintah ini secara implisit mendukung poligini di kalangan pegawai negeri.\\nSumber: Repro Historia (2018)\\n82\\nSEJARAH UNTUK SMA/MA KELAS XII\\nSelain terkait dengan basis massa yang besar, terdapat isu krusial yang \\ndiangkat pada tahun 1950an di antaranya adalah UU Perkawinan dan \\nisu poligami. Kalangan organisasi maupun aktivis perempuan, menilai \\nperlunya dibentuk komisi khusus yang merancang hukum perkawinan \\nyang berpihak pada perempuan. Untuk itu dibentuk Komisi NTR (Nikah, \\nTalak, Rujuk). Polemik pembuatan UU Perkawinan masih bergulir sampai \\ndengan berakhirnya pemerintahan Sukarno dan akhirnya dapat disahkan \\npada tahun 1974. \\nSejarah Hari (Perjuangan) Ibu\\nGerakan sosial perempuan ditandai dengan terselenggaranya kongres \\npada 22—25 Desember 1928. Kongres ini memperjuangkan semangat \\nperempuan dalam berkiprah. Mengingat pentingnya peristiwa tersebut dan \\nuntuk mengapresiasi langkah yang dilakukan oleh organisasi perempuan, \\nPresiden Sukarno mencanangkan 22 Desember sebagai peringatan Hari \\nIbu melalui SK no. 316 tanggal 18 Desember 1959. Sejak ditetapkannya surat \\nkeputusan itu, seluruh bangsa Indonesia memperingati Hari Ibu pada 22 \\nDesember. Tujuannya agar dapat mengenang dan menghayati semangat \\nkebangkitan kaum perempuan Indonesia. Apresiasi terhadap perjuangan \\nkaum perempuan layak dilakukan untuk menguatkan pikiran, tekad, dan \\nsemangat dalam memperbaiki serta meningkatkan hak, kewajiban, dan \\nkedudukan perempuan. \\nApabila kalian ingin menggali lebih dalam mengenai \\nsejarah gerakan perempuan di Indonesia, kalian dapat \\nmembaca berbagai buku, artikel, jurnal, atau laman bacaan \\npopuler berikut: https://historia.id/politik/articles/tonggak-\\ntonggak-gerakan-perempuan-indonesia-vogLG/page/3  \\nKalian juga bisa memindai kode QR berikut.\\nVIVA HISTORIA\\n83\\nBAB 2: DEMOKRASI LIBERAL HINGGA DEMOKRASI TERPIMPIN (1950—1966)\\nSumber: \\nI Gusti Agung Ayu Ratih dkk, 2016, Merayakan Ibu Bangsa, Jakarta: Direktorat Sejarah, \\nKementerian Pendidikan dan Kebudayaan.\\nAndri Setiawan, 2020. “Tonggak-tonggak Gerakan Perempuan Indonesia”. Historia. \\nDapat diakses pada https://historia.id/politik/articles/tonggak-tonggak-gerakan-\\nperempuan-indonesia-vogLG/page/3\\n 2.\\t Pemilihan Umum Pertama\\nSebagai negara yang baru melewati masa kemerdekaannya, Indonesia \\nmelaksanakan pemilihan umum pertama kali pada tahun 1955. Apakah \\nkalian pernah membayangkan bagaimana awal mula dan jalannya Pemilu \\npertama di Indonesia? \\nGambar 2.7 Suasana pada saat penghitungan surat suara Pemilu 1955 di TPS Kelurahan \\nKemayoran yang berlangsung hingga malam, 29 September 1955.\\nSumber: Dokumentasi ANRI/CNN Indonesia (2018)\\n84\\nSEJARAH UNTUK SMA/MA KELAS XII\\nPada masa Demokrasi Liberal, perubahan kabinet terus-menerus \\nterjadi. Ini tentu saja menimbulkan ketidakstabilan politik di Indonesia.'}, {'id': '75f218c9a1341be9b298ed3848d7c055__chunk_0044', 'content': 'Merdeka yang \\ndikeluarkan oleh \\nPos Indonesia \\nsebagai peringatan \\n25 tahun KAA  di \\nBandung\\nSumber: Pos Indonesia/ \\nPublic Domain (1980)\\nGambar 2.5 \\nPerangko \\nPeringatan \\nKonferensi \\nMahasiswa Asia \\nAfrika di Bandung \\npada 1956\\nSumber: Pos Indonesia/ \\nPublic Domain (1956)\\n79\\nBAB 2: DEMOKRASI LIBERAL HINGGA DEMOKRASI TERPIMPIN (1950—1966)\\n1.\\t Menghormati hak-hak dasar manusia dan tujuan-tujuan serta \\nasas-asas yang termuat di dalam piagam PBB (Perserikatan \\nBangsa-Bangsa)\\n2.\\t Menghormati kedaulatan dan integritas teritorial semua bangsa\\n3.\\t Mengakui persamaan semua suku bangsa dan persamaan \\nsemua bangsa, besar maupun kecil\\n4.\\t Tidak melakukan intervensi atau campur tangan dalam soalan-\\nsoalan dalam negeri negara lain\\n5.\\t Menghormati hak-hak setiap bangsa untuk mempertahankan diri \\nsecara sendirian ataupun kolektif yang sesuai dengan Piagam \\nPBB\\n6.\\t Tidak menggunakan peraturan-peraturan dari pertahanan \\nkolektif untuk bertindak bagi kepentingan khusus dari salah satu \\nnegara besar dan tidak melakukannya terhadap negara lain\\n7.\\t Tidak melakukan tindakan-tindakan ataupun ancaman agresi \\nmaupun penggunaan kekerasan terhadap integritas wilayah \\nmaupun kemerdekaan politik suatu negara\\n8.\\t Menyelesaikan segala perselisihan internasional dengan jalan \\ndamai, seperti perundingan, persetujuan, arbitrasi, ataupun cara \\ndamai lainnya, menurut pilihan pihak-pihak yang bersangkutan \\nsesuai dengan Piagam PBB\\n9.\\t Memajukan kepentingan bersama dan kerjasama\\n10.\\t Menghormati hukum dan kewajiban–kewajiban internasional\\nDasa Sila Bandung\\n80\\nSEJARAH UNTUK SMA/MA KELAS XII\\nArsip KAA telah ditetapkan oleh UNESCO sebagai \\nWarisan Ingatan Dunia (Memory of the World). Proses \\npengajuan kepada UNESCO sebenarnya telah dilakukan \\nsejak tahun 2012 oleh negara-negara sponsor KAA, yaitu \\nIndonesia, India, Pakistan, Srilanka, dan Myanmar. \\nUNESCO kemudian menyetujuinya pada tahun 2015.\\nJika kalian tertarik untuk mempelajari lebih lanjut \\ntentang peristiwa ini serta pengaruhnya terhadap \\nsejarah Indonesia dan dunia, kalian dapat berkunjung \\nsecara langsung ke Museum KAA di Bandung.  Kalian \\ndapat melihat berbagai foto, arsip, maupun berbagai \\nartefak yang menjadi sumber sejarah KAA 1955. \\nSaat ini Perang Dingin antara Amerika Serikat dengan Uni \\nSoviet telah berakhir. Banyak negara di Asia dan Afrika yang \\nsudah mendapatkan kemerdekaannya. Apakah tatanan politik \\ndunia menjadi lebih baik setelah berakhirnya Perang Dingin? \\nBagaimanakah relevansi GNB di masa kini? Apa yang dapat \\nkalian lakukan menghidupkan kembali Semangat Bandung?\\nKalian juga bisa mengunjungi museum KAA secara virtual \\nmelalui laman https://museumkaa.iheritage.id/public/ atau \\nmemindai kode QR berikut ini\\nVIVA HISTORIA\\nREFLEKSI\\n81\\nBAB 2: DEMOKRASI LIBERAL HINGGA DEMOKRASI TERPIMPIN (1950—1966)\\nB.\\tKetersebaran Kekuatan dan Identitas Nasional Baru\\nTahukah kalian kapan Indonesia melaksanakan pemilu pertama? \\nPartai mana yang meraih suara terbanyak dalam pemilu legislatif pertama? \\nUntuk dapat menjawab pertanyaan tersebut kalian perlu melihat peta \\nkekuatan dan kekuasaan politik yang ada sepanjang tahun 1950—1960-\\nan. Pada masa Demokrasi Liberal hingga Demokrasi Terpimpin terdapat \\nbanyak kelompok yang memiliki massa, baik yang berbasis ideologi \\npolitik maupun agama. Kekuatan kelompok tersebut memunculkan warna \\nyang beragam pada identitas nasional dan berbagai peristiwa sejarah di \\nIndonesia. Beberapa di antaranya akan dibahas pada subbab berikut.\\n1.\\t Gerakan Perempuan \\nGerakan Perempuan pada tahun 1950—1960 merupakan salah satu \\nperiode pergerakan paling progresif setelah tahun 1928. Pada periode ini \\nbanyak organisasi perempuan yang berafiliasi dengan kekuatan-kekuatan \\norganisasi massa yang besar. Sebagai contoh Aisyiah dari Muhammadiyah, \\nMuslimat dari Masyumi, Muslimat Nahdlatul Ulama (NU) dari NU, Perwari, \\ndan juga Gerakan Wanita Istri Sedar (Gerwis). Gerwis merupakan gabungan \\ndari ratusan aktivis dan berbagai organisasi perempuan, misalnya Rukun'}, {'id': '75f218c9a1341be9b298ed3848d7c055__chunk_0064', 'content': 'terencana ialah dr. Sulianti Saroso.  \\nPahlawan pejuang kesehatan masyarakat \\nIndonesia lainnya ialah dokter Johannes \\nLeimena (Bapak Puskesmas Indonesia) dan \\ndr. Gerrit Augustinus Siwabessy (pelopor \\nPuskesmas). Lewat puskesmas, usaha untuk \\nmengintegrasikan \\npelayanan \\nkesehatan \\nmasyarakat hingga ke pelosok dapat terwujud. \\nUntuk mewujudkan masyarakat Indonesia yang \\nsehat, pada tahun 1984, Menteri Kesehatan, \\nbersama dengan Kepala Badan Kependudukan \\ndan Keluarga Berencana Nasional (BKKN), dan \\nMenteri Dalam Negeri mengeluarkan instruksi \\nGambar 3.12 Ibu Tien Soeharto \\nsedang melaksanakan kegiatan \\nimunisasi di Puskesmas.\\nSumber:Back Tohir/ Sekretariat Negara (1990)\\n127\\nBAB 3: INDONESIA MASA ORDE BARU (1966—1998)\\nbersama. Instruksi bersama ini berusaha mengintegrasikan kegiatan \\nmasyarakat untuk mempercepat penurunan angka kematian Ibu dan \\nBayi dalam satu wadah Pos Pelayanan Terpadu (Posyandu). Terdapat lima \\nkegiatan posyandu, yaitu Kesehatan Ibu dan Anak (KIA), KB, imunisasi, \\npendidikan gizi, dan penanggulangan diare. Gerakan tersebut kemudian \\ndicanangkan oleh Presiden Soeharto pada tahun 1986 di Yogyakarta.\\nDi bidang pendidikan, Presiden Soeharto juga melakukan beberapa \\ngebrakan, di antaranya pemberantasan buta aksara, gerakan wajib \\nbelajar 9 tahun, dan pembangunan SD Inpres hingga ke daerah pelosok. \\nPemberantasan buta aksara masa Orde Baru mulai dicanangkan pada 16 \\nAgustus 1978 dengan menyasar kelompok masyarakat usia produktif yang \\nbelum melek aksara dengan pembentukan Kelompok Belajar “Kejar”. \\nWajib belajar 9 tahun adalah gerakan yang dicanangkan pada 2 Mei 1994 \\ndengan mewajibkan anak usia 7—15 tahun untuk sekolah. Kebijakan \\nini kemudian diperkuat dengan Instruksi Presiden. Loncatan kebijakan \\nSoeharto ini membuat jumlah peserta didik naik secara signifikan. Akan \\ntetapi, sayangnya ini tidak diimbangi dengan perbaikan kualitas dan \\npertumbuhan mutu pendidikan.\\nGerakan perempuan pada masa Orde Baru mengalami sentralisasi. \\nPenunjukan Kongres Wanita Indonesia (Kowani) sebagai organisasi semua \\nkelompok perempuan mem\\xadperlihatkan watak patriarki dan melemahkan \\norganisasi perempuan lain yang sudah ada (Mariana, 2015: 120). Kemitraan \\nKowani dengan Kementerian Urusan Peranan Wanita memang memberikan \\nruang bagi organisasi perempuan untuk ikut serta dan berpartisipasi \\ndalam pembangunan maupun kegiatan sosial politik (Suryakusuma, 2011: \\n18). Akan tetapi, pada kenyataannya pemerintah Orde Baru memaksa agar \\ngerakan perempuan mendukung tujuan pembangunan pemerintah. Hal ini \\nmenyebabkan organisasi perempuan tidak leluasa bergerak dan berinovasi \\nmaupun menyalurkan kritiknya terhadap kebijakan pemerintah.\\n128\\nSEJARAH UNTUK SMA/MA KELAS XII\\nJalan Panjang Usaha Pengendalian Jumlah Penduduk\\nProgram Transmigrasi dan Keluarga Berencana di Indonesia merupakan \\nsalah satu ikon keberhasilan Orde Baru. Program transmigrasi sebenarnya \\ntelah dilakukan sejak masa Hindia Belanda pada tahun 1905. Program ini \\nterus dilanjutkan pada masa pemerintahan Presiden Sukarno, Orde Baru, \\nhingga masa Reformasi. Jika kalian tertarik dengan sejarah transmigrasi \\ndi Indonesia, kalian bisa mengunjungi Museum Transmigrasi di Provinsi \\nLampung yang menyimpan memori dari para transmigran yang menetap \\ndi Lampung. \\nSelain faktor perpindahan penduduk, naik turunnya jumlah penduduk \\ndi suatu wilayah dipengaruhi juga oleh wabah penyakit. Semenjak terjadi \\npandemi Covid-19 di Indonesia, nama dr. Sulianti Saroso tenar sebagai \\nnama sebuah rumah sakit penyakit infeksi (RSPI) yang sering menjadi \\nrujukan awal di kala pandemi. RSPI ini juga menjadi pusat penelitian \\npenyakit menular di Indonesia. Namun, tak banyak orang yang mengenal \\nsosok dr. Sulianti Saroso yang berperan penting dalam perjalanan usaha \\npengendalian jumlah penduduk dan kesehatan masyarakat di Indonesia. \\nKiprah beliau sebagai sosok dokter pejuang yang pantang menyerah telah \\ndiabadikan dalam sebuah film dokumenter sejarah karya Miles Film yang'}, {'id': '75f218c9a1341be9b298ed3848d7c055__chunk_0054', 'content': 'd.\\t Merupakan perwujudan demokrasi dalam politik Indonesia\\ne.\\t Merupakan peluang bagi partai besar untuk berkuasa\\n3.\\t Berikut ini yang merupakan latar belakang Daud Beureuh menyatakan \\nAceh bergabung dengan NII ialah…\\n(1)\\t kekecewaan terhadap hasil Perundingan Renville 1948\\n(2)\\t kekecewaan karena pembangunan yang berpusat di Jawa\\n(3)\\t kekecewaan pada pejabat pemerintah pusat yang berfoya-foya\\n(4)\\t kekecewaan terhadap penurunan status Aceh menjadi Karesidenan\\n101\\nBAB 2: DEMOKRASI LIBERAL HINGGA DEMOKRASI TERPIMPIN (1950—1966)\\nPilihlah\\na.\\t Jika (1), (2), dan (3) yang benar\\nb.\\t Jika (1) dan (3) yang benar\\nc.\\t Jika (2) dan (4) yang benar\\nd.\\t Jika hanya (4) saja yang benar\\ne.\\t Jika semua jawaban benar\\n4.\\t Pada masa Demokrasi Terpimpin, beberapa proyek mercusuar yang \\ndidanai oleh dana rampasan perang dari Jepang bermasalah.\\nSEBAB\\nAdanya skandal anggota komite serta tidak adanya transparansi dalam \\npenggunaan dana rampasan perang.\\nPilihlah\\na.\\t Jika pernyataan benar, alasan benar, dan keduanya menunjukkan \\nhubungan sebab akibat.\\nb.\\t Jika pernyataan benar dan alasan benar, tetapi keduanga tidak \\nmenunjukkan hubungan sebab akibat.\\nc.\\t Jika pernyataan benar dan alasan salah.\\nd.\\t Jika penyataan salah dan alasan benar.\\ne.\\t Jika pernyataan dan alasan, keduanya salah.\\n5.\\t Berbagai peristiwa berikut yang merupakan bagian dari efek domino \\nperistiwa G30S/PKI adalah…\\n(1)\\t PKI dibubarkan dan dinyatakan sebagai organisasi terlarang\\n(2)\\t Berakhirnya Demokrasi Terpimpin yang dicetuskan Presiden \\nSukarno\\n(3)\\t Marxisme, Komunisme dan Leninisme dilarang di Indonesia\\n(4)\\t Diskriminasi terhadap anggota PKI dan organisi pendukungnya\\nPilihlah\\na.\\t Jika (1), (2), dan (3) yang benar\\nb.\\t Jika (1) dan (3) yang benar\\nc.\\t Jika (2) dan (4) yang benar\\nd.\\t Jika hanya (4) saja yang benar\\ne.\\t Jika semua jawaban benar\\n102\\nSEJARAH UNTUK SMA/MA KELAS XII\\nSoal Esai\\n1.\\t Perhatikanlah sumber foto dan narasi berikut!\\nGambar 2.20\\nDelegasi Kowani (Kongres Wanita Indonesia) dalam Konferensi Perempuan Asia \\nAfrika tahun 1958 di Colombo. Dari kiri ke kanan: Nani Soewondo, S.K. Trimurti, \\nSoehartini, Maria Ulfah Santoso, Hurustiati Soebandrio, Nyonya Soejono \\nPrawirobismo, Nyonya Ilyas Sutan Pangeran, dan Kartini K. Radjasa .\\nSumber: Yayasan Idayu/Perpusnas (1958)\\nPergerakan perempuan dalam kancah internasional makin \\nterdengar gaungnya pasca-Konferensi Asia-Afrika pada 1955. \\nPada Konferensi Solidaritas Asia-Afrika di Kairo pada 1957, isu-isu \\nperempuan pertama kali dibahas. Pada konferensi itu, Maria Ulfah \\nSantoso menjadi ketua delegasi Indonesia. Kala itu, ia adalah ketua \\nKowani atau Kongres Wanita Indonesia, sebuah badan kontak \\nyang menghimpun organisasi-organisasi wanita di Indonesi, dan \\nmerupakan salah satu inisiator kunci dari Konferensi Perempuan \\nAsia-Afrika pada 1958.\\nKonferensi yang terinspirasi oleh Konferensi Asia-Afrika 1955 \\ndi Bandung ini mempertemukan dan mendiskusikan bersama \\nmasalah-masalah mendasar yang dialami oleh perempuan dan \\n103\\nBAB 2: DEMOKRASI LIBERAL HINGGA DEMOKRASI TERPIMPIN (1950—1966)\\nanak di negara-negara Asia dan Afrika. Kongres Wanita Indonesia \\nmenjadi salah satu dari lima inisiator konferensi, di samping \\nWomen’s Welfare League of Union of Burma, The All Ceylon \\nWomen’s Conference, The All India Women’s Conference, dan \\nAll Pakistan Women’s Association. Sebanyak 120 delegasi dari 18 \\nnegara Asia dan Afrika hadir. Mereka mendiskusikan enam tema \\nsentral, yaitu kesehatan, pendidikan, wanita dan kewarganegaraan, \\nperbudakaan serta perdagangan wanita dan anak, masalah \\nperburuhan, dan kerjasama erat di antara wanita Asia dan Afrika.\\nDikutip dari: Utama, W.S. (2022). “Maria Ulfah dan Dunia Poskolonial Asia \\nyang Humanis” dalam Tirto.id. https://tirto.id/maria-ulfah-dan-dunia-\\nposkolonial-asia-yang-humanis-gpFC \\nDengan mempertimbangkan foto dan kutipan di atas, analisislah \\nposisi dan peran para aktivis dan organisasi Kowani dalam konstelasi \\npergerakan perempuan Asia Afrika di tengah Perang Dingin!'}, {'id': '75f218c9a1341be9b298ed3848d7c055__chunk_0092', 'content': 'Poesponegoro, Marwati Djoned, dan Nugroho Notosusanto. Sejarah Nasional \\nIndonesia, Jilid IV. (Jakarta : Balai Pustaka, 1993)\\nPrapti, L. (2015). “Analisis Dampak Pembangunan Infrastruktur Jalan \\nTerhadap Pertumbuhan Usaha Ekonomi Rakyat di Kota Semarang”. \\nJurnal  Dinamika Sosbud Vol. 17 No.2.\\nPrasojo, E. (2013).  “RUU Aparatur Sipil Negara”, Koran Kompas. Terbit 29 \\nApril 2013.\\nMestika Zed, Indonesia dalam Arus Sejarah (jilid 6), \\xa0Perang dan Revolusi, \\n(Jakarta: PT Ichtiar Baru van Houve & Kementerian Pendidikan dan \\nKebudayaan Republik Indonesia, 2012)\\nRaditya, I.N. (2019). “Sejarah Nasakom: Upaya Sukarno Menyatukan Tiga \\nKekuatan Politik” dalam Tirto.id (https://tirto.id/sejarah-nasakom-\\nupaya-sukarno-menyatukan-tiga-kekuatan-politik-dnlt) \\nRahardjo, Pamoe. Gerilya dan Diplomasi: Operasi Hayam Wuruk Sebuah Epik \\nDalam Revolusi. (Jakarta: Yayasan Mencerdaskan Kehidupan Bangsa, \\n1996)\\n201\\nRatmanto, Aan. Kronik Tentara Nasional Indonesia 1945-1949. (Yogyakarta: \\nMatapadi Pressindo, 2013)\\nReeve, David, (2013), Golkar: Sejarah yang hilang, akar pemikiran dan \\ndinamika. Jakarta: Komunitas Bambu.\\nRetna, Sri Astuti. 1990. Peranan Dapur Umum pada Masa Revolusi 1945-1949 \\ndi DIY Sebuah Studi Awal. (Yogyakarta : BKSNT)\\nRicklefs, M.C. (2008). Sejarah Indonesia Modern 1200-2008. Jakarta: PT \\nSerambil Ilmu Semesta.\\nRidjal, F. (1993). Dinamika Gerakan Perempuan di Indonesia. Yogyakarta: \\nTiara Wacana.\\nRomli, L. (2011). “Reformasi Partai Politik dan Sistem Kepartaian di \\nIndonesia”. Jurnal Politica, Vol. 2 No.2, (2011).\\nSalamah, L. (2008). Meninjau Kembali Konflik Perang Dingin: Liberalisme \\nvs Komunisme.\\xa0Media Jurnal Global dan Strategi,\\xa02. http://journal.unair.\\nac.id/download-fullpapers-jgs20ab5bfc222full.pdf \\nSanit, A. (1985). Perwakilan Politik di Indonesia. Jakarta: Rajawali.\\nSekretariat Negara Republik Indonesia. (1975). 30 Tahun Indonesia Merdeka, \\nJilid 1, 1945-1950. Setneg RI.\\nSelian, D.L. dan Cairin Merlina. (2018). “Kebebasan Berekspresi Di Era \\nDemokrasi: Catatan Penegakan Hak Asasi Manusia”. Jurnal Lex Scientia \\nReview Vol. 2, No. 2.\\nSESKOAD, Serangan Umum 1 Maret 1949 di Yogyakarta, Latar Belakang dan \\nPengaruhnya, cetakan ke-5, (Jakarta: PT. Citra Lamtoro Gung Persada, \\n1993)\\nSetiawan, A. (2020). “Tonggak-tonggak Gerakan Perempuan Indonesia” \\ndalam Historia.id (https://historia.id/politik/articles/tonggak-tonggak-\\ngerakan-perempuan-indonesia-vogLG/page/1) \\n202\\nSetiawan, Nugraha . Tt. Satu Abad Transmigrasi Indonesia: Perjalanan \\nSejarah Pelaksanaan, 1905-2005. Bandung: Pustaka Ilmiah UNPAD \\ndapat diakses pada https://pustaka.unpad.ac.id/archives/6704 \\nShajuddin, S. (2019, September). Gerakan DI/TII Di Sulawesi Selatan dalam \\nKajian Sumber Sejarah Lisan 1950-1965 dalam Seminar Series in \\nHumanities and Social Sciences\\xa0(No. 1). https://journal.unhas.ac.id/index.\\nphp/SSIHSS/article/view/7626 \\nSoebagijo I.N (penyunting). Perjuangan Pelajar IPI-IPPI. (Jakarta: Balai \\nPustaka, 1987)\\nSoekarno. (1964). Di bawah Bendera Revolusi, vol. I dan II. Djakarta: Panitya \\nPenerbit Di bawah Bendera Revolusi.\\nSoraya, S., & Abdurakhman, A. (2019). “Jalan Panjang Penumpasan \\nPemberontakan DI/TII Jawa Barat, 1949–1962”. Jurnal Middle East and \\nIslamic Studies,\\xa06(1), 120-134.\\nStarke, J.G. Pengantar Hukum Internasional. Terjemahan Bambang Iriana \\nDjajaatmadja, S.H. (Jakarta: Sinar Grafika, 2000)\\nSuleman, Z. (2010). Demokrasi untuk Indonesia: Pemikiran Politik Bung \\nHatta. Jakarta: Kompas.\\nSuprayitno. Mencoba (Lagi) Menjadi Indonesia, Dari Federalisme ke \\nUnitarisme: \\nStuditentang \\nNegara \\nSumatera \\nTimur \\n1947-1950. \\n(Yogyakarta: Yayasan  Untuk Indonesia, 2001)\\nSuryakusuma, \\nJulia \\n(2011), \\nIbuisme \\nNegara \\nKonstruksi \\nSosial \\nKeperempuanan Orde Baru. Jakarta: Komunitas Bambu.\\n Suryani, D. (2016). Melihat Relasi Daerah Dan Negara Tahun 1950-An Dengan \\nMembongkar Narasi Besar Sejarah.\\xa0 Jurnal Penelitian Politik,\\xa0 9(2), 9. \\nhttp://ejournal.politik.lipi.go.id/index.php/jpp/article/view/428/0'}, {'id': '75f218c9a1341be9b298ed3848d7c055__chunk_0035', 'content': 'memindai kode QR berikut ini.\\n53\\nBAB 1: PERJUANGAN MEMPERTAHANKAN KEMERDEKAAN\\nJelang pertengahan 1950, RIS hanya menyisakan tiga negara yaitu \\nNegara Sumatera Timur, Negara Indonesia Timur, dan RI. Pada tanggal 3—5 \\nMei 1950 diadakan perundingan yang menyepakati pembentukan NKRI. \\nAkan tetapi, pembentukan NKRI tidaklah semudah menggabungkan negara \\nbagian RIS ke RI. Hal ini berhubungan dengan pengakuan kedaulatan dari \\ndunia internasional karena yang diakui  kedaulatannya dalam KMB adalah \\nRIS. Solusi pemecahan persoalan ini adalah dengan mengubah konstitusi \\nRIS yang berbentuk negara federal menjadi NKRI. Akhirnya, Presiden \\nSukarno mengganti RIS dengan Negara Kesatuan Republik Indonesia pada \\n17 Agustus 1950.\\nE.\\t Peran Rakyat dalam Revolusi Nasional \\nPersoalan upaya mempertahankan kemerdekaan bukan hanya berada \\npada pundak para elite negara dan militer, melainkan seluruh lapisan \\nrakyat Indonesia. Dengan semboyan “Merdeka atau Mati”, rakyat Indonesia \\nrela bertaruh nyawa dan bahu-membahu untuk mempertahankan \\nkemerdekaan Indonesia. Berikut berbagai peran masyarakat Indonesia \\npada masa Revolusi Nasional.\\n1.\\t Peran Perempuan\\nPemerintah RI menyerukan para perempuan yang sebelumnya tergabung \\ndalam Fujinkai (organisasi wanita bentukan Jepang) agar masuk dalam \\nberbagai wadah organisasi perempuan Indonesia. Dengan demikian, \\npara perempuan Indonesia segera dapat menyalurkan tenaganya untuk \\nkepentingan perjuangan, terutama dalam bidang-bidang sosial. Menarik \\nuntuk dicermati, meski sebagian besar tidak turut langsung memanggul \\nsenjata dalam perlawanan, kaum perempuan seringkali berada di garis \\ndepan sebagai informan dan penyalur kebutuhan para pejuang. Di beberapa \\ndaerah, para istri dan remaja putri mengorganisasi diri untuk memenuhi \\nkebutuhan logistik, obat-obatan, bahkan pembiayaan perang. Selama masa \\nRevolusi, perempuan Indonesia berjuang melalui berbagai cara sesuai \\ndengan kemampuan dan kondisi daerah masing-masing. \\n54\\nSEJARAH UNTUK SMA/MA KELAS XII\\na.\\t Peran Medis dan Kesehatan\\nDalam situasi perang yang rentan menimbulkan korban, bidang medis \\ndan kesehatan menjadi faktor penunjang penting bagi perjuangan \\nmempertahankan kemerdekaan. Di Aceh, para perempuan anggota \\nPalang Merah Indonesia membentuk satuan tugas yang selalu siaga \\ndikirim dan diberangkatkan ke medan laga untuk menolong korban \\nperang. Sementara itu, para perempuan di Sulawesi Utara berulang \\nkali berjuang untuk menerobos blokade dan pertahanan Belanda \\nuntuk mencari obat-obatan yang saat itu sukar diperoleh. Peran serupa \\njuga dilakukan oleh anggota perempuan palang merah di Bali. Mereka \\nmenjalin kontak rahasia dengan rekan di kota-kota untuk menyalurkan \\nbantuan ke desa dan daerah gerilya. Dengan ketrampilannya, para \\nperempuan Bali ini juga meramu berbagai tanaman obat untuk \\nmengatasi kekurangan obat-obatan. Di Indonesia timur, para \\nperempuan Maluku juga berperan aktif sebagai tenaga sukarela di \\nberbagai rumah sakit sebagai tenaga perawat. Bahkan, tak sedikit \\ndari mereka yang membantu perjuangan di Jawa. Pada masa Agresi \\nMiliter Belanda, para tenaga medis dari Maluku ini tercatat bertugas \\nmemeriksa para pengungsi yang berpindah dan datang ke Yogyakarta.\\nb.\\t Pendidikan\\nMeski di masa perang, pendidikan terhadap generasi penerus bangsa \\ntetap harus dilaksanakan. Selepas kemerdekan, pelajar putri di Aceh \\ndiberian pelatihan kepanduan untuk melatih kemampuan intelijen \\ndan perkembangan fisik, semangat, dan cinta tanah air. Saat Revolusi \\npecah, para perempuan di Aceh menjadi guru sukarela untuk mendidik \\nanak-anak bangsa dan memberantas buta huruf di Sekolah Rendah. Hal \\nserupa juga dilakukan para perempuan pejuang di Tondano dengan \\nmendirikan Yayasan Pendidikan Bangsa pada November 1945. Yayasan \\nini mendirikan Sekolah Menengah Rendah Kebangsaan (SMRK). \\nSekolah ini senantiasa juga menyisipkan semangat kemerdekaan dan \\nkebangsaan secara sembunyi-sembunyi di setiap pembelajarannya.\\n55\\nBAB 1: PERJUANGAN MEMPERTAHANKAN KEMERDEKAAN\\nc.'}, {'id': '75f218c9a1341be9b298ed3848d7c055__chunk_0036', 'content': 'b.\\t Pendidikan\\nMeski di masa perang, pendidikan terhadap generasi penerus bangsa \\ntetap harus dilaksanakan. Selepas kemerdekan, pelajar putri di Aceh \\ndiberian pelatihan kepanduan untuk melatih kemampuan intelijen \\ndan perkembangan fisik, semangat, dan cinta tanah air. Saat Revolusi \\npecah, para perempuan di Aceh menjadi guru sukarela untuk mendidik \\nanak-anak bangsa dan memberantas buta huruf di Sekolah Rendah. Hal \\nserupa juga dilakukan para perempuan pejuang di Tondano dengan \\nmendirikan Yayasan Pendidikan Bangsa pada November 1945. Yayasan \\nini mendirikan Sekolah Menengah Rendah Kebangsaan (SMRK). \\nSekolah ini senantiasa juga menyisipkan semangat kemerdekaan dan \\nkebangsaan secara sembunyi-sembunyi di setiap pembelajarannya.\\n55\\nBAB 1: PERJUANGAN MEMPERTAHANKAN KEMERDEKAAN\\nc.\\t\\nDapur Umum  dan Logistik\\nKeberlangsungan perjuangan mempertahankan kemerdekaan tidak \\nakan lama apabila tidak ada asupan makanan yang memadai. Karenanya, \\nkeberadaan dapur umum yang dikelola oleh para perempuan berperan \\nsangat penting dalam perjuangan. Tak heran, keberadaan markas para \\npejuang selalu diiringi dengan keberadaan dapur umum. Di Maluku, \\npara istri dan remaja putri Barisan Pejuang Indonesia mendirikan \\ndapur umum untuk menyediakan makanan serta tempat tinggal \\nbagi para pejuang dan pengungsi. Para istri ini juga menjadi tulang \\npunggung untuk menafkahi keluarga di saat suami mereka berperang \\ndi garis depan. Sementara itu di Aceh, selain membuat dapur umum \\nuntuk gerilyawan, para perempuan Aceh secara spontan dan sukarela \\nmenggalang dana dengan cara memberikan perhiasan dan barang \\nberharga lainnya. Dana itu salah satunya digunakan untuk pembelian \\npesawat Dakora RI-001 Seulawah, pesawat pertama milik RI. \\n \\nBerkat perjuangannya di dapur umum, Ibu Ruswo tidak \\nhanya mendapat medali penghargaan dari pemerintah \\nRI, tetapi namanya juga diabadikan sebagai menjadi \\nnama jalan di Yogyakarta. Kalian bisa menyimak lika-liku \\nperjuangan Ibu Ruswo melalui video bertajuk “Ibu Ruswo: \\nPembakar Api Revolusi dari Dapur Umum” di tautan \\nhttps://www.youtube.com/watch?v=uFgeWFgdeKc.\\nKalian juga bisa memindai kode QR di samping.\\n56\\nSEJARAH UNTUK SMA/MA KELAS XII\\n2.\\t Peran Seniman dan Sastrawan\\nDibanding para politisi dan militer, peran para \\nseniman dan sastrawan memang kurang menonjol \\ndalam catatan sejarah. Namun, peran mereka \\ndalam per\\xadjuangan kemerdekaan cukup penting \\ndan masih bisa kita nikmati hingga saat ini. \\nSebagai bentuk ekspresi diri, karya para seniman \\ndi masa kemerdekaan membangkitkan semangat \\njuang dan menggerakkan rakyat untuk melawan \\npenjajah. Karya ini ada yang dituangkan dalam \\nmedium tembok dan selebaran, ada juga yang \\nmengisi ilustrasi atau karikatur di surat kabar. \\nMereka menggunakan alat dan media yang sangat \\nsederhana untuk berkarya. Namun, keterbatasan \\ntersebut tidak menghalangi para seniman untuk \\nmenyebarkan semangat perjuangan.\\nGambar 1.30\\nPoster karya seniman \\nIndonesia yang menolak \\nkeberadaan kembali \\nBelanda di Indonesia \\nselepas proklamasi \\nkemerdekaan. \\nSumber:Nationaalarchief.nl (1946)\\n57\\nBAB 1: PERJUANGAN MEMPERTAHANKAN KEMERDEKAAN\\nPeristiwa perang kemerdekaan dan masa revolusi rupanya ikut \\nmembentuk dan mengasah karakter seniman lukis Indonesia. Seniman \\nyang mengalami masa revolusi memiliki rekaman situasi kehidupan pada \\nmasa perjuangan fisik yang dituang melalui karya. Beberapa maestro lukis \\nIndonesia seperti S. Sudjojono, Affandi, Dullah, dan Hendra Gunawan \\nadalah contohnya.  \\nBeberapa lukisan masa Perang kemerdekaan di antaranya:\\nGambar 1.31\\nSumber:Affandi/Repro IVAA (1946)\\nGambar 1.32\\nSumber:Dullah/Repro IVAA (1949)\\nLaskar Rakjat Mengatoer \\nSiasat (1946). Karya Affandi \\nini menggambarkan 4 \\norang laskar yang sedang \\nmengamati sebuah peta.\\nPersiapan Gerilja (1949). Karya \\nDullah ini menggambarkan \\nsuasana para pejuang dengan \\nberbagai aktivitasnya sebelum \\nberangkat bergerilya. Lukisan \\nini menjadi sampul buku Di \\nBawah Bendera Revolusi Jilid 1 \\noleh Sukarno.\\n58\\nSEJARAH UNTUK SMA/MA KELAS XII'}]\n",
      "C\n"
     ]
    }
   ],
   "source": [
    "# Let's try the tool first\n",
    "print(retrieve_tool(\"Kapan Gerakan perempuan?\")[:1])"
   ]
  },
  {
   "cell_type": "markdown",
   "id": "702f06ec-6501-40fb-b1e7-f710efc4b184",
   "metadata": {},
   "source": [
    "# Create langgraph chat agent"
   ]
  },
  {
   "cell_type": "code",
   "execution_count": 48,
   "id": "e16a766b-194c-4cf7-ab0d-399bfa00be99",
   "metadata": {},
   "outputs": [],
   "source": [
    "# Prepare library\n",
    "## LLM related\n",
    "import os\n",
    "import json\n",
    "from langchain.chat_models import init_chat_model\n",
    "\n",
    "## State related\n",
    "from typing import Annotated, Literal\n",
    "from typing_extensions import TypedDict\n",
    "\n",
    "## Graph Related\n",
    "from langgraph.graph import StateGraph, START, END\n",
    "from langgraph.graph.message import add_messages\n",
    "from langchain_core.messages import SystemMessage, HumanMessage, AIMessage, AnyMessage\n",
    "\n",
    "## Graph Related Memory\n",
    "import sqlite3\n",
    "from langgraph.checkpoint.sqlite import SqliteSaver"
   ]
  },
  {
   "cell_type": "code",
   "execution_count": 49,
   "id": "2da868ef-0442-4482-aa8c-3458371e8a70",
   "metadata": {},
   "outputs": [],
   "source": [
    "# Check if you already prepare the environment file\n",
    "api_version = \"2024-12-01-preview\"\n",
    "langchain_model_name = \"azure_openai:gpt-4\" # Adjust based on what you deployed \n",
    "\n",
    "for key in [\"AZURE_OAI_ENDPOINT\", \"AZURE_OAI_KEY\", \"AZURE_OAI_CHAT_DEPLOYMENT\"]:\n",
    "    if not os.getenv(key):\n",
    "        raise ValueError(f\"{key} is not provided\")"
   ]
  },
  {
   "cell_type": "code",
   "execution_count": 50,
   "id": "982d8d00-181e-4284-9e8c-83fd26773f58",
   "metadata": {},
   "outputs": [],
   "source": [
    "# Prepare langgraph state \n",
    "class State(TypedDict):\n",
    "    messages: Annotated[list[AnyMessage], add_messages] # To keep chat threads"
   ]
  },
  {
   "cell_type": "code",
   "execution_count": 56,
   "id": "70f70f2d-a41d-4c1a-9986-8ba972f05201",
   "metadata": {},
   "outputs": [],
   "source": [
    "# Prepare Graph\n",
    "## Prepare langgraph llm initialization\n",
    "os.environ[\"AZURE_OPENAI_API_KEY\"] = os.getenv(\"AZURE_OAI_KEY\")\n",
    "os.environ[\"AZURE_OPENAI_ENDPOINT\"] = os.getenv(\"AZURE_OAI_ENDPOINT\")\n",
    "os.environ[\"OPENAI_API_VERSION\"] = api_version\n",
    "\n",
    "chat_llm = init_chat_model(\n",
    "    langchain_model_name,\n",
    "    azure_deployment=os.environ[\"AZURE_OAI_CHAT_DEPLOYMENT\"],\n",
    ")\n",
    "\n",
    "## Prepare tool integration with the llm\n",
    "tools = [retrieve_tool]\n",
    "tools_by_name = {tool.name: tool for tool in tools}\n",
    "chat_llm_with_tools = chat_llm.bind_tools(tools)\n",
    "\n",
    "## Define Node for LLM\n",
    "def llm_node(state: State):\n",
    "    \"\"\"LLM decides whether to call a tool or not\"\"\"\n",
    "    return {\n",
    "        \"messages\": [\n",
    "            chat_llm_with_tools.invoke(\n",
    "                [\n",
    "                    SystemMessage(\n",
    "                        content=(\n",
    "                            \"You are a helpful assistant that can do retrieval using the retrieval tools.\"\n",
    "                            \"The retrieval tools helps you to get data. Analyze the user intention and decide wether you need to use tools or not.\"\n",
    "                            \"When retrieving documents, cite the document id as link with the cite number\"\n",
    "                        )\n",
    "                    )\n",
    "                ]\n",
    "                + state[\"messages\"]\n",
    "            )\n",
    "        ],\n",
    "    }\n",
    "\n",
    "## Define Node for Tool Calling\n",
    "def retrieve_tool_node(state: State):\n",
    "    \"\"\"Performs the tool call\"\"\"\n",
    "\n",
    "    result = []\n",
    "    for tool_call in state[\"messages\"][-1].tool_calls:\n",
    "        tool = tools_by_name[tool_call[\"name\"]]\n",
    "        observation = tool.invoke(tool_call[\"args\"])\n",
    "        result.append(ToolMessage(content=observation, tool_call_id=tool_call[\"id\"]))\n",
    "    return {\"messages\": result}\n",
    "\n",
    "\n",
    "## Define Condition when to use tools\n",
    "def llm_node_conditions(state: State) -> Literal[\"retrieve_tool_node\", END]:\n",
    "    \"\"\"Decide if we should continue the loop or stop based upon whether the LLM made a tool call\"\"\"\n",
    "\n",
    "    messages = state[\"messages\"]\n",
    "    last_message = messages[-1]\n",
    "    # If the LLM makes a tool call, then perform an action\n",
    "    if last_message.tool_calls:\n",
    "        return \"retrieve_tool_node\"\n",
    "    # Otherwise, we stop (reply to the user)\n",
    "    return END"
   ]
  },
  {
   "cell_type": "code",
   "execution_count": 57,
   "id": "4757ad05-0577-4b9a-a4ea-2da7e008dd37",
   "metadata": {},
   "outputs": [
    {
     "data": {
      "text/plain": [
       "<langgraph.graph.state.StateGraph at 0x11642e000>"
      ]
     },
     "execution_count": 57,
     "metadata": {},
     "output_type": "execute_result"
    }
   ],
   "source": [
    "# Build Graph\n",
    "## Prepare Graph Builder\n",
    "graph_builder = StateGraph(State)\n",
    "\n",
    "## Add nodes\n",
    "graph_builder.add_node(\"llm_node\", llm_node)\n",
    "graph_builder.add_node(\"retrieve_tool_node\", retrieve_tool_node)\n",
    "\n",
    "## Add edges\n",
    "graph_builder.add_edge(START, \"llm_node\")\n",
    "graph_builder.add_conditional_edges(\n",
    "    \"llm_node\",\n",
    "    llm_node_conditions,\n",
    "    [\"retrieve_tool_node\", END]\n",
    ")\n",
    "graph_builder.add_edge(\"retrieve_tool_node\", \"llm_node\")"
   ]
  },
  {
   "cell_type": "code",
   "execution_count": 58,
   "id": "be3cebb4-4cf1-4727-be93-8f1997965886",
   "metadata": {},
   "outputs": [
    {
     "data": {
      "image/png": "[encoded data removed]",
      "text/plain": [
       "<langgraph.graph.state.CompiledStateGraph object at 0x11642f290>"
      ]
     },
     "metadata": {},
     "output_type": "display_data"
    }
   ],
   "source": [
    "# Compile Graph w/ Saving the State\n",
    "\n",
    "## Prepare Database for Saving the state (checkpoint)\n",
    "conn = sqlite3.connect(\"checkpoints.sqlite\", check_same_thread=False)\n",
    "memory = SqliteSaver(conn)\n",
    "\n",
    "## Prepare the graph\n",
    "graph = graph_builder.compile(checkpointer=memory)\n",
    "\n",
    "display(graph)"
   ]
  },
  {
   "cell_type": "markdown",
   "id": "0899a788-8052-423d-8c94-d8bb0f858c93",
   "metadata": {},
   "source": [
    "# Let's Chat w/ Tools"
   ]
  },
  {
   "cell_type": "code",
   "execution_count": 59,
   "id": "119d504d-79e6-4e72-b60d-8ad23d115206",
   "metadata": {},
   "outputs": [],
   "source": [
    "def stream_chat(chat_id: str):\n",
    "    config = {\"configurable\": {\"thread_id\": chat_id}}\n",
    "    while True:\n",
    "        user_input = input(\"> \")\n",
    "        if user_input in [\"q\", \"quit\", \"\\\\q\"]:\n",
    "            print(\"Goodbye!\")\n",
    "            break\n",
    "        messages = [HumanMessage(content=user_input)]\n",
    "        for chunk in graph.stream({\"messages\": messages}, stream_mode=\"updates\", config=config):\n",
    "            print(chunk)\n",
    "            print(\"\\n\")"
   ]
  },
  {
   "cell_type": "code",
   "execution_count": 60,
   "id": "400c5d62-9852-48c8-b3b3-b029c2e94e7e",
   "metadata": {},
   "outputs": [
    {
     "name": "stdin",
     "output_type": "stream",
     "text": [
      ">  What's my first questions?\n"
     ]
    },
    {
     "name": "stdout",
     "output_type": "stream",
     "text": [
      "{'llm_node': {'messages': [AIMessage(content='Your first question was \"Halo!\" which is a greeting in Indonesian.', additional_kwargs={'refusal': None}, response_metadata={'token_usage': {'completion_tokens': 16, 'prompt_tokens': 25148, 'total_tokens': 25164, 'completion_tokens_details': None, 'prompt_tokens_details': None}, 'model_name': 'gpt-4-turbo-2024-04-09', 'system_fingerprint': 'fp_5603ee5e2e', 'id': 'chatcmpl-CGGtBEehueD6MLlg0eGey68d5GQ69', 'service_tier': None, 'prompt_filter_results': [{'prompt_index': 0, 'content_filter_results': {'hate': {'filtered': False, 'severity': 'safe'}, 'jailbreak': {'filtered': False, 'detected': False}, 'self_harm': {'filtered': False, 'severity': 'safe'}, 'sexual': {'filtered': False, 'severity': 'safe'}, 'violence': {'filtered': False, 'severity': 'safe'}}}], 'finish_reason': 'stop', 'logprobs': None, 'content_filter_results': {'hate': {'filtered': False, 'severity': 'safe'}, 'self_harm': {'filtered': False, 'severity': 'safe'}, 'sexual': {'filtered': False, 'severity': 'safe'}, 'violence': {'filtered': False, 'severity': 'safe'}}}, id='run--5728d973-93da-4536-a8bf-ab8ab1b059d4-0', usage_metadata={'input_tokens': 25148, 'output_tokens': 16, 'total_tokens': 25164, 'input_token_details': {}, 'output_token_details': {}})]}}\n",
      "\n",
      "\n"
     ]
    },
    {
     "name": "stdin",
     "output_type": "stream",
     "text": [
      ">  No, i mean the questions!\n"
     ]
    },
    {
     "name": "stdout",
     "output_type": "stream",
     "text": [
      "{'llm_node': {'messages': [AIMessage(content='Oh, I see! Your first question was about wanting to find out about Indonesian independence. You asked for a very clear answer on the topic.', additional_kwargs={'refusal': None}, response_metadata={'token_usage': {'completion_tokens': 30, 'prompt_tokens': 25178, 'total_tokens': 25208, 'completion_tokens_details': None, 'prompt_tokens_details': None}, 'model_name': 'gpt-4-turbo-2024-04-09', 'system_fingerprint': 'fp_5603ee5e2e', 'id': 'chatcmpl-CGGtRsHdDdnGi0rp6NQJuHcpJB9Ul', 'service_tier': None, 'prompt_filter_results': [{'prompt_index': 0, 'content_filter_results': {'hate': {'filtered': False, 'severity': 'safe'}, 'jailbreak': {'filtered': False, 'detected': False}, 'self_harm': {'filtered': False, 'severity': 'safe'}, 'sexual': {'filtered': False, 'severity': 'safe'}, 'violence': {'filtered': False, 'severity': 'safe'}}}], 'finish_reason': 'stop', 'logprobs': None, 'content_filter_results': {'hate': {'filtered': False, 'severity': 'safe'}, 'self_harm': {'filtered': False, 'severity': 'safe'}, 'sexual': {'filtered': False, 'severity': 'safe'}, 'violence': {'filtered': False, 'severity': 'safe'}}}, id='run--554bf207-09b3-4b2f-9067-5e699b6cff54-0', usage_metadata={'input_tokens': 25178, 'output_tokens': 30, 'total_tokens': 25208, 'input_token_details': {}, 'output_token_details': {}})]}}\n",
      "\n",
      "\n"
     ]
    },
    {
     "name": "stdin",
     "output_type": "stream",
     "text": [
      ">  q\n"
     ]
    },
    {
     "name": "stdout",
     "output_type": "stream",
     "text": [
      "Goodbye!\n"
     ]
    }
   ],
   "source": [
    "## Prepare the graph session for the checkpoint\n",
    "chat_id = \"unique-id-07\"\n",
    "stream_chat(chat_id)"
   ]
  },
  {
   "cell_type": "code",
   "execution_count": null,
   "id": "7c165af5-b3d6-4ae9-b389-1bf373046cd1",
   "metadata": {},
   "outputs": [],
   "source": []
  }
 ],
 "metadata": {
  "kernelspec": {
   "display_name": "Python 3 (ipykernel)",
   "language": "python",
   "name": "python3"
  },
  "language_info": {
   "codemirror_mode": {
    "name": "ipython",
    "version": 3
   },
   "file_extension": ".py",
   "mimetype": "text/x-python",
   "name": "python",
   "nbconvert_exporter": "python",
   "pygments_lexer": "ipython3",
   "version": "3.12.11"
  }
 },
 "nbformat": 4,
 "nbformat_minor": 5
}
