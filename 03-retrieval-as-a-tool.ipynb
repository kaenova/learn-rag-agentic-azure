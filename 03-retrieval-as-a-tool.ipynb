{
 "cells": [
  {
   "cell_type": "markdown",
   "id": "2ae12f82-de31-41d5-8c1b-dadf77779603",
   "metadata": {},
   "source": [
    "# Retrieval as a Tool\n",
    "\n",
    "Where in the last usage, the retrieval is defined by graph so it can clearly what every steps doing. In the production use, we would like the retrieval as a tool. In this notebook, we will try to create a tool based on the last notebook."
   ]
  },
  {
   "cell_type": "code",
   "execution_count": 72,
   "id": "1beae1b1-44da-4ea0-a2eb-4eca0aa1b528",
   "metadata": {},
   "outputs": [
    {
     "data": {
      "text/plain": [
       "True"
      ]
     },
     "execution_count": 72,
     "metadata": {},
     "output_type": "execute_result"
    }
   ],
   "source": [
    "# Prepare environment variable\n",
    "# You should check env.example file\n",
    "# It's needed throughout this jupyter notebook\n",
    "import os\n",
    "from dotenv import load_dotenv\n",
    "load_dotenv()"
   ]
  },
  {
   "cell_type": "markdown",
   "id": "f8603791-3c51-4593-8854-b1fdb53b7553",
   "metadata": {},
   "source": [
    "# Retrieval Tool\n",
    "\n",
    "Creating tools meaning we are only doing what the tools intendeed, let the summarizer by the agent it self"
   ]
  },
  {
   "cell_type": "code",
   "execution_count": 73,
   "id": "f214cf88-46ba-43fe-8897-83e266e3745a",
   "metadata": {},
   "outputs": [],
   "source": [
    "# Prepare library\n",
    "## AI Search related\n",
    "import langchain_community.vectorstores.azuresearch as azuresearch\n",
    "from langchain_community.vectorstores.azuresearch import AzureSearch\n",
    "from langchain_openai import AzureOpenAIEmbeddings\n",
    "\n",
    "## LLM related\n",
    "import os\n",
    "import json\n",
    "from langchain.chat_models import init_chat_model\n",
    "\n",
    "## Tool creation related\n",
    "from langchain_core.tools import tool\n",
    "from langchain_core.messages import SystemMessage, HumanMessage, AIMessage, AnyMessage, ToolMessage"
   ]
  },
  {
   "cell_type": "code",
   "execution_count": 74,
   "id": "66c22b0e-9d2e-4ecb-bdc8-9cce4ba82c45",
   "metadata": {},
   "outputs": [],
   "source": [
    "# Check if you already prepare the environment file\n",
    "index_name = \"kaenova-testing-3\" # You can change it, if you want to\n",
    "api_version = \"2024-12-01-preview\"\n",
    "langchain_model_name = \"azure_openai:gpt-4\" # Adjust based on what you deployed \n",
    "\n",
    "for key in [\"AZURE_AIS_ENDPOINT\", \"AZURE_AIS_KEY\", \"AZURE_OAI_ENDPOINT\", \"AZURE_OAI_KEY\", \"AZURE_OAI_DEPLOYMENT\", \"AZURE_OAI_CHAT_DEPLOYMENT\"]:\n",
    "    if not os.getenv(key):\n",
    "        raise ValueError(f\"{key} is not provided\")"
   ]
  },
  {
   "cell_type": "code",
   "execution_count": 75,
   "id": "1c86ddfa-db20-4e6e-9953-c56efe6b18c9",
   "metadata": {},
   "outputs": [],
   "source": [
    "# !important you may change this. Map the fields into the connector library\n",
    "azuresearch.FIELDS_CONTENT = \"chunk\"\n",
    "azuresearch.FIELDS_CONTENT_VECTOR = \"chunk_vector\"\n",
    "azuresearch.FIELDS_ID = \"id\""
   ]
  },
  {
   "cell_type": "code",
   "execution_count": 76,
   "id": "dd614b0d-21de-445a-a5dc-6c85e3c51290",
   "metadata": {},
   "outputs": [],
   "source": [
    "# Prepare the embedding function\n",
    "embeddings : AzureOpenAIEmbeddings = AzureOpenAIEmbeddings(\n",
    "    azure_deployment=os.getenv(\"AZURE_OAI_DEPLOYMENT\"),\n",
    "    openai_api_version=api_version,\n",
    "    azure_endpoint=os.getenv(\"AZURE_OAI_ENDPOINT\"),\n",
    "    api_key=os.getenv(\"AZURE_OAI_KEY\"),\n",
    ")\n",
    "\n",
    "embeddings_function = embeddings.embed_query"
   ]
  },
  {
   "cell_type": "code",
   "execution_count": 77,
   "id": "f1cc862a-61c0-4c9b-b129-0b18c11a208a",
   "metadata": {},
   "outputs": [],
   "source": [
    "# Create Azure AI Search client\n",
    "vector_store: AzureSearch = AzureSearch(\n",
    "    azure_search_endpoint=os.getenv(\"AZURE_AIS_ENDPOINT\"),\n",
    "    azure_search_key=os.getenv(\"AZURE_AIS_KEY\"),\n",
    "    index_name=index_name,\n",
    "    embedding_function=embeddings.embed_query,\n",
    ")"
   ]
  },
  {
   "cell_type": "code",
   "execution_count": 78,
   "id": "d3c8c055-e67c-4de0-aa6c-61881775a47e",
   "metadata": {},
   "outputs": [],
   "source": [
    "# Prepare LLM for query Expander\n",
    "os.environ[\"AZURE_OPENAI_API_KEY\"] = os.getenv(\"AZURE_OAI_KEY\")\n",
    "os.environ[\"AZURE_OPENAI_ENDPOINT\"] = os.getenv(\"AZURE_OAI_ENDPOINT\")\n",
    "os.environ[\"OPENAI_API_VERSION\"] = api_version\n",
    "\n",
    "chat_llm = init_chat_model(\n",
    "    langchain_model_name,\n",
    "    azure_deployment=os.environ[\"AZURE_OAI_CHAT_DEPLOYMENT\"],\n",
    ")"
   ]
  },
  {
   "cell_type": "code",
   "execution_count": 79,
   "id": "47e63b9e-2b35-4580-a789-b80df7394c61",
   "metadata": {},
   "outputs": [],
   "source": [
    "# Define the steps of retrieval flow\n",
    "def expand_query(questions: str) -> list[str]:\n",
    "    system_prompt = (\n",
    "        \"You're a search query expander, you'll get a user question and you need to create multiple concise, keyworded, and general search query\"\n",
    "        \"That'll be injected to the Azure AI Search\"\n",
    "        \"Return the question only in JSON array without any codeblocks\"\n",
    "        \"You'll only return like \\'[\\\"query_1\\\", \\\"query_2\\\", \\\"query_3\\\", \\\"query_4\\\", \\\"query_5\\\"]\\'\"\n",
    "    )\n",
    "\n",
    "    valid = False\n",
    "    data = []\n",
    "    while not valid:\n",
    "        result = chat_llm.invoke([SystemMessage(content=system_prompt), HumanMessage(content=questions)])\n",
    "        print(\"[expand_query] llm_result\", result.content)\n",
    "        \n",
    "        try:\n",
    "            data = json.loads(result.content)\n",
    "            if type(data) is list:\n",
    "                valid = True\n",
    "        except:\n",
    "            print(\"[expand_query] not a valid value\")\n",
    "\n",
    "    return data\n",
    "\n",
    "def unique_dicts(list_of_dicts):\n",
    "    \"\"\"\n",
    "    Returns a unique list of dictionaries based on the 'id' key.\n",
    "\n",
    "    Args:\n",
    "        list_of_dicts: A list of dictionaries.\n",
    "\n",
    "    Returns:\n",
    "        A new list containing only the unique dictionaries.\n",
    "    \"\"\"\n",
    "    unique_ids = set()\n",
    "    unique_list = []\n",
    "    for d in list_of_dicts:\n",
    "        if d['id'] not in unique_ids:\n",
    "            unique_ids.add(d['id'])\n",
    "            unique_list.append(d)\n",
    "    return unique_list\n",
    "\n",
    "def retrieve_documents(questions: list[str]) -> list[str]:\n",
    "    retrieved_chunks = []\n",
    "    for question in questions:\n",
    "        answers = vector_store.semantic_hybrid_search(\n",
    "            query=question, k=3,\n",
    "        )\n",
    "        for x in answers:\n",
    "            chunk_data = {\n",
    "                \"id\": x.metadata['id'],\n",
    "                \"content\": x.page_content\n",
    "            }\n",
    "            retrieved_chunks.append(chunk_data)\n",
    "    final_chunks = unique_dicts(retrieved_chunks)\n",
    "    return final_chunks"
   ]
  },
  {
   "cell_type": "code",
   "execution_count": 80,
   "id": "bedbcc02-d06a-469e-8bec-5488d86eeaf1",
   "metadata": {},
   "outputs": [],
   "source": [
    "# Creating the tool itself\n",
    "\n",
    "@tool\n",
    "def retrieve_tool(questions: str) -> list[str]:\n",
    "    \"\"\"Tool to retrieve document based on the questions related. This will return a json of related documents. Mainly this is a Indonesian Document, so your questions should be in Indonesian.\"\"\"\n",
    "    generated_questions = expand_query(questions)\n",
    "    data = retrieve_documents(generated_questions)\n",
    "    print(\"[retrieve_tool]\", str(data))\n",
    "    tool_output = \"Chunk Data\\n```\"\n",
    "    for x in data:\n",
    "        tool_output += f\"\\n<data><id>{x[\"id\"]}</id><chunk>{x[\"content\"]}</chunk>/data>\"\n",
    "    tool_output += \"\\n```\"\n",
    "    return tool_output"
   ]
  },
  {
   "cell_type": "code",
   "execution_count": 81,
   "id": "2a4f6c62-5552-4507-8c03-4741a62dbf52",
   "metadata": {},
   "outputs": [
    {
     "name": "stdout",
     "output_type": "stream",
     "text": [
      "[expand_query] llm_result [\"Sejarah gerakan perempuan\", \"Timeline gerakan hak perempuan\", \"Perkembangan gerakan feminisme\", \"Kapan dimulai gerakan perempuan?\", \"Milestones penting gerakan perempuan\"]\n",
      "[retrieve_tool] [{'id': '75f218c9a1341be9b298ed3848d7c055__chunk_0045', 'content': 'banyak kelompok yang memiliki massa, baik yang berbasis ideologi \\npolitik maupun agama. Kekuatan kelompok tersebut memunculkan warna \\nyang beragam pada identitas nasional dan berbagai peristiwa sejarah di \\nIndonesia. Beberapa di antaranya akan dibahas pada subbab berikut.\\n1.\\t Gerakan Perempuan \\nGerakan Perempuan pada tahun 1950—1960 merupakan salah satu \\nperiode pergerakan paling progresif setelah tahun 1928. Pada periode ini \\nbanyak organisasi perempuan yang berafiliasi dengan kekuatan-kekuatan \\norganisasi massa yang besar. Sebagai contoh Aisyiah dari Muhammadiyah, \\nMuslimat dari Masyumi, Muslimat Nahdlatul Ulama (NU) dari NU, Perwari, \\ndan juga Gerakan Wanita Istri Sedar (Gerwis). Gerwis merupakan gabungan \\ndari ratusan aktivis dan berbagai organisasi perempuan, misalnya Rukun \\nPutri Indonesia, Persatuan Wanita Sedar, Isteri Sedar, Gerakan Wanita \\nIndonesia, dan Perjuangan Putri Republik Indonesia. Pada kongres pertama \\ntahun 1951, Gerwis berubah nama menjadi Gerwani (Gerakan Wanita \\nIndonesia). Pada tahun 1954 PKI memanfaatkan organisasi ini untuk \\nmenggalang suara pada Pemilu 1955.\\nGambar 2.6 Beberapa organisasi perempuan berdemo menentang PP No. 19 Tahun 1952. \\nPeraturan pemerintah ini secara implisit mendukung poligini di kalangan pegawai negeri.\\nSumber: Repro Historia (2018)\\n82\\nSEJARAH UNTUK SMA/MA KELAS XII\\nSelain terkait dengan basis massa yang besar, terdapat isu krusial yang \\ndiangkat pada tahun 1950an di antaranya adalah UU Perkawinan dan \\nisu poligami. Kalangan organisasi maupun aktivis perempuan, menilai \\nperlunya dibentuk komisi khusus yang merancang hukum perkawinan \\nyang berpihak pada perempuan. Untuk itu dibentuk Komisi NTR (Nikah, \\nTalak, Rujuk). Polemik pembuatan UU Perkawinan masih bergulir sampai \\ndengan berakhirnya pemerintahan Sukarno dan akhirnya dapat disahkan \\npada tahun 1974. \\nSejarah Hari (Perjuangan) Ibu\\nGerakan sosial perempuan ditandai dengan terselenggaranya kongres \\npada 22—25 Desember 1928. Kongres ini memperjuangkan semangat \\nperempuan dalam berkiprah. Mengingat pentingnya peristiwa tersebut dan \\nuntuk mengapresiasi langkah yang dilakukan oleh organisasi perempuan, \\nPresiden Sukarno mencanangkan 22 Desember sebagai peringatan Hari \\nIbu melalui SK no. 316 tanggal 18 Desember 1959. Sejak ditetapkannya surat \\nkeputusan itu, seluruh bangsa Indonesia memperingati Hari Ibu pada 22 \\nDesember. Tujuannya agar dapat mengenang dan menghayati semangat \\nkebangkitan kaum perempuan Indonesia. Apresiasi terhadap perjuangan \\nkaum perempuan layak dilakukan untuk menguatkan pikiran, tekad, dan \\nsemangat dalam memperbaiki serta meningkatkan hak, kewajiban, dan \\nkedudukan perempuan. \\nApabila kalian ingin menggali lebih dalam mengenai \\nsejarah gerakan perempuan di Indonesia, kalian dapat \\nmembaca berbagai buku, artikel, jurnal, atau laman bacaan \\npopuler berikut: https://historia.id/politik/articles/tonggak-\\ntonggak-gerakan-perempuan-indonesia-vogLG/page/3  \\nKalian juga bisa memindai kode QR berikut.\\nVIVA HISTORIA\\n83\\nBAB 2: DEMOKRASI LIBERAL HINGGA DEMOKRASI TERPIMPIN (1950—1966)\\nSumber: \\nI Gusti Agung Ayu Ratih dkk, 2016, Merayakan Ibu Bangsa, Jakarta: Direktorat Sejarah, \\nKementerian Pendidikan dan Kebudayaan.\\nAndri Setiawan, 2020. “Tonggak-tonggak Gerakan Perempuan Indonesia”. Historia. \\nDapat diakses pada https://historia.id/politik/articles/tonggak-tonggak-gerakan-\\nperempuan-indonesia-vogLG/page/3\\n 2.\\t Pemilihan Umum Pertama\\nSebagai negara yang baru melewati masa kemerdekaannya, Indonesia \\nmelaksanakan pemilihan umum pertama kali pada tahun 1955. Apakah \\nkalian pernah membayangkan bagaimana awal mula dan jalannya Pemilu \\npertama di Indonesia? \\nGambar 2.7 Suasana pada saat penghitungan surat suara Pemilu 1955 di TPS Kelurahan \\nKemayoran yang berlangsung hingga malam, 29 September 1955.\\nSumber: Dokumentasi ANRI/CNN Indonesia (2018)\\n84\\nSEJARAH UNTUK SMA/MA KELAS XII\\nPada masa Demokrasi Liberal, perubahan kabinet terus-menerus \\nterjadi. Ini tentu saja menimbulkan ketidakstabilan politik di Indonesia.'}, {'id': '75f218c9a1341be9b298ed3848d7c055__chunk_0064', 'content': 'terencana ialah dr. Sulianti Saroso.  \\nPahlawan pejuang kesehatan masyarakat \\nIndonesia lainnya ialah dokter Johannes \\nLeimena (Bapak Puskesmas Indonesia) dan \\ndr. Gerrit Augustinus Siwabessy (pelopor \\nPuskesmas). Lewat puskesmas, usaha untuk \\nmengintegrasikan \\npelayanan \\nkesehatan \\nmasyarakat hingga ke pelosok dapat terwujud. \\nUntuk mewujudkan masyarakat Indonesia yang \\nsehat, pada tahun 1984, Menteri Kesehatan, \\nbersama dengan Kepala Badan Kependudukan \\ndan Keluarga Berencana Nasional (BKKN), dan \\nMenteri Dalam Negeri mengeluarkan instruksi \\nGambar 3.12 Ibu Tien Soeharto \\nsedang melaksanakan kegiatan \\nimunisasi di Puskesmas.\\nSumber:Back Tohir/ Sekretariat Negara (1990)\\n127\\nBAB 3: INDONESIA MASA ORDE BARU (1966—1998)\\nbersama. Instruksi bersama ini berusaha mengintegrasikan kegiatan \\nmasyarakat untuk mempercepat penurunan angka kematian Ibu dan \\nBayi dalam satu wadah Pos Pelayanan Terpadu (Posyandu). Terdapat lima \\nkegiatan posyandu, yaitu Kesehatan Ibu dan Anak (KIA), KB, imunisasi, \\npendidikan gizi, dan penanggulangan diare. Gerakan tersebut kemudian \\ndicanangkan oleh Presiden Soeharto pada tahun 1986 di Yogyakarta.\\nDi bidang pendidikan, Presiden Soeharto juga melakukan beberapa \\ngebrakan, di antaranya pemberantasan buta aksara, gerakan wajib \\nbelajar 9 tahun, dan pembangunan SD Inpres hingga ke daerah pelosok. \\nPemberantasan buta aksara masa Orde Baru mulai dicanangkan pada 16 \\nAgustus 1978 dengan menyasar kelompok masyarakat usia produktif yang \\nbelum melek aksara dengan pembentukan Kelompok Belajar “Kejar”. \\nWajib belajar 9 tahun adalah gerakan yang dicanangkan pada 2 Mei 1994 \\ndengan mewajibkan anak usia 7—15 tahun untuk sekolah. Kebijakan \\nini kemudian diperkuat dengan Instruksi Presiden. Loncatan kebijakan \\nSoeharto ini membuat jumlah peserta didik naik secara signifikan. Akan \\ntetapi, sayangnya ini tidak diimbangi dengan perbaikan kualitas dan \\npertumbuhan mutu pendidikan.\\nGerakan perempuan pada masa Orde Baru mengalami sentralisasi. \\nPenunjukan Kongres Wanita Indonesia (Kowani) sebagai organisasi semua \\nkelompok perempuan mem\\xadperlihatkan watak patriarki dan melemahkan \\norganisasi perempuan lain yang sudah ada (Mariana, 2015: 120). Kemitraan \\nKowani dengan Kementerian Urusan Peranan Wanita memang memberikan \\nruang bagi organisasi perempuan untuk ikut serta dan berpartisipasi \\ndalam pembangunan maupun kegiatan sosial politik (Suryakusuma, 2011: \\n18). Akan tetapi, pada kenyataannya pemerintah Orde Baru memaksa agar \\ngerakan perempuan mendukung tujuan pembangunan pemerintah. Hal ini \\nmenyebabkan organisasi perempuan tidak leluasa bergerak dan berinovasi \\nmaupun menyalurkan kritiknya terhadap kebijakan pemerintah.\\n128\\nSEJARAH UNTUK SMA/MA KELAS XII\\nJalan Panjang Usaha Pengendalian Jumlah Penduduk\\nProgram Transmigrasi dan Keluarga Berencana di Indonesia merupakan \\nsalah satu ikon keberhasilan Orde Baru. Program transmigrasi sebenarnya \\ntelah dilakukan sejak masa Hindia Belanda pada tahun 1905. Program ini \\nterus dilanjutkan pada masa pemerintahan Presiden Sukarno, Orde Baru, \\nhingga masa Reformasi. Jika kalian tertarik dengan sejarah transmigrasi \\ndi Indonesia, kalian bisa mengunjungi Museum Transmigrasi di Provinsi \\nLampung yang menyimpan memori dari para transmigran yang menetap \\ndi Lampung. \\nSelain faktor perpindahan penduduk, naik turunnya jumlah penduduk \\ndi suatu wilayah dipengaruhi juga oleh wabah penyakit. Semenjak terjadi \\npandemi Covid-19 di Indonesia, nama dr. Sulianti Saroso tenar sebagai \\nnama sebuah rumah sakit penyakit infeksi (RSPI) yang sering menjadi \\nrujukan awal di kala pandemi. RSPI ini juga menjadi pusat penelitian \\npenyakit menular di Indonesia. Namun, tak banyak orang yang mengenal \\nsosok dr. Sulianti Saroso yang berperan penting dalam perjalanan usaha \\npengendalian jumlah penduduk dan kesehatan masyarakat di Indonesia. \\nKiprah beliau sebagai sosok dokter pejuang yang pantang menyerah telah \\ndiabadikan dalam sebuah film dokumenter sejarah karya Miles Film yang'}, {'id': '75f218c9a1341be9b298ed3848d7c055__chunk_0044', 'content': 'Merdeka yang \\ndikeluarkan oleh \\nPos Indonesia \\nsebagai peringatan \\n25 tahun KAA  di \\nBandung\\nSumber: Pos Indonesia/ \\nPublic Domain (1980)\\nGambar 2.5 \\nPerangko \\nPeringatan \\nKonferensi \\nMahasiswa Asia \\nAfrika di Bandung \\npada 1956\\nSumber: Pos Indonesia/ \\nPublic Domain (1956)\\n79\\nBAB 2: DEMOKRASI LIBERAL HINGGA DEMOKRASI TERPIMPIN (1950—1966)\\n1.\\t Menghormati hak-hak dasar manusia dan tujuan-tujuan serta \\nasas-asas yang termuat di dalam piagam PBB (Perserikatan \\nBangsa-Bangsa)\\n2.\\t Menghormati kedaulatan dan integritas teritorial semua bangsa\\n3.\\t Mengakui persamaan semua suku bangsa dan persamaan \\nsemua bangsa, besar maupun kecil\\n4.\\t Tidak melakukan intervensi atau campur tangan dalam soalan-\\nsoalan dalam negeri negara lain\\n5.\\t Menghormati hak-hak setiap bangsa untuk mempertahankan diri \\nsecara sendirian ataupun kolektif yang sesuai dengan Piagam \\nPBB\\n6.\\t Tidak menggunakan peraturan-peraturan dari pertahanan \\nkolektif untuk bertindak bagi kepentingan khusus dari salah satu \\nnegara besar dan tidak melakukannya terhadap negara lain\\n7.\\t Tidak melakukan tindakan-tindakan ataupun ancaman agresi \\nmaupun penggunaan kekerasan terhadap integritas wilayah \\nmaupun kemerdekaan politik suatu negara\\n8.\\t Menyelesaikan segala perselisihan internasional dengan jalan \\ndamai, seperti perundingan, persetujuan, arbitrasi, ataupun cara \\ndamai lainnya, menurut pilihan pihak-pihak yang bersangkutan \\nsesuai dengan Piagam PBB\\n9.\\t Memajukan kepentingan bersama dan kerjasama\\n10.\\t Menghormati hukum dan kewajiban–kewajiban internasional\\nDasa Sila Bandung\\n80\\nSEJARAH UNTUK SMA/MA KELAS XII\\nArsip KAA telah ditetapkan oleh UNESCO sebagai \\nWarisan Ingatan Dunia (Memory of the World). Proses \\npengajuan kepada UNESCO sebenarnya telah dilakukan \\nsejak tahun 2012 oleh negara-negara sponsor KAA, yaitu \\nIndonesia, India, Pakistan, Srilanka, dan Myanmar. \\nUNESCO kemudian menyetujuinya pada tahun 2015.\\nJika kalian tertarik untuk mempelajari lebih lanjut \\ntentang peristiwa ini serta pengaruhnya terhadap \\nsejarah Indonesia dan dunia, kalian dapat berkunjung \\nsecara langsung ke Museum KAA di Bandung.  Kalian \\ndapat melihat berbagai foto, arsip, maupun berbagai \\nartefak yang menjadi sumber sejarah KAA 1955. \\nSaat ini Perang Dingin antara Amerika Serikat dengan Uni \\nSoviet telah berakhir. Banyak negara di Asia dan Afrika yang \\nsudah mendapatkan kemerdekaannya. Apakah tatanan politik \\ndunia menjadi lebih baik setelah berakhirnya Perang Dingin? \\nBagaimanakah relevansi GNB di masa kini? Apa yang dapat \\nkalian lakukan menghidupkan kembali Semangat Bandung?\\nKalian juga bisa mengunjungi museum KAA secara virtual \\nmelalui laman https://museumkaa.iheritage.id/public/ atau \\nmemindai kode QR berikut ini\\nVIVA HISTORIA\\nREFLEKSI\\n81\\nBAB 2: DEMOKRASI LIBERAL HINGGA DEMOKRASI TERPIMPIN (1950—1966)\\nB.\\tKetersebaran Kekuatan dan Identitas Nasional Baru\\nTahukah kalian kapan Indonesia melaksanakan pemilu pertama? \\nPartai mana yang meraih suara terbanyak dalam pemilu legislatif pertama? \\nUntuk dapat menjawab pertanyaan tersebut kalian perlu melihat peta \\nkekuatan dan kekuasaan politik yang ada sepanjang tahun 1950—1960-\\nan. Pada masa Demokrasi Liberal hingga Demokrasi Terpimpin terdapat \\nbanyak kelompok yang memiliki massa, baik yang berbasis ideologi \\npolitik maupun agama. Kekuatan kelompok tersebut memunculkan warna \\nyang beragam pada identitas nasional dan berbagai peristiwa sejarah di \\nIndonesia. Beberapa di antaranya akan dibahas pada subbab berikut.\\n1.\\t Gerakan Perempuan \\nGerakan Perempuan pada tahun 1950—1960 merupakan salah satu \\nperiode pergerakan paling progresif setelah tahun 1928. Pada periode ini \\nbanyak organisasi perempuan yang berafiliasi dengan kekuatan-kekuatan \\norganisasi massa yang besar. Sebagai contoh Aisyiah dari Muhammadiyah, \\nMuslimat dari Masyumi, Muslimat Nahdlatul Ulama (NU) dari NU, Perwari, \\ndan juga Gerakan Wanita Istri Sedar (Gerwis). Gerwis merupakan gabungan \\ndari ratusan aktivis dan berbagai organisasi perempuan, misalnya Rukun'}, {'id': '75f218c9a1341be9b298ed3848d7c055__chunk_0092', 'content': 'Poesponegoro, Marwati Djoned, dan Nugroho Notosusanto. Sejarah Nasional \\nIndonesia, Jilid IV. (Jakarta : Balai Pustaka, 1993)\\nPrapti, L. (2015). “Analisis Dampak Pembangunan Infrastruktur Jalan \\nTerhadap Pertumbuhan Usaha Ekonomi Rakyat di Kota Semarang”. \\nJurnal  Dinamika Sosbud Vol. 17 No.2.\\nPrasojo, E. (2013).  “RUU Aparatur Sipil Negara”, Koran Kompas. Terbit 29 \\nApril 2013.\\nMestika Zed, Indonesia dalam Arus Sejarah (jilid 6), \\xa0Perang dan Revolusi, \\n(Jakarta: PT Ichtiar Baru van Houve & Kementerian Pendidikan dan \\nKebudayaan Republik Indonesia, 2012)\\nRaditya, I.N. (2019). “Sejarah Nasakom: Upaya Sukarno Menyatukan Tiga \\nKekuatan Politik” dalam Tirto.id (https://tirto.id/sejarah-nasakom-\\nupaya-sukarno-menyatukan-tiga-kekuatan-politik-dnlt) \\nRahardjo, Pamoe. Gerilya dan Diplomasi: Operasi Hayam Wuruk Sebuah Epik \\nDalam Revolusi. (Jakarta: Yayasan Mencerdaskan Kehidupan Bangsa, \\n1996)\\n201\\nRatmanto, Aan. Kronik Tentara Nasional Indonesia 1945-1949. (Yogyakarta: \\nMatapadi Pressindo, 2013)\\nReeve, David, (2013), Golkar: Sejarah yang hilang, akar pemikiran dan \\ndinamika. Jakarta: Komunitas Bambu.\\nRetna, Sri Astuti. 1990. Peranan Dapur Umum pada Masa Revolusi 1945-1949 \\ndi DIY Sebuah Studi Awal. (Yogyakarta : BKSNT)\\nRicklefs, M.C. (2008). Sejarah Indonesia Modern 1200-2008. Jakarta: PT \\nSerambil Ilmu Semesta.\\nRidjal, F. (1993). Dinamika Gerakan Perempuan di Indonesia. Yogyakarta: \\nTiara Wacana.\\nRomli, L. (2011). “Reformasi Partai Politik dan Sistem Kepartaian di \\nIndonesia”. Jurnal Politica, Vol. 2 No.2, (2011).\\nSalamah, L. (2008). Meninjau Kembali Konflik Perang Dingin: Liberalisme \\nvs Komunisme.\\xa0Media Jurnal Global dan Strategi,\\xa02. http://journal.unair.\\nac.id/download-fullpapers-jgs20ab5bfc222full.pdf \\nSanit, A. (1985). Perwakilan Politik di Indonesia. Jakarta: Rajawali.\\nSekretariat Negara Republik Indonesia. (1975). 30 Tahun Indonesia Merdeka, \\nJilid 1, 1945-1950. Setneg RI.\\nSelian, D.L. dan Cairin Merlina. (2018). “Kebebasan Berekspresi Di Era \\nDemokrasi: Catatan Penegakan Hak Asasi Manusia”. Jurnal Lex Scientia \\nReview Vol. 2, No. 2.\\nSESKOAD, Serangan Umum 1 Maret 1949 di Yogyakarta, Latar Belakang dan \\nPengaruhnya, cetakan ke-5, (Jakarta: PT. Citra Lamtoro Gung Persada, \\n1993)\\nSetiawan, A. (2020). “Tonggak-tonggak Gerakan Perempuan Indonesia” \\ndalam Historia.id (https://historia.id/politik/articles/tonggak-tonggak-\\ngerakan-perempuan-indonesia-vogLG/page/1) \\n202\\nSetiawan, Nugraha . Tt. Satu Abad Transmigrasi Indonesia: Perjalanan \\nSejarah Pelaksanaan, 1905-2005. Bandung: Pustaka Ilmiah UNPAD \\ndapat diakses pada https://pustaka.unpad.ac.id/archives/6704 \\nShajuddin, S. (2019, September). Gerakan DI/TII Di Sulawesi Selatan dalam \\nKajian Sumber Sejarah Lisan 1950-1965 dalam Seminar Series in \\nHumanities and Social Sciences\\xa0(No. 1). https://journal.unhas.ac.id/index.\\nphp/SSIHSS/article/view/7626 \\nSoebagijo I.N (penyunting). Perjuangan Pelajar IPI-IPPI. (Jakarta: Balai \\nPustaka, 1987)\\nSoekarno. (1964). Di bawah Bendera Revolusi, vol. I dan II. Djakarta: Panitya \\nPenerbit Di bawah Bendera Revolusi.\\nSoraya, S., & Abdurakhman, A. (2019). “Jalan Panjang Penumpasan \\nPemberontakan DI/TII Jawa Barat, 1949–1962”. Jurnal Middle East and \\nIslamic Studies,\\xa06(1), 120-134.\\nStarke, J.G. Pengantar Hukum Internasional. Terjemahan Bambang Iriana \\nDjajaatmadja, S.H. (Jakarta: Sinar Grafika, 2000)\\nSuleman, Z. (2010). Demokrasi untuk Indonesia: Pemikiran Politik Bung \\nHatta. Jakarta: Kompas.\\nSuprayitno. Mencoba (Lagi) Menjadi Indonesia, Dari Federalisme ke \\nUnitarisme: \\nStuditentang \\nNegara \\nSumatera \\nTimur \\n1947-1950. \\n(Yogyakarta: Yayasan  Untuk Indonesia, 2001)\\nSuryakusuma, \\nJulia \\n(2011), \\nIbuisme \\nNegara \\nKonstruksi \\nSosial \\nKeperempuanan Orde Baru. Jakarta: Komunitas Bambu.\\n Suryani, D. (2016). Melihat Relasi Daerah Dan Negara Tahun 1950-An Dengan \\nMembongkar Narasi Besar Sejarah.\\xa0 Jurnal Penelitian Politik,\\xa0 9(2), 9. \\nhttp://ejournal.politik.lipi.go.id/index.php/jpp/article/view/428/0'}, {'id': '75f218c9a1341be9b298ed3848d7c055__chunk_0035', 'content': 'memindai kode QR berikut ini.\\n53\\nBAB 1: PERJUANGAN MEMPERTAHANKAN KEMERDEKAAN\\nJelang pertengahan 1950, RIS hanya menyisakan tiga negara yaitu \\nNegara Sumatera Timur, Negara Indonesia Timur, dan RI. Pada tanggal 3—5 \\nMei 1950 diadakan perundingan yang menyepakati pembentukan NKRI. \\nAkan tetapi, pembentukan NKRI tidaklah semudah menggabungkan negara \\nbagian RIS ke RI. Hal ini berhubungan dengan pengakuan kedaulatan dari \\ndunia internasional karena yang diakui  kedaulatannya dalam KMB adalah \\nRIS. Solusi pemecahan persoalan ini adalah dengan mengubah konstitusi \\nRIS yang berbentuk negara federal menjadi NKRI. Akhirnya, Presiden \\nSukarno mengganti RIS dengan Negara Kesatuan Republik Indonesia pada \\n17 Agustus 1950.\\nE.\\t Peran Rakyat dalam Revolusi Nasional \\nPersoalan upaya mempertahankan kemerdekaan bukan hanya berada \\npada pundak para elite negara dan militer, melainkan seluruh lapisan \\nrakyat Indonesia. Dengan semboyan “Merdeka atau Mati”, rakyat Indonesia \\nrela bertaruh nyawa dan bahu-membahu untuk mempertahankan \\nkemerdekaan Indonesia. Berikut berbagai peran masyarakat Indonesia \\npada masa Revolusi Nasional.\\n1.\\t Peran Perempuan\\nPemerintah RI menyerukan para perempuan yang sebelumnya tergabung \\ndalam Fujinkai (organisasi wanita bentukan Jepang) agar masuk dalam \\nberbagai wadah organisasi perempuan Indonesia. Dengan demikian, \\npara perempuan Indonesia segera dapat menyalurkan tenaganya untuk \\nkepentingan perjuangan, terutama dalam bidang-bidang sosial. Menarik \\nuntuk dicermati, meski sebagian besar tidak turut langsung memanggul \\nsenjata dalam perlawanan, kaum perempuan seringkali berada di garis \\ndepan sebagai informan dan penyalur kebutuhan para pejuang. Di beberapa \\ndaerah, para istri dan remaja putri mengorganisasi diri untuk memenuhi \\nkebutuhan logistik, obat-obatan, bahkan pembiayaan perang. Selama masa \\nRevolusi, perempuan Indonesia berjuang melalui berbagai cara sesuai \\ndengan kemampuan dan kondisi daerah masing-masing. \\n54\\nSEJARAH UNTUK SMA/MA KELAS XII\\na.\\t Peran Medis dan Kesehatan\\nDalam situasi perang yang rentan menimbulkan korban, bidang medis \\ndan kesehatan menjadi faktor penunjang penting bagi perjuangan \\nmempertahankan kemerdekaan. Di Aceh, para perempuan anggota \\nPalang Merah Indonesia membentuk satuan tugas yang selalu siaga \\ndikirim dan diberangkatkan ke medan laga untuk menolong korban \\nperang. Sementara itu, para perempuan di Sulawesi Utara berulang \\nkali berjuang untuk menerobos blokade dan pertahanan Belanda \\nuntuk mencari obat-obatan yang saat itu sukar diperoleh. Peran serupa \\njuga dilakukan oleh anggota perempuan palang merah di Bali. Mereka \\nmenjalin kontak rahasia dengan rekan di kota-kota untuk menyalurkan \\nbantuan ke desa dan daerah gerilya. Dengan ketrampilannya, para \\nperempuan Bali ini juga meramu berbagai tanaman obat untuk \\nmengatasi kekurangan obat-obatan. Di Indonesia timur, para \\nperempuan Maluku juga berperan aktif sebagai tenaga sukarela di \\nberbagai rumah sakit sebagai tenaga perawat. Bahkan, tak sedikit \\ndari mereka yang membantu perjuangan di Jawa. Pada masa Agresi \\nMiliter Belanda, para tenaga medis dari Maluku ini tercatat bertugas \\nmemeriksa para pengungsi yang berpindah dan datang ke Yogyakarta.\\nb.\\t Pendidikan\\nMeski di masa perang, pendidikan terhadap generasi penerus bangsa \\ntetap harus dilaksanakan. Selepas kemerdekan, pelajar putri di Aceh \\ndiberian pelatihan kepanduan untuk melatih kemampuan intelijen \\ndan perkembangan fisik, semangat, dan cinta tanah air. Saat Revolusi \\npecah, para perempuan di Aceh menjadi guru sukarela untuk mendidik \\nanak-anak bangsa dan memberantas buta huruf di Sekolah Rendah. Hal \\nserupa juga dilakukan para perempuan pejuang di Tondano dengan \\nmendirikan Yayasan Pendidikan Bangsa pada November 1945. Yayasan \\nini mendirikan Sekolah Menengah Rendah Kebangsaan (SMRK). \\nSekolah ini senantiasa juga menyisipkan semangat kemerdekaan dan \\nkebangsaan secara sembunyi-sembunyi di setiap pembelajarannya.\\n55\\nBAB 1: PERJUANGAN MEMPERTAHANKAN KEMERDEKAAN\\nc.'}]\n",
      "C\n"
     ]
    }
   ],
   "source": [
    "# Let's try the tool first\n",
    "print(retrieve_tool(\"Kapan Gerakan perempuan?\")[:1])"
   ]
  },
  {
   "cell_type": "markdown",
   "id": "702f06ec-6501-40fb-b1e7-f710efc4b184",
   "metadata": {},
   "source": [
    "# Create langgraph chat agent"
   ]
  },
  {
   "cell_type": "code",
   "execution_count": 82,
   "id": "e16a766b-194c-4cf7-ab0d-399bfa00be99",
   "metadata": {},
   "outputs": [],
   "source": [
    "# Prepare library\n",
    "## LLM related\n",
    "import os\n",
    "import json\n",
    "from langchain.chat_models import init_chat_model\n",
    "\n",
    "## State related\n",
    "from typing import Annotated, Literal\n",
    "from typing_extensions import TypedDict\n",
    "\n",
    "## Graph Related\n",
    "from langgraph.graph import StateGraph, START, END\n",
    "from langgraph.graph.message import add_messages\n",
    "from langchain_core.messages import SystemMessage, HumanMessage, AIMessage, AnyMessage\n",
    "\n",
    "## Graph Related Memory\n",
    "import sqlite3\n",
    "from langgraph.checkpoint.sqlite import SqliteSaver"
   ]
  },
  {
   "cell_type": "code",
   "execution_count": 83,
   "id": "2da868ef-0442-4482-aa8c-3458371e8a70",
   "metadata": {},
   "outputs": [],
   "source": [
    "# Check if you already prepare the environment file\n",
    "api_version = \"2024-12-01-preview\"\n",
    "langchain_model_name = \"azure_openai:gpt-4\" # Adjust based on what you deployed \n",
    "\n",
    "for key in [\"AZURE_OAI_ENDPOINT\", \"AZURE_OAI_KEY\", \"AZURE_OAI_CHAT_DEPLOYMENT\"]:\n",
    "    if not os.getenv(key):\n",
    "        raise ValueError(f\"{key} is not provided\")"
   ]
  },
  {
   "cell_type": "code",
   "execution_count": 84,
   "id": "982d8d00-181e-4284-9e8c-83fd26773f58",
   "metadata": {},
   "outputs": [],
   "source": [
    "# Prepare langgraph state \n",
    "class State(TypedDict):\n",
    "    messages: Annotated[list[AnyMessage], add_messages] # To keep chat threads"
   ]
  },
  {
   "cell_type": "code",
   "execution_count": 85,
   "id": "70f70f2d-a41d-4c1a-9986-8ba972f05201",
   "metadata": {},
   "outputs": [],
   "source": [
    "# Prepare Graph\n",
    "## Prepare langgraph llm initialization\n",
    "os.environ[\"AZURE_OPENAI_API_KEY\"] = os.getenv(\"AZURE_OAI_KEY\")\n",
    "os.environ[\"AZURE_OPENAI_ENDPOINT\"] = os.getenv(\"AZURE_OAI_ENDPOINT\")\n",
    "os.environ[\"OPENAI_API_VERSION\"] = api_version\n",
    "\n",
    "chat_llm = init_chat_model(\n",
    "    langchain_model_name,\n",
    "    azure_deployment=os.environ[\"AZURE_OAI_CHAT_DEPLOYMENT\"],\n",
    ")\n",
    "\n",
    "## Prepare tool integration with the llm\n",
    "tools = [retrieve_tool]\n",
    "tools_by_name = {tool.name: tool for tool in tools}\n",
    "chat_llm_with_tools = chat_llm.bind_tools(tools)\n",
    "\n",
    "## Define Node for LLM\n",
    "def llm_node(state: State):\n",
    "    \"\"\"LLM decides whether to call a tool or not\"\"\"\n",
    "    return {\n",
    "        \"messages\": [\n",
    "            chat_llm_with_tools.invoke(\n",
    "                [\n",
    "                    SystemMessage(\n",
    "                        content=(\n",
    "                            \"You are a helpful assistant that can do retrieval using the retrieval tools.\"\n",
    "                            \"The retrieval tools helps you to get data. Analyze the user intention and decide wether you need to use tools or not.\"\n",
    "                            \"When retrieving documents, cite the document id\"\n",
    "                        )\n",
    "                    )\n",
    "                ]\n",
    "                + state[\"messages\"]\n",
    "            )\n",
    "        ],\n",
    "    }\n",
    "\n",
    "## Define Node for Tool Calling\n",
    "def retrieve_tool_node(state: State):\n",
    "    \"\"\"Performs the tool call\"\"\"\n",
    "\n",
    "    result = []\n",
    "    for tool_call in state[\"messages\"][-1].tool_calls:\n",
    "        tool = tools_by_name[tool_call[\"name\"]]\n",
    "        observation = tool.invoke(tool_call[\"args\"])\n",
    "        result.append(ToolMessage(content=observation, tool_call_id=tool_call[\"id\"]))\n",
    "    return {\"messages\": result}\n",
    "\n",
    "\n",
    "## Define Condition when to use tools\n",
    "def llm_node_conditions(state: State) -> Literal[\"retrieve_tool_node\", END]:\n",
    "    \"\"\"Decide if we should continue the loop or stop based upon whether the LLM made a tool call\"\"\"\n",
    "\n",
    "    messages = state[\"messages\"]\n",
    "    last_message = messages[-1]\n",
    "    # If the LLM makes a tool call, then perform an action\n",
    "    if last_message.tool_calls:\n",
    "        return \"retrieve_tool_node\"\n",
    "    # Otherwise, we stop (reply to the user)\n",
    "    return END"
   ]
  },
  {
   "cell_type": "code",
   "execution_count": 86,
   "id": "4757ad05-0577-4b9a-a4ea-2da7e008dd37",
   "metadata": {},
   "outputs": [
    {
     "data": {
      "text/plain": [
       "<langgraph.graph.state.StateGraph at 0x10fd08770>"
      ]
     },
     "execution_count": 86,
     "metadata": {},
     "output_type": "execute_result"
    }
   ],
   "source": [
    "# Build Graph\n",
    "## Prepare Graph Builder\n",
    "graph_builder = StateGraph(State)\n",
    "\n",
    "## Add nodes\n",
    "graph_builder.add_node(\"llm_node\", llm_node)\n",
    "graph_builder.add_node(\"retrieve_tool_node\", retrieve_tool_node)\n",
    "\n",
    "## Add edges\n",
    "graph_builder.add_edge(START, \"llm_node\")\n",
    "graph_builder.add_conditional_edges(\n",
    "    \"llm_node\",\n",
    "    llm_node_conditions,\n",
    "    [\"retrieve_tool_node\", END]\n",
    ")\n",
    "graph_builder.add_edge(\"retrieve_tool_node\", \"llm_node\")"
   ]
  },
  {
   "cell_type": "code",
   "execution_count": 87,
   "id": "be3cebb4-4cf1-4727-be93-8f1997965886",
   "metadata": {},
   "outputs": [
    {
     "data": {
      "image/png": "[encoded data removed]",
      "text/plain": [
       "<langgraph.graph.state.CompiledStateGraph object at 0x10fd0ba70>"
      ]
     },
     "metadata": {},
     "output_type": "display_data"
    }
   ],
   "source": [
    "# Compile Graph w/ Saving the State\n",
    "\n",
    "## Prepare Database for Saving the state (checkpoint)\n",
    "conn = sqlite3.connect(\"checkpoints.sqlite\", check_same_thread=False)\n",
    "memory = SqliteSaver(conn)\n",
    "\n",
    "## Prepare the graph\n",
    "graph = graph_builder.compile(checkpointer=memory)\n",
    "\n",
    "display(graph)"
   ]
  },
  {
   "cell_type": "markdown",
   "id": "0899a788-8052-423d-8c94-d8bb0f858c93",
   "metadata": {},
   "source": [
    "# Let's Chat w/ Tools"
   ]
  },
  {
   "cell_type": "code",
   "execution_count": 90,
   "id": "119d504d-79e6-4e72-b60d-8ad23d115206",
   "metadata": {},
   "outputs": [],
   "source": [
    "def stream_chat(chat_id: str):\n",
    "    config = {\"configurable\": {\"thread_id\": chat_id}}\n",
    "    while True:\n",
    "        user_input = input(\"> \")\n",
    "        if user_input in [\"q\", \"quit\", \"\\\\q\"]:\n",
    "            print(\"Goodbye!\")\n",
    "            break\n",
    "        messages = [HumanMessage(content=user_input)]\n",
    "        for chunk in graph.stream({\"messages\": messages}, stream_mode=\"updates\", config=config):\n",
    "            print(chunk)\n",
    "            print(\"\\n\")"
   ]
  },
  {
   "cell_type": "code",
   "execution_count": 91,
   "id": "400c5d62-9852-48c8-b3b3-b029c2e94e7e",
   "metadata": {},
   "outputs": [
    {
     "name": "stdin",
     "output_type": "stream",
     "text": [
      ">  Halo! ini prompt pertama saya\n"
     ]
    },
    {
     "name": "stdout",
     "output_type": "stream",
     "text": [
      "{'llm_node': {'messages': [AIMessage(content='Halo! Selamat datang! Apakah ada yang bisa saya bantu hari ini?', additional_kwargs={'refusal': None}, response_metadata={'token_usage': {'completion_tokens': 20, 'prompt_tokens': 113, 'total_tokens': 133, 'completion_tokens_details': None, 'prompt_tokens_details': None}, 'model_name': 'gpt-4-turbo-2024-04-09', 'system_fingerprint': 'fp_5603ee5e2e', 'id': 'chatcmpl-CGGFlFoyaF2ogZyUaWB4sXlS4ntnq', 'service_tier': None, 'prompt_filter_results': [{'prompt_index': 0, 'content_filter_results': {'hate': {'filtered': False, 'severity': 'safe'}, 'jailbreak': {'filtered': False, 'detected': False}, 'self_harm': {'filtered': False, 'severity': 'safe'}, 'sexual': {'filtered': False, 'severity': 'safe'}, 'violence': {'filtered': False, 'severity': 'safe'}}}], 'finish_reason': 'stop', 'logprobs': None, 'content_filter_results': {'hate': {'filtered': False, 'severity': 'safe'}, 'protected_material_code': {'filtered': False, 'detected': False}, 'protected_material_text': {'filtered': False, 'detected': False}, 'self_harm': {'filtered': False, 'severity': 'safe'}, 'sexual': {'filtered': False, 'severity': 'safe'}, 'violence': {'filtered': False, 'severity': 'safe'}}}, id='run--cc0fc1b4-b0a9-41fe-84fc-900cc210be2d-0', usage_metadata={'input_tokens': 113, 'output_tokens': 20, 'total_tokens': 133, 'input_token_details': {}, 'output_token_details': {}})]}}\n",
      "\n",
      "\n"
     ]
    },
    {
     "name": "stdin",
     "output_type": "stream",
     "text": [
      ">  Saya ingin mengetahui apa saja yang bisa kamu lakukan?\n"
     ]
    },
    {
     "name": "stdout",
     "output_type": "stream",
     "text": [
      "{'llm_node': {'messages': [AIMessage(content='Saya dapat membantu Anda dengan berbagai tugas, termasuk:\\n\\n1. **Mencari Informasi**: Saya dapat membantu mencari informasi atau dokumen yang berkaitan dengan pertanyaan Anda.\\n2. **Analisis Data**: Saya dapat membantu menganalisis data dan memberikan wawasan berdasarkan analisis tersebut.\\n3. **Ringkasan**: Saya dapat membuat ringkasan dari teks atau dokumen yang panjang.\\n4. **Penerjemahan Bahasa**: Saya bisa menerjemahkan teks ke berbagai bahasa.\\n5. **Pembelajaran dan Rekomendasi**: Saya dapat memberikan pelajaran tentang berbagai topik atau memberikan rekomendasi berdasarkan preferensi Anda.\\n6. **Bantuan Teknis**: Saya bisa membantu dengan pertanyaan atau masalah teknis yang mungkin Anda miliki.\\n\\nSilakan beritahu saya lebih spesifik tentang apa yang Anda perlukan bantuan, sehingga saya dapat memberikan jawaban atau solusi yang paling relevan!', additional_kwargs={'refusal': None}, response_metadata={'token_usage': {'completion_tokens': 233, 'prompt_tokens': 155, 'total_tokens': 388, 'completion_tokens_details': None, 'prompt_tokens_details': None}, 'model_name': 'gpt-4-turbo-2024-04-09', 'system_fingerprint': 'fp_5603ee5e2e', 'id': 'chatcmpl-CGGG3YTZiuT451f9k9edOzAHw3qSp', 'service_tier': None, 'prompt_filter_results': [{'prompt_index': 0, 'content_filter_results': {'hate': {'filtered': False, 'severity': 'safe'}, 'jailbreak': {'filtered': False, 'detected': False}, 'self_harm': {'filtered': False, 'severity': 'safe'}, 'sexual': {'filtered': False, 'severity': 'safe'}, 'violence': {'filtered': False, 'severity': 'safe'}}}], 'finish_reason': 'stop', 'logprobs': None, 'content_filter_results': {'hate': {'filtered': False, 'severity': 'safe'}, 'protected_material_code': {'filtered': False, 'detected': False}, 'protected_material_text': {'filtered': False, 'detected': False}, 'self_harm': {'filtered': False, 'severity': 'safe'}, 'sexual': {'filtered': False, 'severity': 'safe'}, 'violence': {'filtered': False, 'severity': 'safe'}}}, id='run--0e09918c-27f9-4ac3-bd72-79cb3223f347-0', usage_metadata={'input_tokens': 155, 'output_tokens': 233, 'total_tokens': 388, 'input_token_details': {}, 'output_token_details': {}})]}}\n",
      "\n",
      "\n"
     ]
    },
    {
     "name": "stdin",
     "output_type": "stream",
     "text": [
      ">  Bisakah kamu mencari mengenai tentang Bandung Lautan api? Itu kapan ya terjadinya?\n"
     ]
    },
    {
     "name": "stdout",
     "output_type": "stream",
     "text": [
      "{'llm_node': {'messages': [AIMessage(content='', additional_kwargs={'tool_calls': [{'id': 'call_kf4K2ImO3kQifpfJMrnbuzh6', 'function': {'arguments': '{\"questions\":\"When did the Bandung Sea of Fire occur?\"}', 'name': 'retrieve_tool'}, 'type': 'function'}], 'refusal': None}, response_metadata={'token_usage': {'completion_tokens': 23, 'prompt_tokens': 421, 'total_tokens': 444, 'completion_tokens_details': None, 'prompt_tokens_details': None}, 'model_name': 'gpt-4-turbo-2024-04-09', 'system_fingerprint': 'fp_5603ee5e2e', 'id': 'chatcmpl-CGGGeypXodL3BH2ygo0YsffxQpSXG', 'service_tier': None, 'prompt_filter_results': [{'prompt_index': 0, 'content_filter_results': {'hate': {'filtered': False, 'severity': 'safe'}, 'jailbreak': {'filtered': False, 'detected': False}, 'self_harm': {'filtered': False, 'severity': 'safe'}, 'sexual': {'filtered': False, 'severity': 'safe'}, 'violence': {'filtered': False, 'severity': 'safe'}}}], 'finish_reason': 'tool_calls', 'logprobs': None, 'content_filter_results': {}}, id='run--5a3383ae-093e-4832-9f3c-2a4227104291-0', tool_calls=[{'name': 'retrieve_tool', 'args': {'questions': 'When did the Bandung Sea of Fire occur?'}, 'id': 'call_kf4K2ImO3kQifpfJMrnbuzh6', 'type': 'tool_call'}], usage_metadata={'input_tokens': 421, 'output_tokens': 23, 'total_tokens': 444, 'input_token_details': {}, 'output_token_details': {}})]}}\n",
      "\n",
      "\n",
      "[expand_query] llm_result [\"Bandung Sea of Fire date\", \"historical events Bandung Sea of Fire\", \"when did Bandung Sea of Fire happen\", \"Bandung 1946 Sea of Fire event date\", \"Indonesia Bandung Sea of Fire timeline\"]\n",
      "[retrieve_tool] [{'id': '75f218c9a1341be9b298ed3848d7c055__chunk_0022', 'content': 'superior dan dalam suatu insiden menginjak lencana merah-putih yang \\ndikenakan oleh pemuda Indonesia. Insiden ini dianggap sebagai sebuah \\npenghinaan terhadap Indonesia dan menimbulkan konflik bersenjata yang \\ndimulai pada 13 Oktober 1945.\\nKalian dapat belajar lebih lanjut tentang pertempuran ini \\ndengan membaca artikel berikut https://tirto.id/sejarah-\\npertempuran-medan-area-f9sY\\nKalian juga bisa memindai kode QR di samping.\\nKalian juga bisa menyaksikan \\nvideo di tautan berikut\\nhttps://www.youtube.com/\\nwatch?v=6shJV_wXU9Y\\natau\\nhttps://www.dailymotion.\\ncom/video/x7j7f6l\\n23\\nBAB 1: PERJUANGAN MEMPERTAHANKAN KEMERDEKAAN\\nb.\\t Bandung Lautan Api\\nApakah kalian tahu lagu “Halo-Halo Bandung” karya Ismail Marzuki? \\nLagu itu mengisahkan salah satu konflik atau perjuangan bersenjata yang \\ndilakukan oleh bangsa Indonesia melawan Sekutu yang diboncengi oleh \\nNICA di Bandung. Tentara Sekutu mulai datang ke Bandung pada 12 Oktober \\n1945 dan menuntut agar rakyat Indonesia menyerahkan senjatanya. Selain \\nitu, mereka juga membebaskan orang-orang Belanda yang sebelumnya \\nditawan oleh Jepang di berbagai kamp interniran. Akan tetapi, para \\nmantan tawanan ini dan NICA bertindak arogan karena merasa mendapat \\ndukungan dari Sekutu. Sebagai akibatnya, markas Sekutu di Hotel Savoy \\nHoman diserang oleh orang-orang Indonesia pada 21 November 1945. \\nPihak Sekutu kemudian melayangkan serangan balik. Pertempuran demi \\npertempuran terus terjadi hingga Kolonel McDonald sebagai komando \\nSekutu di Bandung mengeluarkan ultimatum agar pejuang Indonesia \\nmeninggalkan Bandung pada tanggal 23 Maret 1946.  \\nGambar 1.14 Peristiwa Bandung Lautan Api. Kota Bandung bagian selatan dibakar oleh para \\npejuang sesaat sebelum ditinggalkan.\\nSumber: IPPHOS/ANRI (1946)\\n24\\nSEJARAH UNTUK SMA/MA KELAS XII\\nMelihat kekuatan senjata para pejuang saat itu sangat terbatas \\njika dibandingkan dengan Sekutu, Perdana Menteri Sjahrir yang tidak \\nmenginginkan terjadinya pertumpahan darah lebih lanjut kemudian \\nmenginstruksikan agar Tentara Republik Indonesia (TRI) mengosongkan \\nBandung. Sjahrir juga berusaha melakukan perundingan dengan pihak \\nInggris untuk menghindari konflik bersenjata yang akan memakan lebih \\nbanyak korban. Sementara itu, Kolonel Nasution dan beberapa perwira TRI \\nlainnya enggan untuk menyerahkan Bandung. Sebagai jalan tengah, mereka \\nmemutuskan untuk melakukan taktik bumi hangus dan meninggalkan \\nBandung bersama para penduduk sipil. Perintah Perdana Menteri tetap \\nditaati, tetapi Bandung selatan dibakar agar berbagai fasilitas yang ada di \\nsana tidak dapat dimanfaatkan oleh Sekutu. \\nKalian dapat belajar lebih lanjut tentang pertempuran ini \\ndengan membaca artikel berikut https://tirto.id/bandung-\\nlautan-api-jalan-tengah-pejuang-snY\\nKalian juga bisa memindai kode QR di samping.\\nKalian juga bisa menyaksikan \\nvideo di tautan berikut\\nhttps://www.youtube.com/\\nwatch?v=z8QkOshMR4E\\nc.\\t\\nPalagan Ambarawa\\nTentara Sekutu mulai mendarat di Semarang pada 20 Oktober 1945. \\nAwalnya mereka diterima dengan baik oleh pihak Indonesia. Gubernur \\nJawa Tengah, Mr Wongsonegoro, bahkan bersedia memberikan bantuan \\nmakanan dan dukungan lainnya agar Sekutu dapat menjalankan tugasnya \\nmelucuti senjata Jepang dan membebaskan para tawanan perang. Sekutu \\njuga berjanji tidak akan mengganggu kedaulatan Republik Indonesia. \\n25\\nBAB 1: PERJUANGAN MEMPERTAHANKAN KEMERDEKAAN\\nSikap bangsa Indonesia ini berbalik ketika mengetahui bahwa para \\nbekas tawanan perang yang telah dibebaskan di Magelang dan Ambarawa \\nitu justru dipersenjatai. Mereka juga berusaha melucuti senjata tentara \\nIndonesia. Inilah yang kemudian menyulut bentrokan antara pihak \\nIndonesia melawan Sekutu dan NICA. Pertempuran Ambarawa berjalan \\nsejak 21 November 1945 hingga 15 Desember 1945. Pasukan Indonesia \\nyang terdiri dari TKR dan laskar-laskar rakyat memperoleh kemenangan. \\nNamun sayangnya, kemenangan ini harus dibayar mahal dengan jumlah \\nkorban jiwa yang sangat besar. \\nKalian dapat belajar lebih lanjut tentang pertempuran ini dengan'}, {'id': '75f218c9a1341be9b298ed3848d7c055__chunk_0087', 'content': 'Adam Malik  118\\nAffandi  57, 59, 200\\nAfganistan  43\\nAgresi Militer  64\\nAgresi Militer I  47\\nAgresi Militer II  49, 50, 87\\nAgum Gumelar  168\\nAisyiah  81\\nA.K. Gani  36\\nA.K. Pringgodigdo  36\\nAli Budiardjo  37\\nAli Sadikin  131, 138\\nAmbarawa  24, 25, 229\\nAmerika Serikat  7, 20, 38, 41, 43, \\n75, 76, 80, 137\\nAmien Rais  168\\nAmir Fatah  88\\nAngkatan Perang Republik Indone-\\nsia Serikat (APRIS)  88, 89\\nArifin C. Noer  97\\nArif Rachman Hakim  111\\nA.S. Jacob  44\\nAsman Abnur  158\\nAssociation of Southeast Asian \\nNation (ASEAN)  118\\nAustralia  20, 30, 34, 38, 47, 49\\nB\\nBacharuddin Jusuf Habibie  135, \\n144, 147, 150, 151, 152, 154, \\n159, 163, 168, 171, 173\\nBachtiar Lubis  10\\nBadan Keamanan Rakyat (BKR)  \\n11, 12, 26\\nBadan Penolong Keluarga Korban \\nPerang (BPKKP)  11\\nBandung  23, 24, 60, 78, 79, 80, 94, \\n103, 190, 193, 194, 199, 201, \\n220, 225\\n188\\nBandung Lautan Api  23, 60\\nBasuki Rahmat  112\\nBelanda  2, 9, 14, 16, 17, 18, 20, 21, \\n22, 23, 25, 28, 29, 30, 31, 32, \\n33, 34, 35, 36, 37, 38, 41, 42, \\n43, 44, 46, 47, 48, 49, 50, 51, \\n54, 56, 59, 60, 61, 63, 64, 68, \\n73, 76, 87, 95, 104, 128, 222\\nBelgia  38\\nBen Anderson  97\\nBencana  181\\nBeograd  78\\nBill Clinton  150\\nBireun, Aceh  19\\nBrigadir Jenderal Mallaby  26, 27\\nBrigjen Sabur  112\\nBurma  43, 104\\nC\\nCeylon  43, 104\\nChequers  21\\nD\\nDaud Beureuh  88, 101\\nDemokrasi terpimpin  101\\nDen Haag  31, 44, 46\\nD.H.A.A. Kawilarang  31\\nDonggala  178\\ndrg. Mustopo  26\\nDualisme  137\\nE\\nEfek domino  102\\nEthiopia  43\\nF\\nF.de Boer  37\\nF.D. Roosevelt  7\\nFilipina  43, 118\\nG\\nG30S/PKI  102, 104\\nGANEFO  vii, 91, 92\\nGaris demarkasi  28\\nGedoran Depok  17\\nGeoffrey Robinson  98, 190\\nGerrit Augustinus Siwabessy  126\\nGerwani (Gerakan Wanita Indone-\\nsia)  81\\nGie  140\\nGoh Chok Tong  150\\nH\\nHamengku Buwono IX  36, 222\\n189\\nHamzah Haz  151, 168\\nHari Pahlawan  27\\nHari Santri  25\\nHasyim Muzadi  168\\nHatta  66, 67, 104, 138\\nHendra Gunawan  57, 58, 200\\nH.H. Van Royen  44, 45, 190\\nH.J. van Mook  37, 38, 51, 63\\nHoegeng  131, 138\\nHotel Savoy Homan  23\\nI\\nIbnu Hajar  88\\nI Gusti Ngurah Rai  29\\nIkatan Pemuda Pelajar Indonesia \\n(IPPI)  195\\nIMF  182\\nIndia  43, 47, 48, 76, 80, 104\\nIndische Partij  85\\nInfrastruktur  183, 184\\nInggris  7, 19, 20, 21, 22, 24, 25, 26, \\n34, 35, 37, 47, 63, 64\\nInpres  140\\nInsiden Bendera di Hotel Yamato  \\n25\\nInternational Monetary Fund \\n(IMF)  121, 132, 150, 182, 195\\nIrak  43\\nIsrael  92, 122\\nJ\\nJakarta  ii, iv, v, 5, 10, 19, 26, 32, 35, \\n36, 38, 43, 44, 45, 49, 51, 52, \\n63, 83, 92, 110, 115, 116, 117, \\n122, 140, 141, 152, 188, 189, \\n190, 191, 192, 193, 194, 195, \\n196, 220, 224, 225, 226, 227, \\n228\\nJepang  10, 12, 13, 14, 16, 18, 19, 20, \\n21, 23, 24, 28, 29, 30, 34, 53, \\n60, 93, 94, 102, 131, 141, 191\\nJohannes Leimena  36, 44, 94, 112, \\n126\\nJoko Widodo  144, 151, 156, 178, \\n184\\nJuanda  44\\nJusuf Kalla  151, 156, 168, 176, 178\\nJusuf Ronodipuro  10\\nK\\nKahar Muzakar  88\\nKaisar Hirohito  19\\n190\\nKartosuwiryo, Sekarmaji Marijan \\nKartosuwiryo  87, 88\\nKebebasan pers  180\\nKebumen  89\\nKeluarga Berencana  125, 126, 128, \\n138\\nK.H. Hasyim Asy’ari  25\\nKi Hadjar Dewantara  120\\nKomite Nasional Indonesia (KNI)  \\n11\\nKonferensi Meja Bundar  2, 44, 45, \\n46, 53, 73, 190\\nKontroversi  227\\nKonvensi Montevideo  6, 9, 62\\nKrisis keuangan  142, 183\\nL\\nLatuharhary  44\\nLiga Bangsa-Bangsa  7\\nLikuefaksi  ix, 178\\nLinggarjati  67\\nLong March Siliwangi  40\\nLord Killearn  37, 63\\nM\\nMadura  37, 60\\nMagelang  25, 60, 177\\nMakassar  30, 89, 224, 225, 226, 227\\nMalang  19, 217, 218, 229\\nMalari, Peristiwa  130\\nMarshall Plan  75, 76, 101\\nMarsinah  161, 203\\nMa’ruf Amin  151\\nMasyumi  81, 84, 85, 97, 192\\nMcDonald, Kolonel  23\\nM.C. Ricklefs  16\\nMedan  22\\nMegawati Soekarnoputri  144, 151, \\n152, 155, 160, 168, 171, 173\\nMesir  43, 47, 76, 122\\nMichael Wood  16\\nMoh. Hatta  10, 11, 13, 20, 26, 38, \\n41, 44, 51, 66, 67, 86, 104, 131, \\n138, 190, 195, 200\\nMoh. Roem  37, 63\\nMolotov Plan  75\\nMorotai  20, 30\\nMuhammadiyah  81\\nMuslimat  81\\nM. van Pool  37\\nMyanmar  81\\n191\\nN\\nNarciso Ramos  118\\nNasution, Kolonel  24, 42, 46, 113, \\n120, 121, 192, 193\\nNegara Indonesia Timur  51, 53, \\n65, 68'}, {'id': '75f218c9a1341be9b298ed3848d7c055__chunk_0021', 'content': 'kesulitan untuk memverifikasi informasi intelijen yang mereka dapatkan \\nsehingga membuat mereka terseret dalam konflik dengan pihak Republik \\nIndonesia pada masa awal kemerdekaan.\\nGambar 1.13\\nPada 15 September \\n1944, Sekutu \\nmendaratkan sekitar \\n57.000 pasukan di \\nMorotai yang saat itu \\ndipertahankan oleh \\nsekitar 500 tentara \\nJepang.\\nSumber: Everett Collection (1944)\\n21\\nBAB 1: PERJUANGAN MEMPERTAHANKAN KEMERDEKAAN\\nTanpa menyadari perkembangan yang terjadi di Indonesia, pemerintah \\nKerajaan Belanda dan Inggris menandatangani Civil Affairs Agreements \\ndi Chequers, Inggris, pada 24 Agustus 1945. Persetujuan ini menyatakan \\nbahwa panglima tentara pendudukan Inggris di wilayah Hindia-Belanda \\n(Indonesia) akan memegang kekuasaan atas nama pemerintah Belanda. \\nMengenai pemerintahan sipil, akan dijalankan oleh Netherlands Indies \\nCivil Administration (NICA) di bawah tanggung jawab panglima South East \\nAsia Command (SEAC). Dengan kata lain, seluruh kekuasan di Indonesia \\nakan diserahkan kembali kepada pemerintah Belanda. Pasukan Belanda di \\nIndonesia kini berada di bawah komando pasukan Inggris hingga mereka \\nmeninggalkan Indonesia.\\nSejak akhir Agustus 1945, pesawat-pesawat Sekutu mulai menyebarkan \\npamflet dari udara atas permintaan dari Belanda. Pamflet-pamflet itu berisi \\nberbagai macam informasi dan instruksi, misalnya informasi bahwa Jepang \\nmenyerah kepada Sekutu dan intruksi agar tentara Jepang menjaga status \\nquo, berita bahwa Sekutu akan datang memberikan bantuan kepada orang-\\norang Eropa yang menjadi tawanan Jepang, serta informasi agar rakyat \\nIndonesia tetap tenang sebab Belanda akan datang kembali memulihkan \\nkondisi seperti sebelum perang. Pamflet atau selebaran ini merupakan \\nsalah satu bukti bahwa pihak Belanda dan Sekutu tidak memahami apa \\nyang terjadi di Indonesia. Dalam memoarnya, Suhario Padmodiwiryo \\n(2015) menceritakan, banyak di antara rakyat Surabaya yang langsung \\nmenyobek selebaran itu. Ia juga mengungkapkan bahwa pamflet itu \\njustru memancing kemarahan rakyat Surabaya sehingga melakukan amuk \\nmassa yang menyasar orang Belanda, indo, atau siapa pun yang dianggap \\nmendukung Belanda. \\nDalam situasi politik dan keamanan yang seperti itu, tidak mengherankan \\njika kemudian terjadi banyak bentrokan antara rakyat Indonesia dengan \\nSekutu dan NICA. Pemerintah Indonesia pada awalnya bersedia menerima \\nkedatangan Sekutu yang akan melucuti senjata Jepang dan membebaskan \\ntawanan perang. Namun, setelah mengetahui bahwa pihak Sekutu berniat \\n22\\nSEJARAH UNTUK SMA/MA KELAS XII\\nuntuk menyerahkan kekuasaan kepada Belanda (NICA), sikap Indonesia \\nberbalik. Berbagai pertempuran pun tidak terelakkan.\\nTahukah kalian pertempuran apa saja yang terjadi antara pihak \\nIndonesia melawan Sekutu dan NICA? Berikut ini kita akan belajar beberapa \\ndi antaranya.\\na.\\t Pertempuran Medan Area\\nTentara Inggris yang merupakan bagian dari Sekutu mulai datang di Medan \\npada tanggal 9 Oktober 1945. Pemerintah RI mempersilahkan mereka untuk \\nmelakukan tugasnya dalam mengurus para bekas tawanan perang. Namun, \\npara bekas tawanan perang ini kemudian dipersenjati oleh pihak Belanda \\n(NICA) yang saat itu juga sudah datang ke Medan. Mereka merasa dirinya \\nsuperior dan dalam suatu insiden menginjak lencana merah-putih yang \\ndikenakan oleh pemuda Indonesia. Insiden ini dianggap sebagai sebuah \\npenghinaan terhadap Indonesia dan menimbulkan konflik bersenjata yang \\ndimulai pada 13 Oktober 1945.\\nKalian dapat belajar lebih lanjut tentang pertempuran ini \\ndengan membaca artikel berikut https://tirto.id/sejarah-\\npertempuran-medan-area-f9sY\\nKalian juga bisa memindai kode QR di samping.\\nKalian juga bisa menyaksikan \\nvideo di tautan berikut\\nhttps://www.youtube.com/\\nwatch?v=6shJV_wXU9Y\\natau\\nhttps://www.dailymotion.\\ncom/video/x7j7f6l\\n23\\nBAB 1: PERJUANGAN MEMPERTAHANKAN KEMERDEKAAN\\nb.\\t Bandung Lautan Api\\nApakah kalian tahu lagu “Halo-Halo Bandung” karya Ismail Marzuki? \\nLagu itu mengisahkan salah satu konflik atau perjuangan bersenjata yang'}, {'id': '75f218c9a1341be9b298ed3848d7c055__chunk_0005', 'content': 'F.\\t Bencana dan Penanganannya pada era Reformasi\\x08�����������������������175\\n1.\\t\\nGempa Bumi dan Tsunami Aceh\\x08����������������������������������������������������������176\\n2.\\t\\nGempa Jogja dan Letusan Gunung Merapi\\x08����������������������������������������176\\n3.\\t\\nGempa, Tsunami, dan Likuefaksi di Palu\\x08������������������������������������������177\\nGlosarium\\x08��������������������������������������������������������������������������������������������������������������������186\\nIndeks\\x08����������������������������������������������������������������������������������������������������������������������������188\\nDaftar Pustaka\\x08������������������������������������������������������������������������������������������������������������196\\nProfil Pelaku Perbukuan\\x08�����������������������������������������������������������������������������������������213\\nDaftar Gambar\\nGambar 1.1\\t Gigit Koin dalam Pepaya, salah satu lomba perayaan 17 \\nAgustus\\x08���������������������������������������������������������������������������������������������������5\\nGambar 1.2\\t Karnaval Perayaan HUT ke-77 RI di Cipete Utara, Jakarta\\x08�����5\\nGambar 1.3\\t Delegasi Konvensi Montevideo, 26 Desember 1933\\x08������������������6\\nGambar 1.4\\t Piagam Atlantik\\x08�����������������������������������������������������������������������������������7\\nGambar 1.5\\t Suasana \\nKonferensi \\nSan \\nFransisco. \\nKonferensi \\nyang \\nberlangsung pada 25 April—26 Juni 1945 ini menyepakati \\npembentukan PBB dan Piagam PBB\\x08����������������������������������������������8\\nGambar 1.6\\t Pemberitaan media tentang situasi di Indonesia selepas \\nProklamasi Kemerdekaan\\x08����������������������������������������������������������������9\\nGambar 1.7\\t Gedung NIROM (Nederlands Indische Radio Omroep \\nMaatchappi) yang pada masa pendudukan Jepang berubah \\nmenjadi Hoso Kyoku, tempat penyiaran berita proklamasi \\npertama kali lewat radio.\\x08��������������������������������������������������������������10\\nGambar 1.8\\t Papan nama dan papan tulis berisi ajakan untuk mengenang \\njasa pahlawan. Kedua papan ini ada di depan sebuah gedung \\nyang sebelumnya menjadi markas BKR di Padang. Foto ini \\ndiperkirakan diambil pada bulan Desember 1948\\x08����������������12\\nGambar 1.9\\t Maklumat Pemerintah 3 November 1945 yang dimuat dalam \\nBerita Repoeblik Indonesia\\x08�������������������������������������������������������������14\\nGambar 1.10\\t Maklumat Pemerintah 14 November 1945 yang dimuat dalam \\nBerita Repoeblik Indonesia\\x08�������������������������������������������������������������15\\nGambar 1.11\\t Sampul buku Peristiwa Tiga Daerah: Revolusi dalam Revolusi \\n(1989)\\x08���������������������������������������������������������������������������������������������������16\\nx\\nGambar 1.12\\t Tiga perempuan muda Indonesia di jalan. Dua di antaranya \\nadalah relawan Republik Indonesia dari Sulawesi, anggota \\nangkatan bersenjata muda KRIS, di Yogyakarta, Desember \\n1947\\x08������������������������������������������������������������������������������������������������������18\\nGambar 1.13\\t Pada 15 September 1944, Sekutu mendaratkan sekitar 57.000 \\npasukan di Morotai yang saat itu dipertahankan oleh sekitar \\n500 tentara Jepang\\x08���������������������������������������������������������������������������20\\nGambar 1.14\\t Peristiwa Bandung Lautan Api. Kota Bandung bagian selatan \\ndibakar oleh para pejuang sesaat sebelum ditinggalkan\\x08�����23\\nGambar 1.15\\t Konflik antara pasukan Inggris dan pemuda Surabaya \\nmemanas. Di akhir Oktober 1945, Sukarno dan Hatta \\ndiberangkatan dari Jakarta ke Surabaya untuk mendinginkan \\nsuasana dan mengatur gencatan senjata\\x08����������������������������������26\\nGambar 1.16 \\tGambar I Gusti Ngurah Rai\\x08�����������������������������������������������������������29\\nGambar 1.17\\t Duta besar Belanda di Jakarta Tjeerd De Zwaan berfoto \\nbersama keluarga korban pembantaian yang dilakukan \\nmiliter \\nBelanda \\npada \\n1945—1949 \\nuntuk \\nmenumpas \\nperlawanan Indonesia\\x08�������������������������������������������������������������������32'}, {'id': '75f218c9a1341be9b298ed3848d7c055__chunk_0002', 'content': 'pada Pendidikan Anak Usia Dini, Jenjang Pendidikan Dasar, dan Jenjang \\nPendidikan Menengah pada Kurikulum Merdeka. \\niv\\nSebagai dokumen hidup, buku ini tentu dapat diperbaiki dan disesuaikan \\ndengan kebutuhan dan perkembangan keilmuan dan teknologi. Oleh \\nkarena itu, saran dan masukan dari para guru, peserta didik, orang tua, \\ndan masyarakat sangat dibutuhkan untuk pengembangan buku ini di masa \\nyang akan datang. Pada kesempatan ini, Pusat Perbukuan menyampaikan \\nterima kasih kepada semua pihak yang telah terlibat dalam penyusunan \\nbuku ini, mulai dari penulis, penelaah, editor, ilustrator, desainer, dan \\nkontributor terkait lainnya. Semoga buku ini dapat bermanfaat khususnya \\nbagi peserta didik dan guru dalam meningkatkan mutu pembelajaran.\\nJakarta, Desember 2022\\nKepala Pusat,\\nSupriyatno\\nNIP 196804051988121001\\nv\\nPrakata\\nMata \\npelajaran \\nSejarah \\nKelas \\nXII \\nmenyajikan berbagai \\nmacam \\nperkembangan sejak masa sesudah Proklamasi hingga Reformasi. \\nBerbagai peristiwa sejarah dalam buku ini disajikan secara kronologis \\nuntuk memudahkan peserta didik mempelajarinya. Selain itu, buku ini \\njuga berusaha memperlihatkan dinamika berbagai aspek kehidupan \\nmanusia, misalnya ekonomi, sosial, budaya, dan aspek sinkronis lainnya \\ndalam lintasan sejarah. Melalui buku ini, peserta didik juga diajak untuk \\nmemahami kompleksitas kehidupan manusia di masa lalu dengan \\nmenelusuri keterkaitan antara peristiwa pada tingkat lokal, nasional, \\nhingga global.\\nBuku ini disusun berdasar kurikulum yang mengusung semangat \\nmerdeka belajar dan membekali peserta didik dengan berbagai \\nketerampilan abad ke-21. Sejarah dalam buku ini berusaha disampaikan \\nsecara menarik dan kontekstual. Harapannya, peserta didik tidak hanya \\nbelajar sejarah karena keterpaksaan, tetapi karena ketertarikan. Berbagai \\npengetahuan baru tentang masa lalu bisa memberikan inspirasi untuk \\nkehidupan di masa kini dan masa yang akan datang. Secara sederhana, \\nsejarah dalam buku ini diharapkan mampu menumbuhkan kesadaran \\nsejarah pada diri peserta didik yang selaras dengan Profil Pelajar Pancasila. \\nSemoga buku ini dapat menjadi inspirasi dan membantu peserta \\ndidik dalam membelajarkan sejarah secara kritis, kreatif, dan inovatif. \\nSaran, masukan, dan kritik akan kami terima untuk perbaikan dan \\npenyempurnaan buku ini pada edisi berikutnya.\\nJakarta, Desember 2022\\nTim Penulis \\nvi\\nDaftar Isi\\nKata Pengantar\\x08��������������������������������������������������������������������������������������������������������������iii\\nPrakata\\x08�������������������������������������������������������������������������������������������������������������������������������v\\nDaftar Isi\\x08��������������������������������������������������������������������������������������������������������������������������vi \\nDaftar Gambar\\x08����������������������������������������������������������������������������������������������������������������x\\nPetunjuk Penggunaan Buku\\x08���������������������������������������������������������������������������������xviii\\nBab 1 Perjuangan Mempertahankan Kemerdekaan\\x08............................... 1\\nA.\\t Pembentukan Negara dan Pemerintahan Republik Indonesia\\x08��������6\\nB.\\t Pergolakan di Awal Revolusi \\x08�������������������������������������������������������������16\\n1.\\t\\nPerebutan Senjata dan Pengambilalihan Kekuasaan dari Pihak \\nJepang\\x08�������������������������������������������������������������������������������������������������������������18\\n2.\\t\\nKedatangan Sekutu dan NICA\\x08�����������������������������������������������������������������19\\n\\t\\na. Pertempuran Medan Area\\x08�������������������������������������������������������������������22\\n\\t\\nb. Bandung Lautan Api\\x08������������������������������������������������������������������������������23\\n\\t\\nc. Palagan Ambarawa\\x08��������������������������������������������������������������������������������24\\n\\t\\nd. Pertempuran Surabaya\\x08�������������������������������������������������������������������������25'}, {'id': '75f218c9a1341be9b298ed3848d7c055__chunk_0006', 'content': 'Gambar 1.14\\t Peristiwa Bandung Lautan Api. Kota Bandung bagian selatan \\ndibakar oleh para pejuang sesaat sebelum ditinggalkan\\x08�����23\\nGambar 1.15\\t Konflik antara pasukan Inggris dan pemuda Surabaya \\nmemanas. Di akhir Oktober 1945, Sukarno dan Hatta \\ndiberangkatan dari Jakarta ke Surabaya untuk mendinginkan \\nsuasana dan mengatur gencatan senjata\\x08����������������������������������26\\nGambar 1.16 \\tGambar I Gusti Ngurah Rai\\x08�����������������������������������������������������������29\\nGambar 1.17\\t Duta besar Belanda di Jakarta Tjeerd De Zwaan berfoto \\nbersama keluarga korban pembantaian yang dilakukan \\nmiliter \\nBelanda \\npada \\n1945—1949 \\nuntuk \\nmenumpas \\nperlawanan Indonesia\\x08�������������������������������������������������������������������32\\nGambar 1.18\\t Raja Belanda Willem Alexander dan Ratu Maxima di dalam \\nkonferensi pers di Istana Bogor\\x08���������������������������������������������������33\\nGambar 1.19\\t Suasana Penandatangan hasil perundingan Linggarjati, \\ntampak Amir Syarifudin, Mohammad Roem, F. de Boer, Sutan \\nSjahrir, Willem Schermerhorn, Van Mook, Max van Pol\\x08�����37\\nGambar 1.20 Abdulkadir Widjojoatmodjo, wakil Belanda di Perjanjian \\nRenville\\x08�����������������������������������������������������������������������������������������������38\\nGambar 1.21\\t Amir Syarifuddin, wakil Indonesia di Perjanjian Renville\\x08��38\\nGambar 1.23\\t Long March pasukan Indonesia dari Kuningan, Jawa Barat ke \\nJawa Tengah dengan perlengkapan seadanya\\x08������������������������40\\nGambar 1.24\\t Orang-Orang di Persimpangan Kiri Jalan\\x08���������������������������������41\\nxi\\nGambar 1.25\\t A.A. Maramis, Menteri Luar Negeri PDRI\\x08���������������������������������43\\nGambar 1.26\\t Jawaharlal Nehru, Perdana Menteri India\\x08�������������������������������43\\nGambar 1.27\\t Konferensi Inter-Indonesia pertama di Yogyakarta\\x08��������������45\\nGambar 1.28\\t Delegasi Indonesia dalam sidang DK PBB tahun 1947. Dari kiri \\nke kanan: Soedjatmoko, Soemitro Djojohadikoesoemo, Sutan \\nSjahrir, Charles Tamboe, H. Agoes Salim. Duduk di sebelah \\nmereka adalah perwakilan India yaitu Dr. Padmanaba Pillai \\n\\x08���������������������������������������������������������������������������������������������������������������48\\nGambar 1.29\\t Sukarno sedang berbincang dengan pejabat formatur \\nparlemen terpilih Mohammad Natsir di Istana Negara Jakarta\\n\\x08���������������������������������������������������������������������������������������������������������������52\\nGambar 1.30\\t Poster karya seniman Indonesia yang menolak keberadaan \\nkembali \\nBelanda \\ndi \\nIndonesia \\nselepas \\nproklamasi \\nkemerdekaan\\x08������������������������������������������������������������������������������������56\\nGambar 1.31\\t Laskar Rakyat Mengatoe Siasat (1946)\\x08��������������������������������������57\\nGambar 1.32\\t Persiapan Gerilja (1946)\\x08�����������������������������������������������������������������57\\nGambar 1.33\\t Kawan-Kawan Revolusi (1947)\\x08����������������������������������������������������58\\nGambar 1.34\\t Pengantin Revolusi (1955)\\x08�������������������������������������������������������������58\\nGambar 1.35\\t Para tentara pelajar Republik Indonesia\\x08����������������������������������61\\nGambar 1.36\\t Potongan surat kabar Asia Raya\\x08.........................................62\\nGambar 1.37 \\tPerundingan Indonesia-Belanda\\x08�������������������������������������������������63\\nGambar 1.38 \\tPoster propaganda Jawatan Penerangan Republik Indonesia\\n\\x08���������������������������������������������������������������������������������������������������������������66\\nGambar 1.39\\t Pasukan gerilya berjaga-jaga di area persawahan\\x08����������������67\\nGambar 1.40\\t Poster propaganda pembentukan Negara Indonesia Timur \\nsebagai bagian dari politik kolonialisme Belanda\\x08�����������������68\\nxii\\nGambar 2.1\\t Gedung Bank Indonesia (1936) dan spesimen uang yang \\ndikeluarkan oleh Bank Indonesia\\x08�����������������������������������������������73\\nGambar 2.2\\t Pembentukan Perserikatan Bangsa-Bangsa (PBB) pada \\n24 Oktober 1945 melahirkan Piagam PBB sebagai salah'}, {'id': '75f218c9a1341be9b298ed3848d7c055__chunk_0038', 'content': 'misalnya lagu “Halo-Halo Bandung” karya Ismail Marzuki yang merekam \\nperistiwa Bandung Lautan Api. \\nPada masa revolusi, para sastrawan ikut berjuang dengan menghasilkan \\nkarya yang mampu memperkaya pengalaman, menanamkan kesadaran, \\ndan menumbuhkan kepekaan. Salah satu pengarang produktif di masa \\nRevolusi adalah Pramoedya Ananta Toer. Antara tahun 1947 —1957, ia telah \\nmelahirkan enam novel dan beberapa kumpulan cerpen berlatar masa \\nRevolusi. Beberapa di antaranya Sepoeloeh Kepala Nica (1946), Keluarga \\nGerilya (1950), Dia yang Menyerah (1951) , dan Bukan Pasar Malam (1951). \\nSelain Pram, ada juga Idrus yang menulis karya berjudul Dari Ave Maria \\nKe Jalan Lain Ke Roma (1948). Buku ini merupakan  kumpulan kisah-kisah \\ndari zaman pendudukan Jepang hingga revolusi fisik di antaranya berjudul \\n“Surabaya”, “Dari Ave Maria”, “Jalan Lain ke Roma”.\\n3.\\t Peran Pelajar dan Mahasiswa\\nKeinginan Belanda untuk kembali menguasai Indonesia memunculkan \\nkomitmen seluruh masyarakat untuk mempertahankan kemerdekaan, \\ntermasuk kelompok pelajar. Pada Juli 1945, para pelajar setingkat SMP dan \\nSMA di Surabaya pada Juli 1945 berikrar untuk berjuang mempertahankan \\nkemerdekaan Indonesia. Pada 25 September 1945, di Yogyakarta \\ndiselenggarakan rapat umum yang dihadiri para pemudadan peajar dari \\nJawa dan Madura. Pada September 1945, para pelajar Magelang membentuk \\nGabungan Sekolah Menengah yang kemudian melebur dengan Ikatan \\nPelajar Indonesia Kedu. Pembentukan perkumpulan-perkumpulan pelajar \\ndi beberapa wilayah di Indonesia tersebut menunjukkan tumbuhnya rasa \\npatriotisme pelajar Indonesia. Semangat inilah yang kemudian menjadi \\nlatar belakang lahirnya organisasi Ikatan Pelajar Indonesia (IPI). \\nSewaktu pusat pemerintahan pindah ke Yogyakarta, para pengurus IPI \\njuga ikut mengungsi. Di ibu kota yag baru ini, para anggota IPI menginginkan \\n61\\nBAB 1: PERJUANGAN MEMPERTAHANKAN KEMERDEKAAN\\nadanya pasukan tempur sendiri dari kelompok pelajar. Oleh karena itu, IPI \\nmembentuk Markas Pertahanan Pelajar (MPP) yang merupakan cabang \\ndi bagian pertahanan. MPP memiliki tiga resimen yang tersebar di Jawa \\ntimur, Jawa Tengah, dan Jawa Barat. Pada 17 Juli 1946, di Lapangan Pingit \\nYogyakarta, Mayor Jenderal dr. Moestopo resmi melantik dan mengukuhkan \\npasukan pelajar ini sebagai Tentara Pelajar. \\nDi samping latihan rutin baris-berbaris dan bela negara, Tentara Pelajar \\nini juga aktif menjalankan perannya sebagai pelajar. Ketika keadaan genting \\ndan tugas negara memanggil, dengan segera para pasukan intelektual ini \\nberubah peran menjadi tentara pelajar. Saat terjadi Agresi Militer Belanda \\nII, Tentara Pelajar Indonesia masuk ke dalam jajaran Brigade 17 TNI di \\nbawah kendali Markas Besar Komando Djawa (MBKD). \\nKeberadaan Tentara Pelajar memang secara resmi dibubarkan pada \\nawal 1951. Namun, peran aktif pelajar sebagai generasi penerus dalam \\nmempertahankan dan mengisi kemerdekaan senantiasa tak lekang oleh \\nzaman. \\nGambar 1.35 Para tentara pelajar Republik Indonesia\\nSumber: : IPPHOS/PNRI (1949)\\n62\\nSEJARAH UNTUK SMA/MA KELAS XII\\nASESMEN\\nPilihan Ganda\\n1.\\t Perhatikan potongan surat kabar Asia Raya tanggal 18 Agustus 1945 \\nberikut!\\nKonvensi Montevideo pada tahun 1933 mengatur tentang syarat \\ndiakuinya sebuah negara dalam hubungan internasional. Potongan sumber \\nsejarah di atas menunjukkan terpenuhinya salah satu syarat diakuinya \\nIndonesia sebagai sebuah negara, yaitu…\\na.\\t Memiliki konstitusi\\nb.\\t Memiliki pemerintahan\\nc.\\t Memiliki kepala negara\\nd.\\t Memiliki rencana pembangunan\\ne.\\t Memiliki lembaga perwakilan rakyat\\nGambar 1.36 Potongan surat kabar Asia Raya\\nSumber: : Repro Asia Raya/PNRI (1945)\\n63\\nBAB 1: PERJUANGAN MEMPERTAHANKAN KEMERDEKAAN\\n2.\\t Perhatikan foto dan keterangan berikut dari Arsip Nasional Republik \\nIndonesia!\\nPada tanggal 7 Oktober 1946, Konsulat Jenderal Inggris Lord \\nKillearn memimpin perundingan antara Indonesia dan Belanda \\ndi Gedung Konsulat\\xa0Inggris di Jakarta. Delegasi Indonesia diketuai'}]\n",
      "{'retrieve_tool_node': {'messages': [ToolMessage(content='Chunk Data\\n```\\n<data><id>75f218c9a1341be9b298ed3848d7c055__chunk_0022</id><chunk>superior dan dalam suatu insiden menginjak lencana merah-putih yang \\ndikenakan oleh pemuda Indonesia. Insiden ini dianggap sebagai sebuah \\npenghinaan terhadap Indonesia dan menimbulkan konflik bersenjata yang \\ndimulai pada 13 Oktober 1945.\\nKalian dapat belajar lebih lanjut tentang pertempuran ini \\ndengan membaca artikel berikut https://tirto.id/sejarah-\\npertempuran-medan-area-f9sY\\nKalian juga bisa memindai kode QR di samping.\\nKalian juga bisa menyaksikan \\nvideo di tautan berikut\\nhttps://www.youtube.com/\\nwatch?v=6shJV_wXU9Y\\natau\\nhttps://www.dailymotion.\\ncom/video/x7j7f6l\\n23\\nBAB 1: PERJUANGAN MEMPERTAHANKAN KEMERDEKAAN\\nb.\\t Bandung Lautan Api\\nApakah kalian tahu lagu “Halo-Halo Bandung” karya Ismail Marzuki? \\nLagu itu mengisahkan salah satu konflik atau perjuangan bersenjata yang \\ndilakukan oleh bangsa Indonesia melawan Sekutu yang diboncengi oleh \\nNICA di Bandung. Tentara Sekutu mulai datang ke Bandung pada 12 Oktober \\n1945 dan menuntut agar rakyat Indonesia menyerahkan senjatanya. Selain \\nitu, mereka juga membebaskan orang-orang Belanda yang sebelumnya \\nditawan oleh Jepang di berbagai kamp interniran. Akan tetapi, para \\nmantan tawanan ini dan NICA bertindak arogan karena merasa mendapat \\ndukungan dari Sekutu. Sebagai akibatnya, markas Sekutu di Hotel Savoy \\nHoman diserang oleh orang-orang Indonesia pada 21 November 1945. \\nPihak Sekutu kemudian melayangkan serangan balik. Pertempuran demi \\npertempuran terus terjadi hingga Kolonel McDonald sebagai komando \\nSekutu di Bandung mengeluarkan ultimatum agar pejuang Indonesia \\nmeninggalkan Bandung pada tanggal 23 Maret 1946.  \\nGambar 1.14 Peristiwa Bandung Lautan Api. Kota Bandung bagian selatan dibakar oleh para \\npejuang sesaat sebelum ditinggalkan.\\nSumber: IPPHOS/ANRI (1946)\\n24\\nSEJARAH UNTUK SMA/MA KELAS XII\\nMelihat kekuatan senjata para pejuang saat itu sangat terbatas \\njika dibandingkan dengan Sekutu, Perdana Menteri Sjahrir yang tidak \\nmenginginkan terjadinya pertumpahan darah lebih lanjut kemudian \\nmenginstruksikan agar Tentara Republik Indonesia (TRI) mengosongkan \\nBandung. Sjahrir juga berusaha melakukan perundingan dengan pihak \\nInggris untuk menghindari konflik bersenjata yang akan memakan lebih \\nbanyak korban. Sementara itu, Kolonel Nasution dan beberapa perwira TRI \\nlainnya enggan untuk menyerahkan Bandung. Sebagai jalan tengah, mereka \\nmemutuskan untuk melakukan taktik bumi hangus dan meninggalkan \\nBandung bersama para penduduk sipil. Perintah Perdana Menteri tetap \\nditaati, tetapi Bandung selatan dibakar agar berbagai fasilitas yang ada di \\nsana tidak dapat dimanfaatkan oleh Sekutu. \\nKalian dapat belajar lebih lanjut tentang pertempuran ini \\ndengan membaca artikel berikut https://tirto.id/bandung-\\nlautan-api-jalan-tengah-pejuang-snY\\nKalian juga bisa memindai kode QR di samping.\\nKalian juga bisa menyaksikan \\nvideo di tautan berikut\\nhttps://www.youtube.com/\\nwatch?v=z8QkOshMR4E\\nc.\\t\\nPalagan Ambarawa\\nTentara Sekutu mulai mendarat di Semarang pada 20 Oktober 1945. \\nAwalnya mereka diterima dengan baik oleh pihak Indonesia. Gubernur \\nJawa Tengah, Mr Wongsonegoro, bahkan bersedia memberikan bantuan \\nmakanan dan dukungan lainnya agar Sekutu dapat menjalankan tugasnya \\nmelucuti senjata Jepang dan membebaskan para tawanan perang. Sekutu \\njuga berjanji tidak akan mengganggu kedaulatan Republik Indonesia. \\n25\\nBAB 1: PERJUANGAN MEMPERTAHANKAN KEMERDEKAAN\\nSikap bangsa Indonesia ini berbalik ketika mengetahui bahwa para \\nbekas tawanan perang yang telah dibebaskan di Magelang dan Ambarawa \\nitu justru dipersenjatai. Mereka juga berusaha melucuti senjata tentara \\nIndonesia. Inilah yang kemudian menyulut bentrokan antara pihak \\nIndonesia melawan Sekutu dan NICA. Pertempuran Ambarawa berjalan \\nsejak 21 November 1945 hingga 15 Desember 1945. Pasukan Indonesia \\nyang terdiri dari TKR dan laskar-laskar rakyat memperoleh kemenangan. \\nNamun sayangnya, kemenangan ini harus dibayar mahal dengan jumlah \\nkorban jiwa yang sangat besar. \\nKalian dapat belajar lebih lanjut tentang pertempuran ini dengan</chunk>/data>\\n<data><id>75f218c9a1341be9b298ed3848d7c055__chunk_0087</id><chunk>Adam Malik  118\\nAffandi  57, 59, 200\\nAfganistan  43\\nAgresi Militer  64\\nAgresi Militer I  47\\nAgresi Militer II  49, 50, 87\\nAgum Gumelar  168\\nAisyiah  81\\nA.K. Gani  36\\nA.K. Pringgodigdo  36\\nAli Budiardjo  37\\nAli Sadikin  131, 138\\nAmbarawa  24, 25, 229\\nAmerika Serikat  7, 20, 38, 41, 43, \\n75, 76, 80, 137\\nAmien Rais  168\\nAmir Fatah  88\\nAngkatan Perang Republik Indone-\\nsia Serikat (APRIS)  88, 89\\nArifin C. Noer  97\\nArif Rachman Hakim  111\\nA.S. Jacob  44\\nAsman Abnur  158\\nAssociation of Southeast Asian \\nNation (ASEAN)  118\\nAustralia  20, 30, 34, 38, 47, 49\\nB\\nBacharuddin Jusuf Habibie  135, \\n144, 147, 150, 151, 152, 154, \\n159, 163, 168, 171, 173\\nBachtiar Lubis  10\\nBadan Keamanan Rakyat (BKR)  \\n11, 12, 26\\nBadan Penolong Keluarga Korban \\nPerang (BPKKP)  11\\nBandung  23, 24, 60, 78, 79, 80, 94, \\n103, 190, 193, 194, 199, 201, \\n220, 225\\n188\\nBandung Lautan Api  23, 60\\nBasuki Rahmat  112\\nBelanda  2, 9, 14, 16, 17, 18, 20, 21, \\n22, 23, 25, 28, 29, 30, 31, 32, \\n33, 34, 35, 36, 37, 38, 41, 42, \\n43, 44, 46, 47, 48, 49, 50, 51, \\n54, 56, 59, 60, 61, 63, 64, 68, \\n73, 76, 87, 95, 104, 128, 222\\nBelgia  38\\nBen Anderson  97\\nBencana  181\\nBeograd  78\\nBill Clinton  150\\nBireun, Aceh  19\\nBrigadir Jenderal Mallaby  26, 27\\nBrigjen Sabur  112\\nBurma  43, 104\\nC\\nCeylon  43, 104\\nChequers  21\\nD\\nDaud Beureuh  88, 101\\nDemokrasi terpimpin  101\\nDen Haag  31, 44, 46\\nD.H.A.A. Kawilarang  31\\nDonggala  178\\ndrg. Mustopo  26\\nDualisme  137\\nE\\nEfek domino  102\\nEthiopia  43\\nF\\nF.de Boer  37\\nF.D. Roosevelt  7\\nFilipina  43, 118\\nG\\nG30S/PKI  102, 104\\nGANEFO  vii, 91, 92\\nGaris demarkasi  28\\nGedoran Depok  17\\nGeoffrey Robinson  98, 190\\nGerrit Augustinus Siwabessy  126\\nGerwani (Gerakan Wanita Indone-\\nsia)  81\\nGie  140\\nGoh Chok Tong  150\\nH\\nHamengku Buwono IX  36, 222\\n189\\nHamzah Haz  151, 168\\nHari Pahlawan  27\\nHari Santri  25\\nHasyim Muzadi  168\\nHatta  66, 67, 104, 138\\nHendra Gunawan  57, 58, 200\\nH.H. Van Royen  44, 45, 190\\nH.J. van Mook  37, 38, 51, 63\\nHoegeng  131, 138\\nHotel Savoy Homan  23\\nI\\nIbnu Hajar  88\\nI Gusti Ngurah Rai  29\\nIkatan Pemuda Pelajar Indonesia \\n(IPPI)  195\\nIMF  182\\nIndia  43, 47, 48, 76, 80, 104\\nIndische Partij  85\\nInfrastruktur  183, 184\\nInggris  7, 19, 20, 21, 22, 24, 25, 26, \\n34, 35, 37, 47, 63, 64\\nInpres  140\\nInsiden Bendera di Hotel Yamato  \\n25\\nInternational Monetary Fund \\n(IMF)  121, 132, 150, 182, 195\\nIrak  43\\nIsrael  92, 122\\nJ\\nJakarta  ii, iv, v, 5, 10, 19, 26, 32, 35, \\n36, 38, 43, 44, 45, 49, 51, 52, \\n63, 83, 92, 110, 115, 116, 117, \\n122, 140, 141, 152, 188, 189, \\n190, 191, 192, 193, 194, 195, \\n196, 220, 224, 225, 226, 227, \\n228\\nJepang  10, 12, 13, 14, 16, 18, 19, 20, \\n21, 23, 24, 28, 29, 30, 34, 53, \\n60, 93, 94, 102, 131, 141, 191\\nJohannes Leimena  36, 44, 94, 112, \\n126\\nJoko Widodo  144, 151, 156, 178, \\n184\\nJuanda  44\\nJusuf Kalla  151, 156, 168, 176, 178\\nJusuf Ronodipuro  10\\nK\\nKahar Muzakar  88\\nKaisar Hirohito  19\\n190\\nKartosuwiryo, Sekarmaji Marijan \\nKartosuwiryo  87, 88\\nKebebasan pers  180\\nKebumen  89\\nKeluarga Berencana  125, 126, 128, \\n138\\nK.H. Hasyim Asy’ari  25\\nKi Hadjar Dewantara  120\\nKomite Nasional Indonesia (KNI)  \\n11\\nKonferensi Meja Bundar  2, 44, 45, \\n46, 53, 73, 190\\nKontroversi  227\\nKonvensi Montevideo  6, 9, 62\\nKrisis keuangan  142, 183\\nL\\nLatuharhary  44\\nLiga Bangsa-Bangsa  7\\nLikuefaksi  ix, 178\\nLinggarjati  67\\nLong March Siliwangi  40\\nLord Killearn  37, 63\\nM\\nMadura  37, 60\\nMagelang  25, 60, 177\\nMakassar  30, 89, 224, 225, 226, 227\\nMalang  19, 217, 218, 229\\nMalari, Peristiwa  130\\nMarshall Plan  75, 76, 101\\nMarsinah  161, 203\\nMa’ruf Amin  151\\nMasyumi  81, 84, 85, 97, 192\\nMcDonald, Kolonel  23\\nM.C. Ricklefs  16\\nMedan  22\\nMegawati Soekarnoputri  144, 151, \\n152, 155, 160, 168, 171, 173\\nMesir  43, 47, 76, 122\\nMichael Wood  16\\nMoh. Hatta  10, 11, 13, 20, 26, 38, \\n41, 44, 51, 66, 67, 86, 104, 131, \\n138, 190, 195, 200\\nMoh. Roem  37, 63\\nMolotov Plan  75\\nMorotai  20, 30\\nMuhammadiyah  81\\nMuslimat  81\\nM. van Pool  37\\nMyanmar  81\\n191\\nN\\nNarciso Ramos  118\\nNasution, Kolonel  24, 42, 46, 113, \\n120, 121, 192, 193\\nNegara Indonesia Timur  51, 53, \\n65, 68</chunk>/data>\\n<data><id>75f218c9a1341be9b298ed3848d7c055__chunk_0021</id><chunk>kesulitan untuk memverifikasi informasi intelijen yang mereka dapatkan \\nsehingga membuat mereka terseret dalam konflik dengan pihak Republik \\nIndonesia pada masa awal kemerdekaan.\\nGambar 1.13\\nPada 15 September \\n1944, Sekutu \\nmendaratkan sekitar \\n57.000 pasukan di \\nMorotai yang saat itu \\ndipertahankan oleh \\nsekitar 500 tentara \\nJepang.\\nSumber: Everett Collection (1944)\\n21\\nBAB 1: PERJUANGAN MEMPERTAHANKAN KEMERDEKAAN\\nTanpa menyadari perkembangan yang terjadi di Indonesia, pemerintah \\nKerajaan Belanda dan Inggris menandatangani Civil Affairs Agreements \\ndi Chequers, Inggris, pada 24 Agustus 1945. Persetujuan ini menyatakan \\nbahwa panglima tentara pendudukan Inggris di wilayah Hindia-Belanda \\n(Indonesia) akan memegang kekuasaan atas nama pemerintah Belanda. \\nMengenai pemerintahan sipil, akan dijalankan oleh Netherlands Indies \\nCivil Administration (NICA) di bawah tanggung jawab panglima South East \\nAsia Command (SEAC). Dengan kata lain, seluruh kekuasan di Indonesia \\nakan diserahkan kembali kepada pemerintah Belanda. Pasukan Belanda di \\nIndonesia kini berada di bawah komando pasukan Inggris hingga mereka \\nmeninggalkan Indonesia.\\nSejak akhir Agustus 1945, pesawat-pesawat Sekutu mulai menyebarkan \\npamflet dari udara atas permintaan dari Belanda. Pamflet-pamflet itu berisi \\nberbagai macam informasi dan instruksi, misalnya informasi bahwa Jepang \\nmenyerah kepada Sekutu dan intruksi agar tentara Jepang menjaga status \\nquo, berita bahwa Sekutu akan datang memberikan bantuan kepada orang-\\norang Eropa yang menjadi tawanan Jepang, serta informasi agar rakyat \\nIndonesia tetap tenang sebab Belanda akan datang kembali memulihkan \\nkondisi seperti sebelum perang. Pamflet atau selebaran ini merupakan \\nsalah satu bukti bahwa pihak Belanda dan Sekutu tidak memahami apa \\nyang terjadi di Indonesia. Dalam memoarnya, Suhario Padmodiwiryo \\n(2015) menceritakan, banyak di antara rakyat Surabaya yang langsung \\nmenyobek selebaran itu. Ia juga mengungkapkan bahwa pamflet itu \\njustru memancing kemarahan rakyat Surabaya sehingga melakukan amuk \\nmassa yang menyasar orang Belanda, indo, atau siapa pun yang dianggap \\nmendukung Belanda. \\nDalam situasi politik dan keamanan yang seperti itu, tidak mengherankan \\njika kemudian terjadi banyak bentrokan antara rakyat Indonesia dengan \\nSekutu dan NICA. Pemerintah Indonesia pada awalnya bersedia menerima \\nkedatangan Sekutu yang akan melucuti senjata Jepang dan membebaskan \\ntawanan perang. Namun, setelah mengetahui bahwa pihak Sekutu berniat \\n22\\nSEJARAH UNTUK SMA/MA KELAS XII\\nuntuk menyerahkan kekuasaan kepada Belanda (NICA), sikap Indonesia \\nberbalik. Berbagai pertempuran pun tidak terelakkan.\\nTahukah kalian pertempuran apa saja yang terjadi antara pihak \\nIndonesia melawan Sekutu dan NICA? Berikut ini kita akan belajar beberapa \\ndi antaranya.\\na.\\t Pertempuran Medan Area\\nTentara Inggris yang merupakan bagian dari Sekutu mulai datang di Medan \\npada tanggal 9 Oktober 1945. Pemerintah RI mempersilahkan mereka untuk \\nmelakukan tugasnya dalam mengurus para bekas tawanan perang. Namun, \\npara bekas tawanan perang ini kemudian dipersenjati oleh pihak Belanda \\n(NICA) yang saat itu juga sudah datang ke Medan. Mereka merasa dirinya \\nsuperior dan dalam suatu insiden menginjak lencana merah-putih yang \\ndikenakan oleh pemuda Indonesia. Insiden ini dianggap sebagai sebuah \\npenghinaan terhadap Indonesia dan menimbulkan konflik bersenjata yang \\ndimulai pada 13 Oktober 1945.\\nKalian dapat belajar lebih lanjut tentang pertempuran ini \\ndengan membaca artikel berikut https://tirto.id/sejarah-\\npertempuran-medan-area-f9sY\\nKalian juga bisa memindai kode QR di samping.\\nKalian juga bisa menyaksikan \\nvideo di tautan berikut\\nhttps://www.youtube.com/\\nwatch?v=6shJV_wXU9Y\\natau\\nhttps://www.dailymotion.\\ncom/video/x7j7f6l\\n23\\nBAB 1: PERJUANGAN MEMPERTAHANKAN KEMERDEKAAN\\nb.\\t Bandung Lautan Api\\nApakah kalian tahu lagu “Halo-Halo Bandung” karya Ismail Marzuki? \\nLagu itu mengisahkan salah satu konflik atau perjuangan bersenjata yang</chunk>/data>\\n<data><id>75f218c9a1341be9b298ed3848d7c055__chunk_0005</id><chunk>F.\\t Bencana dan Penanganannya pada era Reformasi\\x08�����������������������175\\n1.\\t\\nGempa Bumi dan Tsunami Aceh\\x08����������������������������������������������������������176\\n2.\\t\\nGempa Jogja dan Letusan Gunung Merapi\\x08����������������������������������������176\\n3.\\t\\nGempa, Tsunami, dan Likuefaksi di Palu\\x08������������������������������������������177\\nGlosarium\\x08��������������������������������������������������������������������������������������������������������������������186\\nIndeks\\x08����������������������������������������������������������������������������������������������������������������������������188\\nDaftar Pustaka\\x08������������������������������������������������������������������������������������������������������������196\\nProfil Pelaku Perbukuan\\x08�����������������������������������������������������������������������������������������213\\nDaftar Gambar\\nGambar 1.1\\t Gigit Koin dalam Pepaya, salah satu lomba perayaan 17 \\nAgustus\\x08���������������������������������������������������������������������������������������������������5\\nGambar 1.2\\t Karnaval Perayaan HUT ke-77 RI di Cipete Utara, Jakarta\\x08�����5\\nGambar 1.3\\t Delegasi Konvensi Montevideo, 26 Desember 1933\\x08������������������6\\nGambar 1.4\\t Piagam Atlantik\\x08�����������������������������������������������������������������������������������7\\nGambar 1.5\\t Suasana \\nKonferensi \\nSan \\nFransisco. \\nKonferensi \\nyang \\nberlangsung pada 25 April—26 Juni 1945 ini menyepakati \\npembentukan PBB dan Piagam PBB\\x08����������������������������������������������8\\nGambar 1.6\\t Pemberitaan media tentang situasi di Indonesia selepas \\nProklamasi Kemerdekaan\\x08����������������������������������������������������������������9\\nGambar 1.7\\t Gedung NIROM (Nederlands Indische Radio Omroep \\nMaatchappi) yang pada masa pendudukan Jepang berubah \\nmenjadi Hoso Kyoku, tempat penyiaran berita proklamasi \\npertama kali lewat radio.\\x08��������������������������������������������������������������10\\nGambar 1.8\\t Papan nama dan papan tulis berisi ajakan untuk mengenang \\njasa pahlawan. Kedua papan ini ada di depan sebuah gedung \\nyang sebelumnya menjadi markas BKR di Padang. Foto ini \\ndiperkirakan diambil pada bulan Desember 1948\\x08����������������12\\nGambar 1.9\\t Maklumat Pemerintah 3 November 1945 yang dimuat dalam \\nBerita Repoeblik Indonesia\\x08�������������������������������������������������������������14\\nGambar 1.10\\t Maklumat Pemerintah 14 November 1945 yang dimuat dalam \\nBerita Repoeblik Indonesia\\x08�������������������������������������������������������������15\\nGambar 1.11\\t Sampul buku Peristiwa Tiga Daerah: Revolusi dalam Revolusi \\n(1989)\\x08���������������������������������������������������������������������������������������������������16\\nx\\nGambar 1.12\\t Tiga perempuan muda Indonesia di jalan. Dua di antaranya \\nadalah relawan Republik Indonesia dari Sulawesi, anggota \\nangkatan bersenjata muda KRIS, di Yogyakarta, Desember \\n1947\\x08������������������������������������������������������������������������������������������������������18\\nGambar 1.13\\t Pada 15 September 1944, Sekutu mendaratkan sekitar 57.000 \\npasukan di Morotai yang saat itu dipertahankan oleh sekitar \\n500 tentara Jepang\\x08���������������������������������������������������������������������������20\\nGambar 1.14\\t Peristiwa Bandung Lautan Api. Kota Bandung bagian selatan \\ndibakar oleh para pejuang sesaat sebelum ditinggalkan\\x08�����23\\nGambar 1.15\\t Konflik antara pasukan Inggris dan pemuda Surabaya \\nmemanas. Di akhir Oktober 1945, Sukarno dan Hatta \\ndiberangkatan dari Jakarta ke Surabaya untuk mendinginkan \\nsuasana dan mengatur gencatan senjata\\x08����������������������������������26\\nGambar 1.16 \\tGambar I Gusti Ngurah Rai\\x08�����������������������������������������������������������29\\nGambar 1.17\\t Duta besar Belanda di Jakarta Tjeerd De Zwaan berfoto \\nbersama keluarga korban pembantaian yang dilakukan \\nmiliter \\nBelanda \\npada \\n1945—1949 \\nuntuk \\nmenumpas \\nperlawanan Indonesia\\x08�������������������������������������������������������������������32</chunk>/data>\\n<data><id>75f218c9a1341be9b298ed3848d7c055__chunk_0002</id><chunk>pada Pendidikan Anak Usia Dini, Jenjang Pendidikan Dasar, dan Jenjang \\nPendidikan Menengah pada Kurikulum Merdeka. \\niv\\nSebagai dokumen hidup, buku ini tentu dapat diperbaiki dan disesuaikan \\ndengan kebutuhan dan perkembangan keilmuan dan teknologi. Oleh \\nkarena itu, saran dan masukan dari para guru, peserta didik, orang tua, \\ndan masyarakat sangat dibutuhkan untuk pengembangan buku ini di masa \\nyang akan datang. Pada kesempatan ini, Pusat Perbukuan menyampaikan \\nterima kasih kepada semua pihak yang telah terlibat dalam penyusunan \\nbuku ini, mulai dari penulis, penelaah, editor, ilustrator, desainer, dan \\nkontributor terkait lainnya. Semoga buku ini dapat bermanfaat khususnya \\nbagi peserta didik dan guru dalam meningkatkan mutu pembelajaran.\\nJakarta, Desember 2022\\nKepala Pusat,\\nSupriyatno\\nNIP 196804051988121001\\nv\\nPrakata\\nMata \\npelajaran \\nSejarah \\nKelas \\nXII \\nmenyajikan berbagai \\nmacam \\nperkembangan sejak masa sesudah Proklamasi hingga Reformasi. \\nBerbagai peristiwa sejarah dalam buku ini disajikan secara kronologis \\nuntuk memudahkan peserta didik mempelajarinya. Selain itu, buku ini \\njuga berusaha memperlihatkan dinamika berbagai aspek kehidupan \\nmanusia, misalnya ekonomi, sosial, budaya, dan aspek sinkronis lainnya \\ndalam lintasan sejarah. Melalui buku ini, peserta didik juga diajak untuk \\nmemahami kompleksitas kehidupan manusia di masa lalu dengan \\nmenelusuri keterkaitan antara peristiwa pada tingkat lokal, nasional, \\nhingga global.\\nBuku ini disusun berdasar kurikulum yang mengusung semangat \\nmerdeka belajar dan membekali peserta didik dengan berbagai \\nketerampilan abad ke-21. Sejarah dalam buku ini berusaha disampaikan \\nsecara menarik dan kontekstual. Harapannya, peserta didik tidak hanya \\nbelajar sejarah karena keterpaksaan, tetapi karena ketertarikan. Berbagai \\npengetahuan baru tentang masa lalu bisa memberikan inspirasi untuk \\nkehidupan di masa kini dan masa yang akan datang. Secara sederhana, \\nsejarah dalam buku ini diharapkan mampu menumbuhkan kesadaran \\nsejarah pada diri peserta didik yang selaras dengan Profil Pelajar Pancasila. \\nSemoga buku ini dapat menjadi inspirasi dan membantu peserta \\ndidik dalam membelajarkan sejarah secara kritis, kreatif, dan inovatif. \\nSaran, masukan, dan kritik akan kami terima untuk perbaikan dan \\npenyempurnaan buku ini pada edisi berikutnya.\\nJakarta, Desember 2022\\nTim Penulis \\nvi\\nDaftar Isi\\nKata Pengantar\\x08��������������������������������������������������������������������������������������������������������������iii\\nPrakata\\x08�������������������������������������������������������������������������������������������������������������������������������v\\nDaftar Isi\\x08��������������������������������������������������������������������������������������������������������������������������vi \\nDaftar Gambar\\x08����������������������������������������������������������������������������������������������������������������x\\nPetunjuk Penggunaan Buku\\x08���������������������������������������������������������������������������������xviii\\nBab 1 Perjuangan Mempertahankan Kemerdekaan\\x08............................... 1\\nA.\\t Pembentukan Negara dan Pemerintahan Republik Indonesia\\x08��������6\\nB.\\t Pergolakan di Awal Revolusi \\x08�������������������������������������������������������������16\\n1.\\t\\nPerebutan Senjata dan Pengambilalihan Kekuasaan dari Pihak \\nJepang\\x08�������������������������������������������������������������������������������������������������������������18\\n2.\\t\\nKedatangan Sekutu dan NICA\\x08�����������������������������������������������������������������19\\n\\t\\na. Pertempuran Medan Area\\x08�������������������������������������������������������������������22\\n\\t\\nb. Bandung Lautan Api\\x08������������������������������������������������������������������������������23\\n\\t\\nc. Palagan Ambarawa\\x08��������������������������������������������������������������������������������24\\n\\t\\nd. Pertempuran Surabaya\\x08�������������������������������������������������������������������������25</chunk>/data>\\n<data><id>75f218c9a1341be9b298ed3848d7c055__chunk_0006</id><chunk>Gambar 1.14\\t Peristiwa Bandung Lautan Api. Kota Bandung bagian selatan \\ndibakar oleh para pejuang sesaat sebelum ditinggalkan\\x08�����23\\nGambar 1.15\\t Konflik antara pasukan Inggris dan pemuda Surabaya \\nmemanas. Di akhir Oktober 1945, Sukarno dan Hatta \\ndiberangkatan dari Jakarta ke Surabaya untuk mendinginkan \\nsuasana dan mengatur gencatan senjata\\x08����������������������������������26\\nGambar 1.16 \\tGambar I Gusti Ngurah Rai\\x08�����������������������������������������������������������29\\nGambar 1.17\\t Duta besar Belanda di Jakarta Tjeerd De Zwaan berfoto \\nbersama keluarga korban pembantaian yang dilakukan \\nmiliter \\nBelanda \\npada \\n1945—1949 \\nuntuk \\nmenumpas \\nperlawanan Indonesia\\x08�������������������������������������������������������������������32\\nGambar 1.18\\t Raja Belanda Willem Alexander dan Ratu Maxima di dalam \\nkonferensi pers di Istana Bogor\\x08���������������������������������������������������33\\nGambar 1.19\\t Suasana Penandatangan hasil perundingan Linggarjati, \\ntampak Amir Syarifudin, Mohammad Roem, F. de Boer, Sutan \\nSjahrir, Willem Schermerhorn, Van Mook, Max van Pol\\x08�����37\\nGambar 1.20 Abdulkadir Widjojoatmodjo, wakil Belanda di Perjanjian \\nRenville\\x08�����������������������������������������������������������������������������������������������38\\nGambar 1.21\\t Amir Syarifuddin, wakil Indonesia di Perjanjian Renville\\x08��38\\nGambar 1.23\\t Long March pasukan Indonesia dari Kuningan, Jawa Barat ke \\nJawa Tengah dengan perlengkapan seadanya\\x08������������������������40\\nGambar 1.24\\t Orang-Orang di Persimpangan Kiri Jalan\\x08���������������������������������41\\nxi\\nGambar 1.25\\t A.A. Maramis, Menteri Luar Negeri PDRI\\x08���������������������������������43\\nGambar 1.26\\t Jawaharlal Nehru, Perdana Menteri India\\x08�������������������������������43\\nGambar 1.27\\t Konferensi Inter-Indonesia pertama di Yogyakarta\\x08��������������45\\nGambar 1.28\\t Delegasi Indonesia dalam sidang DK PBB tahun 1947. Dari kiri \\nke kanan: Soedjatmoko, Soemitro Djojohadikoesoemo, Sutan \\nSjahrir, Charles Tamboe, H. Agoes Salim. Duduk di sebelah \\nmereka adalah perwakilan India yaitu Dr. Padmanaba Pillai \\n\\x08���������������������������������������������������������������������������������������������������������������48\\nGambar 1.29\\t Sukarno sedang berbincang dengan pejabat formatur \\nparlemen terpilih Mohammad Natsir di Istana Negara Jakarta\\n\\x08���������������������������������������������������������������������������������������������������������������52\\nGambar 1.30\\t Poster karya seniman Indonesia yang menolak keberadaan \\nkembali \\nBelanda \\ndi \\nIndonesia \\nselepas \\nproklamasi \\nkemerdekaan\\x08������������������������������������������������������������������������������������56\\nGambar 1.31\\t Laskar Rakyat Mengatoe Siasat (1946)\\x08��������������������������������������57\\nGambar 1.32\\t Persiapan Gerilja (1946)\\x08�����������������������������������������������������������������57\\nGambar 1.33\\t Kawan-Kawan Revolusi (1947)\\x08����������������������������������������������������58\\nGambar 1.34\\t Pengantin Revolusi (1955)\\x08�������������������������������������������������������������58\\nGambar 1.35\\t Para tentara pelajar Republik Indonesia\\x08����������������������������������61\\nGambar 1.36\\t Potongan surat kabar Asia Raya\\x08.........................................62\\nGambar 1.37 \\tPerundingan Indonesia-Belanda\\x08�������������������������������������������������63\\nGambar 1.38 \\tPoster propaganda Jawatan Penerangan Republik Indonesia\\n\\x08���������������������������������������������������������������������������������������������������������������66\\nGambar 1.39\\t Pasukan gerilya berjaga-jaga di area persawahan\\x08����������������67\\nGambar 1.40\\t Poster propaganda pembentukan Negara Indonesia Timur \\nsebagai bagian dari politik kolonialisme Belanda\\x08�����������������68\\nxii\\nGambar 2.1\\t Gedung Bank Indonesia (1936) dan spesimen uang yang \\ndikeluarkan oleh Bank Indonesia\\x08�����������������������������������������������73\\nGambar 2.2\\t Pembentukan Perserikatan Bangsa-Bangsa (PBB) pada \\n24 Oktober 1945 melahirkan Piagam PBB sebagai salah</chunk>/data>\\n<data><id>75f218c9a1341be9b298ed3848d7c055__chunk_0038</id><chunk>misalnya lagu “Halo-Halo Bandung” karya Ismail Marzuki yang merekam \\nperistiwa Bandung Lautan Api. \\nPada masa revolusi, para sastrawan ikut berjuang dengan menghasilkan \\nkarya yang mampu memperkaya pengalaman, menanamkan kesadaran, \\ndan menumbuhkan kepekaan. Salah satu pengarang produktif di masa \\nRevolusi adalah Pramoedya Ananta Toer. Antara tahun 1947 —1957, ia telah \\nmelahirkan enam novel dan beberapa kumpulan cerpen berlatar masa \\nRevolusi. Beberapa di antaranya Sepoeloeh Kepala Nica (1946), Keluarga \\nGerilya (1950), Dia yang Menyerah (1951) , dan Bukan Pasar Malam (1951). \\nSelain Pram, ada juga Idrus yang menulis karya berjudul Dari Ave Maria \\nKe Jalan Lain Ke Roma (1948). Buku ini merupakan  kumpulan kisah-kisah \\ndari zaman pendudukan Jepang hingga revolusi fisik di antaranya berjudul \\n“Surabaya”, “Dari Ave Maria”, “Jalan Lain ke Roma”.\\n3.\\t Peran Pelajar dan Mahasiswa\\nKeinginan Belanda untuk kembali menguasai Indonesia memunculkan \\nkomitmen seluruh masyarakat untuk mempertahankan kemerdekaan, \\ntermasuk kelompok pelajar. Pada Juli 1945, para pelajar setingkat SMP dan \\nSMA di Surabaya pada Juli 1945 berikrar untuk berjuang mempertahankan \\nkemerdekaan Indonesia. Pada 25 September 1945, di Yogyakarta \\ndiselenggarakan rapat umum yang dihadiri para pemudadan peajar dari \\nJawa dan Madura. Pada September 1945, para pelajar Magelang membentuk \\nGabungan Sekolah Menengah yang kemudian melebur dengan Ikatan \\nPelajar Indonesia Kedu. Pembentukan perkumpulan-perkumpulan pelajar \\ndi beberapa wilayah di Indonesia tersebut menunjukkan tumbuhnya rasa \\npatriotisme pelajar Indonesia. Semangat inilah yang kemudian menjadi \\nlatar belakang lahirnya organisasi Ikatan Pelajar Indonesia (IPI). \\nSewaktu pusat pemerintahan pindah ke Yogyakarta, para pengurus IPI \\njuga ikut mengungsi. Di ibu kota yag baru ini, para anggota IPI menginginkan \\n61\\nBAB 1: PERJUANGAN MEMPERTAHANKAN KEMERDEKAAN\\nadanya pasukan tempur sendiri dari kelompok pelajar. Oleh karena itu, IPI \\nmembentuk Markas Pertahanan Pelajar (MPP) yang merupakan cabang \\ndi bagian pertahanan. MPP memiliki tiga resimen yang tersebar di Jawa \\ntimur, Jawa Tengah, dan Jawa Barat. Pada 17 Juli 1946, di Lapangan Pingit \\nYogyakarta, Mayor Jenderal dr. Moestopo resmi melantik dan mengukuhkan \\npasukan pelajar ini sebagai Tentara Pelajar. \\nDi samping latihan rutin baris-berbaris dan bela negara, Tentara Pelajar \\nini juga aktif menjalankan perannya sebagai pelajar. Ketika keadaan genting \\ndan tugas negara memanggil, dengan segera para pasukan intelektual ini \\nberubah peran menjadi tentara pelajar. Saat terjadi Agresi Militer Belanda \\nII, Tentara Pelajar Indonesia masuk ke dalam jajaran Brigade 17 TNI di \\nbawah kendali Markas Besar Komando Djawa (MBKD). \\nKeberadaan Tentara Pelajar memang secara resmi dibubarkan pada \\nawal 1951. Namun, peran aktif pelajar sebagai generasi penerus dalam \\nmempertahankan dan mengisi kemerdekaan senantiasa tak lekang oleh \\nzaman. \\nGambar 1.35 Para tentara pelajar Republik Indonesia\\nSumber: : IPPHOS/PNRI (1949)\\n62\\nSEJARAH UNTUK SMA/MA KELAS XII\\nASESMEN\\nPilihan Ganda\\n1.\\t Perhatikan potongan surat kabar Asia Raya tanggal 18 Agustus 1945 \\nberikut!\\nKonvensi Montevideo pada tahun 1933 mengatur tentang syarat \\ndiakuinya sebuah negara dalam hubungan internasional. Potongan sumber \\nsejarah di atas menunjukkan terpenuhinya salah satu syarat diakuinya \\nIndonesia sebagai sebuah negara, yaitu…\\na.\\t Memiliki konstitusi\\nb.\\t Memiliki pemerintahan\\nc.\\t Memiliki kepala negara\\nd.\\t Memiliki rencana pembangunan\\ne.\\t Memiliki lembaga perwakilan rakyat\\nGambar 1.36 Potongan surat kabar Asia Raya\\nSumber: : Repro Asia Raya/PNRI (1945)\\n63\\nBAB 1: PERJUANGAN MEMPERTAHANKAN KEMERDEKAAN\\n2.\\t Perhatikan foto dan keterangan berikut dari Arsip Nasional Republik \\nIndonesia!\\nPada tanggal 7 Oktober 1946, Konsulat Jenderal Inggris Lord \\nKillearn memimpin perundingan antara Indonesia dan Belanda \\ndi Gedung Konsulat\\xa0Inggris di Jakarta. Delegasi Indonesia diketuai</chunk>/data>\\n```', id='9f0ef187-ebce-4aae-965d-88fb95ce502d', tool_call_id='call_kf4K2ImO3kQifpfJMrnbuzh6')]}}\n",
      "\n",
      "\n",
      "{'llm_node': {'messages': [AIMessage(content='Peristiwa Bandung Lautan Api terjadi pada tanggal 23 Maret 1946.[](75f218c9a1341be9b298ed3848d7c055__chunk_0022)', additional_kwargs={'refusal': None}, response_metadata={'token_usage': {'completion_tokens': 48, 'prompt_tokens': 10521, 'total_tokens': 10569, 'completion_tokens_details': None, 'prompt_tokens_details': None}, 'model_name': 'gpt-4-turbo-2024-04-09', 'system_fingerprint': 'fp_5603ee5e2e', 'id': 'chatcmpl-CGGGsEjU0ylOvFMgZfRAIecK7aQng', 'service_tier': None, 'prompt_filter_results': [{'prompt_index': 0, 'content_filter_results': {'hate': {'filtered': False, 'severity': 'safe'}, 'jailbreak': {'filtered': False, 'detected': False}, 'self_harm': {'filtered': False, 'severity': 'safe'}, 'sexual': {'filtered': False, 'severity': 'safe'}, 'violence': {'filtered': False, 'severity': 'safe'}}}], 'finish_reason': 'stop', 'logprobs': None, 'content_filter_results': {'hate': {'filtered': False, 'severity': 'safe'}, 'self_harm': {'filtered': False, 'severity': 'safe'}, 'sexual': {'filtered': False, 'severity': 'safe'}, 'violence': {'filtered': False, 'severity': 'safe'}}}, id='run--6cf5dc9f-5ea9-492d-8493-3e8be0c7dd3a-0', usage_metadata={'input_tokens': 10521, 'output_tokens': 48, 'total_tokens': 10569, 'input_token_details': {}, 'output_token_details': {}})]}}\n",
      "\n",
      "\n"
     ]
    },
    {
     "name": "stdin",
     "output_type": "stream",
     "text": [
      ">  Apa yang terjadi pada 23 Marekt 1946?\n"
     ]
    },
    {
     "name": "stdout",
     "output_type": "stream",
     "text": [
      "{'llm_node': {'messages': [AIMessage(content='Pada tanggal 23 Maret 1946, terjadi sebuah peristiwa penting dalam sejarah perjuangan Indonesia yaitu Bandung Lautan Api. Peristiwa ini terjadi ketika Sekutu, yang diboncengi oleh NICA, hadir di Bandung dan menuntut agar rakyat Indonesia menyerahkan senjata mereka dan mengambil alih berbagai fasilitas.\\n\\nDalam situasi ini, para pejuang Indonesia, yang saat itu kekuatan senjatanya terbatas dan tidak ingin terjadi pertumpahan darah lebih lanjut, memutuskan untuk melakukan taktik bumi hangus di Bandung. Mereka memutuskan untuk membakar bagian selatan kota Bandung sebagai bagian dari strategi perang untuk mencegah fasilitas-fasilitas di sana dimanfaatkan oleh Sekutu.\\n\\nStrategi ini merupakan bentuk perlawanan dan menghindari konfrontasi langsung yang berdarah dengan kekuatan bersenjata Sekutu yang jauh lebih superior. Ini juga menunjukkan semangat dan determinasi pejuang Indonesia untuk mempertahankan kemerdekaan dari kekuatan asing yang ingin menguasai kembali Indonesia.', additional_kwargs={'refusal': None}, response_metadata={'token_usage': {'completion_tokens': 283, 'prompt_tokens': 10590, 'total_tokens': 10873, 'completion_tokens_details': None, 'prompt_tokens_details': None}, 'model_name': 'gpt-4-turbo-2024-04-09', 'system_fingerprint': 'fp_5603ee5e2e', 'id': 'chatcmpl-CGGHjvrVmagV1W19Z805zcLYmUpEX', 'service_tier': None, 'prompt_filter_results': [{'prompt_index': 0, 'content_filter_results': {'hate': {'filtered': False, 'severity': 'safe'}, 'jailbreak': {'filtered': False, 'detected': False}, 'self_harm': {'filtered': False, 'severity': 'safe'}, 'sexual': {'filtered': False, 'severity': 'safe'}, 'violence': {'filtered': False, 'severity': 'safe'}}}], 'finish_reason': 'stop', 'logprobs': None, 'content_filter_results': {'hate': {'filtered': False, 'severity': 'safe'}, 'protected_material_code': {'filtered': False, 'detected': False}, 'protected_material_text': {'filtered': False, 'detected': False}, 'self_harm': {'filtered': False, 'severity': 'safe'}, 'sexual': {'filtered': False, 'severity': 'safe'}, 'violence': {'filtered': False, 'severity': 'safe'}}}, id='run--7d5e7790-0ce0-43b6-9082-bb9ccc835cae-0', usage_metadata={'input_tokens': 10590, 'output_tokens': 283, 'total_tokens': 10873, 'input_token_details': {}, 'output_token_details': {}})]}}\n",
      "\n",
      "\n"
     ]
    },
    {
     "name": "stdin",
     "output_type": "stream",
     "text": [
      ">  Apa prompt pertama saya?\n"
     ]
    },
    {
     "name": "stdout",
     "output_type": "stream",
     "text": [
      "{'llm_node': {'messages': [AIMessage(content='Prompt pertama Anda adalah: \"Halo! ini prompt pertama saya\"', additional_kwargs={'refusal': None}, response_metadata={'token_usage': {'completion_tokens': 17, 'prompt_tokens': 10887, 'total_tokens': 10904, 'completion_tokens_details': None, 'prompt_tokens_details': None}, 'model_name': 'gpt-4-turbo-2024-04-09', 'system_fingerprint': 'fp_5603ee5e2e', 'id': 'chatcmpl-CGGIVzYPveSBeLIQeHen6gX6uRilb', 'service_tier': None, 'prompt_filter_results': [{'prompt_index': 0, 'content_filter_results': {'hate': {'filtered': False, 'severity': 'safe'}, 'jailbreak': {'filtered': False, 'detected': False}, 'self_harm': {'filtered': False, 'severity': 'safe'}, 'sexual': {'filtered': False, 'severity': 'safe'}, 'violence': {'filtered': False, 'severity': 'safe'}}}], 'finish_reason': 'stop', 'logprobs': None, 'content_filter_results': {'hate': {'filtered': False, 'severity': 'safe'}, 'protected_material_code': {'filtered': False, 'detected': False}, 'protected_material_text': {'filtered': False, 'detected': False}, 'self_harm': {'filtered': False, 'severity': 'safe'}, 'sexual': {'filtered': False, 'severity': 'safe'}, 'violence': {'filtered': False, 'severity': 'safe'}}}, id='run--61e4354a-8492-42a8-b808-9b530750d8da-0', usage_metadata={'input_tokens': 10887, 'output_tokens': 17, 'total_tokens': 10904, 'input_token_details': {}, 'output_token_details': {}})]}}\n",
      "\n",
      "\n"
     ]
    },
    {
     "name": "stdin",
     "output_type": "stream",
     "text": [
      ">  Woo memory kamu berjalan!\n"
     ]
    },
    {
     "name": "stdout",
     "output_type": "stream",
     "text": [
      "{'llm_node': {'messages': [AIMessage(content='Terima kasih! Senang bisa membantu Anda. Jika ada pertanyaan atau informasi lain yang Anda butuhkan, jangan ragu untuk bertanya!', additional_kwargs={'refusal': None}, response_metadata={'token_usage': {'completion_tokens': 37, 'prompt_tokens': 10919, 'total_tokens': 10956, 'completion_tokens_details': None, 'prompt_tokens_details': None}, 'model_name': 'gpt-4-turbo-2024-04-09', 'system_fingerprint': 'fp_5603ee5e2e', 'id': 'chatcmpl-CGGIhicRIjeBY6g7BoaDy21vv3poa', 'service_tier': None, 'prompt_filter_results': [{'prompt_index': 0, 'content_filter_results': {'hate': {'filtered': False, 'severity': 'safe'}, 'jailbreak': {'filtered': False, 'detected': False}, 'self_harm': {'filtered': False, 'severity': 'safe'}, 'sexual': {'filtered': False, 'severity': 'safe'}, 'violence': {'filtered': False, 'severity': 'safe'}}}], 'finish_reason': 'stop', 'logprobs': None, 'content_filter_results': {'hate': {'filtered': False, 'severity': 'safe'}, 'self_harm': {'filtered': False, 'severity': 'safe'}, 'sexual': {'filtered': False, 'severity': 'safe'}, 'violence': {'filtered': False, 'severity': 'safe'}}}, id='run--8c0b1997-f3a6-460b-92fd-f2848ea68913-0', usage_metadata={'input_tokens': 10919, 'output_tokens': 37, 'total_tokens': 10956, 'input_token_details': {}, 'output_token_details': {}})]}}\n",
      "\n",
      "\n"
     ]
    },
    {
     "name": "stdin",
     "output_type": "stream",
     "text": [
      ">  q\n"
     ]
    },
    {
     "name": "stdout",
     "output_type": "stream",
     "text": [
      "Goodbye!\n"
     ]
    }
   ],
   "source": [
    "## Prepare the graph session for the checkpoint\n",
    "chat_id = \"unique-id-06\"\n",
    "stream_chat(chat_id)"
   ]
  },
  {
   "cell_type": "code",
   "execution_count": null,
   "id": "f186b3e1-2883-473d-a430-e7d10a192b2a",
   "metadata": {},
   "outputs": [],
   "source": []
  }
 ],
 "metadata": {
  "kernelspec": {
   "display_name": "Python 3 (ipykernel)",
   "language": "python",
   "name": "python3"
  },
  "language_info": {
   "codemirror_mode": {
    "name": "ipython",
    "version": 3
   },
   "file_extension": ".py",
   "mimetype": "text/x-python",
   "name": "python",
   "nbconvert_exporter": "python",
   "pygments_lexer": "ipython3",
   "version": "3.12.11"
  }
 },
 "nbformat": 4,
 "nbformat_minor": 5
}
