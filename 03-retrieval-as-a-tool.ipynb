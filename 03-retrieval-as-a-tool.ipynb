{
 "cells": [
  {
   "cell_type": "markdown",
   "id": "2ae12f82-de31-41d5-8c1b-dadf77779603",
   "metadata": {},
   "source": [
    "# Retrieval as a Tool\n",
    "\n",
    "Where in the last usage, the retrieval is defined by graph so it can clearly what every steps doing. In the production use, we would like the retrieval as a tool. In this notebook, we will try to create a tool based on the last notebook."
   ]
  },
  {
   "cell_type": "code",
   "execution_count": 1,
   "id": "1beae1b1-44da-4ea0-a2eb-4eca0aa1b528",
   "metadata": {},
   "outputs": [
    {
     "data": {
      "text/plain": [
       "True"
      ]
     },
     "execution_count": 1,
     "metadata": {},
     "output_type": "execute_result"
    }
   ],
   "source": [
    "# Prepare environment variable\n",
    "# You should check env.example file\n",
    "# It's needed throughout this jupyter notebook\n",
    "import os\n",
    "from dotenv import load_dotenv\n",
    "load_dotenv()"
   ]
  },
  {
   "cell_type": "markdown",
   "id": "f8603791-3c51-4593-8854-b1fdb53b7553",
   "metadata": {},
   "source": [
    "# Retrieval Tool\n",
    "\n",
    "Creating tools meaning we are only doing what the tools intendeed, let the summarizer by the agent it self"
   ]
  },
  {
   "cell_type": "code",
   "execution_count": 27,
   "id": "f214cf88-46ba-43fe-8897-83e266e3745a",
   "metadata": {},
   "outputs": [],
   "source": [
    "# Prepare library\n",
    "## AI Search related\n",
    "import langchain_community.vectorstores.azuresearch as azuresearch\n",
    "from langchain_community.vectorstores.azuresearch import AzureSearch\n",
    "from langchain_openai import AzureOpenAIEmbeddings\n",
    "\n",
    "## LLM related\n",
    "import os\n",
    "import json\n",
    "from langchain.chat_models import init_chat_model\n",
    "\n",
    "## Tool creation related\n",
    "from langchain_core.tools import tool\n",
    "from langchain_core.messages import SystemMessage, HumanMessage, AIMessage, AnyMessage"
   ]
  },
  {
   "cell_type": "code",
   "execution_count": 28,
   "id": "66c22b0e-9d2e-4ecb-bdc8-9cce4ba82c45",
   "metadata": {},
   "outputs": [],
   "source": [
    "# Check if you already prepare the environment file\n",
    "index_name = \"kaenova-testing-3\" # You can change it, if you want to\n",
    "api_version = \"2024-12-01-preview\"\n",
    "langchain_model_name = \"azure_openai:gpt-4\" # Adjust based on what you deployed \n",
    "\n",
    "for key in [\"AZURE_AIS_ENDPOINT\", \"AZURE_AIS_KEY\", \"AZURE_OAI_ENDPOINT\", \"AZURE_OAI_KEY\", \"AZURE_OAI_DEPLOYMENT\", \"AZURE_OAI_CHAT_DEPLOYMENT\"]:\n",
    "    if not os.getenv(key):\n",
    "        raise ValueError(f\"{key} is not provided\")"
   ]
  },
  {
   "cell_type": "code",
   "execution_count": 29,
   "id": "1c86ddfa-db20-4e6e-9953-c56efe6b18c9",
   "metadata": {},
   "outputs": [],
   "source": [
    "# !important you may change this. Map the fields into the connector library\n",
    "azuresearch.FIELDS_CONTENT = \"chunk\"\n",
    "azuresearch.FIELDS_CONTENT_VECTOR = \"chunk_vector\"\n",
    "azuresearch.FIELDS_ID = \"id\""
   ]
  },
  {
   "cell_type": "code",
   "execution_count": 30,
   "id": "dd614b0d-21de-445a-a5dc-6c85e3c51290",
   "metadata": {},
   "outputs": [],
   "source": [
    "# Prepare the embedding function\n",
    "embeddings : AzureOpenAIEmbeddings = AzureOpenAIEmbeddings(\n",
    "    azure_deployment=os.getenv(\"AZURE_OAI_DEPLOYMENT\"),\n",
    "    openai_api_version=api_version,\n",
    "    azure_endpoint=os.getenv(\"AZURE_OAI_ENDPOINT\"),\n",
    "    api_key=os.getenv(\"AZURE_OAI_KEY\"),\n",
    ")\n",
    "\n",
    "embeddings_function = embeddings.embed_query"
   ]
  },
  {
   "cell_type": "code",
   "execution_count": 31,
   "id": "f1cc862a-61c0-4c9b-b129-0b18c11a208a",
   "metadata": {},
   "outputs": [],
   "source": [
    "# Create Azure AI Search client\n",
    "vector_store: AzureSearch = AzureSearch(\n",
    "    azure_search_endpoint=os.getenv(\"AZURE_AIS_ENDPOINT\"),\n",
    "    azure_search_key=os.getenv(\"AZURE_AIS_KEY\"),\n",
    "    index_name=index_name,\n",
    "    embedding_function=embeddings.embed_query,\n",
    ")"
   ]
  },
  {
   "cell_type": "code",
   "execution_count": 51,
   "id": "d3c8c055-e67c-4de0-aa6c-61881775a47e",
   "metadata": {},
   "outputs": [],
   "source": [
    "# Prepare LLM for query Expander\n",
    "os.environ[\"AZURE_OPENAI_API_KEY\"] = os.getenv(\"AZURE_OAI_KEY\")\n",
    "os.environ[\"AZURE_OPENAI_ENDPOINT\"] = os.getenv(\"AZURE_OAI_ENDPOINT\")\n",
    "os.environ[\"OPENAI_API_VERSION\"] = api_version\n",
    "\n",
    "chat_llm = init_chat_model(\n",
    "    langchain_model_name,\n",
    "    azure_deployment=os.environ[\"AZURE_OAI_CHAT_DEPLOYMENT\"],\n",
    ")"
   ]
  },
  {
   "cell_type": "code",
   "execution_count": 106,
   "id": "47e63b9e-2b35-4580-a789-b80df7394c61",
   "metadata": {},
   "outputs": [],
   "source": [
    "# Define the steps of retrieval flow\n",
    "def expand_query(questions: str) -> list[str]:\n",
    "    system_prompt = (\n",
    "        \"You're a search query expander, you'll get a user question and you need to create multiple concise, keyworded, and general search query\"\n",
    "        \"That'll be injected to the Azure AI Search\"\n",
    "        \"Return the question only in JSON array without any codeblocks\"\n",
    "        \"You'll only return like \\'[\\\"query_1\\\", \\\"query_2\\\", \\\"query_3\\\", \\\"query_4\\\", \\\"query_5\\\"]\\'\"\n",
    "    )\n",
    "\n",
    "    valid = False\n",
    "    data = []\n",
    "    while not valid:\n",
    "        result = chat_llm.invoke([SystemMessage(content=system_prompt), HumanMessage(content=questions)])\n",
    "        print(\"[expand_query] llm_result\", result.content)\n",
    "        \n",
    "        try:\n",
    "            data = json.loads(result.content)\n",
    "            if type(data) is list:\n",
    "                valid = True\n",
    "        except:\n",
    "            print(\"[expand_query] not a valid value\")\n",
    "\n",
    "    return data\n",
    "\n",
    "def retrieve_documents(questions: list[str]) -> list[str]:\n",
    "    retrieved_chunks = []\n",
    "    for question in questions:\n",
    "        answers = vector_store.semantic_hybrid_search(\n",
    "            query=question, k=5,\n",
    "        )\n",
    "        for x in answers:\n",
    "            chunk_data = {\n",
    "                \"id\": x.metadata['id'],\n",
    "                \"content\": x.page_content\n",
    "            }\n",
    "            retrieved_chunks.append(f\"{json.dumps(chunk_data)}\")\n",
    "    print(\"[retrieve_documents] retrieved before set\", len(retrieved_chunks), \"of documents\")\n",
    "    final_chunks = list(set(retrieved_chunks))\n",
    "    print(\"[retrieve_documents] retrieved\", len(final_chunks), \"of documents\")\n",
    "    return retrieved_chunks"
   ]
  },
  {
   "cell_type": "code",
   "execution_count": 107,
   "id": "bedbcc02-d06a-469e-8bec-5488d86eeaf1",
   "metadata": {},
   "outputs": [],
   "source": [
    "# Creating the tool itself\n",
    "\n",
    "@tool\n",
    "def retrieve_tool(questions: str) -> list[str]:\n",
    "    \"\"\"Tool to retrieve document based on the questions related. This will return a json of related documents\"\"\"\n",
    "    generated_questions = expand_query(questions)\n",
    "    return retrieve_documents(generated_questions)"
   ]
  },
  {
   "cell_type": "code",
   "execution_count": 108,
   "id": "2a4f6c62-5552-4507-8c03-4741a62dbf52",
   "metadata": {},
   "outputs": [
    {
     "name": "stdout",
     "output_type": "stream",
     "text": [
      "[expand_query] llm_result [\"sejarah gerakan perempuan\", \"kapan mulai gerakan feminis\", \"tanggal penting dalam gerakan perempuan\", \"awal mula feminisme\", \"timeline gerakan hak perempuan\"]\n",
      "[retrieve_documents] retrieved before set 25 of documents\n",
      "[retrieve_documents] retrieved 7 of documents\n",
      "['{\"id\": \"75f218c9a1341be9b298ed3848d7c055__chunk_0045\", \"content\": \"banyak kelompok yang memiliki massa, baik yang berbasis ideologi \\\\npolitik maupun agama. Kekuatan kelompok tersebut memunculkan warna \\\\nyang beragam pada identitas nasional dan berbagai peristiwa sejarah di \\\\nIndonesia. Beberapa di antaranya akan dibahas pada subbab berikut.\\\\n1.\\\\t Gerakan Perempuan \\\\nGerakan Perempuan pada tahun 1950\\\\u20141960 merupakan salah satu \\\\nperiode pergerakan paling progresif setelah tahun 1928. Pada periode ini \\\\nbanyak organisasi perempuan yang berafiliasi dengan kekuatan-kekuatan \\\\norganisasi massa yang besar. Sebagai contoh Aisyiah dari Muhammadiyah, \\\\nMuslimat dari Masyumi, Muslimat Nahdlatul Ulama (NU) dari NU, Perwari, \\\\ndan juga Gerakan Wanita Istri Sedar (Gerwis). Gerwis merupakan gabungan \\\\ndari ratusan aktivis dan berbagai organisasi perempuan, misalnya Rukun \\\\nPutri Indonesia, Persatuan Wanita Sedar, Isteri Sedar, Gerakan Wanita \\\\nIndonesia, dan Perjuangan Putri Republik Indonesia. Pada kongres pertama \\\\ntahun 1951, Gerwis berubah nama menjadi Gerwani (Gerakan Wanita \\\\nIndonesia). Pada tahun 1954 PKI memanfaatkan organisasi ini untuk \\\\nmenggalang suara pada Pemilu 1955.\\\\nGambar 2.6 Beberapa organisasi perempuan berdemo menentang PP No. 19 Tahun 1952. \\\\nPeraturan pemerintah ini secara implisit mendukung poligini di kalangan pegawai negeri.\\\\nSumber: Repro Historia (2018)\\\\n82\\\\nSEJARAH UNTUK SMA/MA KELAS XII\\\\nSelain terkait dengan basis massa yang besar, terdapat isu krusial yang \\\\ndiangkat pada tahun 1950an di antaranya adalah UU Perkawinan dan \\\\nisu poligami. Kalangan organisasi maupun aktivis perempuan, menilai \\\\nperlunya dibentuk komisi khusus yang merancang hukum perkawinan \\\\nyang berpihak pada perempuan. Untuk itu dibentuk Komisi NTR (Nikah, \\\\nTalak, Rujuk). Polemik pembuatan UU Perkawinan masih bergulir sampai \\\\ndengan berakhirnya pemerintahan Sukarno dan akhirnya dapat disahkan \\\\npada tahun 1974. \\\\nSejarah Hari (Perjuangan) Ibu\\\\nGerakan sosial perempuan ditandai dengan terselenggaranya kongres \\\\npada 22\\\\u201425 Desember 1928. Kongres ini memperjuangkan semangat \\\\nperempuan dalam berkiprah. Mengingat pentingnya peristiwa tersebut dan \\\\nuntuk mengapresiasi langkah yang dilakukan oleh organisasi perempuan, \\\\nPresiden Sukarno mencanangkan 22 Desember sebagai peringatan Hari \\\\nIbu melalui SK no. 316 tanggal 18 Desember 1959. Sejak ditetapkannya surat \\\\nkeputusan itu, seluruh bangsa Indonesia memperingati Hari Ibu pada 22 \\\\nDesember. Tujuannya agar dapat mengenang dan menghayati semangat \\\\nkebangkitan kaum perempuan Indonesia. Apresiasi terhadap perjuangan \\\\nkaum perempuan layak dilakukan untuk menguatkan pikiran, tekad, dan \\\\nsemangat dalam memperbaiki serta meningkatkan hak, kewajiban, dan \\\\nkedudukan perempuan. \\\\nApabila kalian ingin menggali lebih dalam mengenai \\\\nsejarah gerakan perempuan di Indonesia, kalian dapat \\\\nmembaca berbagai buku, artikel, jurnal, atau laman bacaan \\\\npopuler berikut: https://historia.id/politik/articles/tonggak-\\\\ntonggak-gerakan-perempuan-indonesia-vogLG/page/3  \\\\nKalian juga bisa memindai kode QR berikut.\\\\nVIVA HISTORIA\\\\n83\\\\nBAB 2: DEMOKRASI LIBERAL HINGGA DEMOKRASI TERPIMPIN (1950\\\\u20141966)\\\\nSumber: \\\\nI Gusti Agung Ayu Ratih dkk, 2016, Merayakan Ibu Bangsa, Jakarta: Direktorat Sejarah, \\\\nKementerian Pendidikan dan Kebudayaan.\\\\nAndri Setiawan, 2020. \\\\u201cTonggak-tonggak Gerakan Perempuan Indonesia\\\\u201d. Historia. \\\\nDapat diakses pada https://historia.id/politik/articles/tonggak-tonggak-gerakan-\\\\nperempuan-indonesia-vogLG/page/3\\\\n 2.\\\\t Pemilihan Umum Pertama\\\\nSebagai negara yang baru melewati masa kemerdekaannya, Indonesia \\\\nmelaksanakan pemilihan umum pertama kali pada tahun 1955. Apakah \\\\nkalian pernah membayangkan bagaimana awal mula dan jalannya Pemilu \\\\npertama di Indonesia? \\\\nGambar 2.7 Suasana pada saat penghitungan surat suara Pemilu 1955 di TPS Kelurahan \\\\nKemayoran yang berlangsung hingga malam, 29 September 1955.\\\\nSumber: Dokumentasi ANRI/CNN Indonesia (2018)\\\\n84\\\\nSEJARAH UNTUK SMA/MA KELAS XII\\\\nPada masa Demokrasi Liberal, perubahan kabinet terus-menerus \\\\nterjadi. Ini tentu saja menimbulkan ketidakstabilan politik di Indonesia.\"}']\n"
     ]
    }
   ],
   "source": [
    "# Let's try the tool first\n",
    "print(retrieve_tool(\"Kapan Gerakan perempuan?\")[:1])"
   ]
  }
 ],
 "metadata": {
  "kernelspec": {
   "display_name": "Python 3 (ipykernel)",
   "language": "python",
   "name": "python3"
  },
  "language_info": {
   "codemirror_mode": {
    "name": "ipython",
    "version": 3
   },
   "file_extension": ".py",
   "mimetype": "text/x-python",
   "name": "python",
   "nbconvert_exporter": "python",
   "pygments_lexer": "ipython3",
   "version": "3.12.11"
  }
 },
 "nbformat": 4,
 "nbformat_minor": 5
}
