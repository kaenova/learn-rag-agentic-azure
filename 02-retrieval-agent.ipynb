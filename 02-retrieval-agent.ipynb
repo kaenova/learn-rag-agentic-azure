{
 "cells": [
  {
   "cell_type": "markdown",
   "id": "41e97c3f-2093-4004-8ed9-6acc750b396a",
   "metadata": {},
   "source": [
    "# Retrieval Pipeline\n",
    "\n",
    "This notebooks is continuation after uploading your documents to Azure AI Search. We will use Azure OpenAI and Langgraph to build an agent to retrieve the data and generate the answer."
   ]
  },
  {
   "cell_type": "code",
   "execution_count": 1,
   "id": "8eafeffd-34c3-4bb9-8702-b978c96d39c1",
   "metadata": {},
   "outputs": [
    {
     "data": {
      "text/plain": [
       "True"
      ]
     },
     "execution_count": 1,
     "metadata": {},
     "output_type": "execute_result"
    }
   ],
   "source": [
    "# Prepare environment variable\n",
    "# You should check env.example file\n",
    "# It's needed throughout this jupyter notebook\n",
    "import os\n",
    "from dotenv import load_dotenv\n",
    "load_dotenv()"
   ]
  },
  {
   "cell_type": "markdown",
   "id": "dc7b1fbe-008a-4c8f-accf-4ac9febac351",
   "metadata": {},
   "source": [
    "## Prepare Connector\n",
    "\n",
    "Before creating agent, we want to prepare the connector to Azure AI Search so that the model can use the AI Search. We will use langchain-community based connector for easier langgraph integration."
   ]
  },
  {
   "cell_type": "code",
   "execution_count": 2,
   "id": "1e6f86fa-1016-4e0d-a7e9-1123bab27c03",
   "metadata": {},
   "outputs": [],
   "source": [
    "import langchain_community.vectorstores.azuresearch as azuresearch\n",
    "\n",
    "from langchain_community.vectorstores.azuresearch import AzureSearch\n",
    "from langchain_openai import AzureOpenAIEmbeddings"
   ]
  },
  {
   "cell_type": "code",
   "execution_count": 3,
   "id": "4fa6e9fe-e949-493c-82db-e505bf7b2415",
   "metadata": {},
   "outputs": [],
   "source": [
    "# Check if you already prepare the environment file\n",
    "index_name = \"kaenova-testing-3\" # You can change it, if you want to\n",
    "api_version = \"2024-12-01-preview\"\n",
    "\n",
    "for key in [\"AZURE_AIS_ENDPOINT\", \"AZURE_AIS_KEY\", \"AZURE_OAI_ENDPOINT\", \"AZURE_OAI_KEY\", \"AZURE_OAI_DEPLOYMENT\"]:\n",
    "    if not os.getenv(key):\n",
    "        raise ValueError(f\"{key} is not provided\")"
   ]
  },
  {
   "cell_type": "code",
   "execution_count": 4,
   "id": "d15cc57f-4928-481e-be30-4120c0c3b7a1",
   "metadata": {},
   "outputs": [],
   "source": [
    "# !important you may change this. Map the fields into the connector library\n",
    "azuresearch.FIELDS_CONTENT = \"chunk\"\n",
    "azuresearch.FIELDS_CONTENT_VECTOR = \"chunk_vector\"\n",
    "azuresearch.FIELDS_ID = \"id\""
   ]
  },
  {
   "cell_type": "code",
   "execution_count": 5,
   "id": "0fc23927-ad5c-4685-bb09-0574b3d847be",
   "metadata": {},
   "outputs": [],
   "source": [
    "# Prepare the embedding function\n",
    "embeddings : AzureOpenAIEmbeddings = AzureOpenAIEmbeddings(\n",
    "    azure_deployment=os.getenv(\"AZURE_OAI_DEPLOYMENT\"),\n",
    "    openai_api_version=api_version,\n",
    "    azure_endpoint=os.getenv(\"AZURE_OAI_ENDPOINT\"),\n",
    "    api_key=os.getenv(\"AZURE_OAI_KEY\"),\n",
    ")\n",
    "\n",
    "embeddings_function = embeddings.embed_query"
   ]
  },
  {
   "cell_type": "code",
   "execution_count": 6,
   "id": "1a95001f-28f7-4a67-8e4f-cf293a0b4947",
   "metadata": {},
   "outputs": [],
   "source": [
    "# Create Azure AI Search client\n",
    "vector_store: AzureSearch = AzureSearch(\n",
    "    azure_search_endpoint=os.getenv(\"AZURE_AIS_ENDPOINT\"),\n",
    "    azure_search_key=os.getenv(\"AZURE_AIS_KEY\"),\n",
    "    index_name=index_name,\n",
    "    embedding_function=embeddings.embed_query,\n",
    ")"
   ]
  },
  {
   "cell_type": "code",
   "execution_count": 7,
   "id": "a330b182-b4a8-4b3b-8646-235ea37ddf66",
   "metadata": {
    "scrolled": true
   },
   "outputs": [
    {
     "name": "stdout",
     "output_type": "stream",
     "text": [
      "page_content='banyak kelompok yang memiliki massa, baik yang berbasis ideologi \n",
      "politik maupun agama. Kekuatan kelompok tersebut memunculkan warna \n",
      "yang beragam pada identitas nasional dan berbagai peristiwa sejarah di \n",
      "Indonesia. Beberapa di antaranya akan dibahas pada subbab berikut.\n",
      "1.\t Gerakan Perempuan \n",
      "Gerakan Perempuan pada tahun 1950—1960 merupakan salah satu \n",
      "periode pergerakan paling progresif setelah tahun 1928. Pada periode ini \n",
      "banyak organisasi perempuan yang berafiliasi dengan kekuatan-kekuatan \n",
      "organisasi massa yang besar. Sebagai contoh Aisyiah dari Muhammadiyah, \n",
      "Muslimat dari Masyumi, Muslimat Nahdlatul Ulama (NU) dari NU, Perwari, \n",
      "dan juga Gerakan Wanita Istri Sedar (Gerwis). Gerwis merupakan gabungan \n",
      "dari ratusan aktivis dan berbagai organisasi perempuan, misalnya Rukun \n",
      "Putri Indonesia, Persatuan Wanita Sedar, Isteri Sedar, Gerakan Wanita \n",
      "Indonesia, dan Perjuangan Putri Republik Indonesia. Pada kongres pertama \n",
      "tahun 1951, Gerwis berubah nama menjadi Gerwani (Gerakan Wanita \n",
      "Indonesia). Pada tahun 1954 PKI memanfaatkan organisasi ini untuk \n",
      "menggalang suara pada Pemilu 1955.\n",
      "Gambar 2.6 Beberapa organisasi perempuan berdemo menentang PP No. 19 Tahun 1952. \n",
      "Peraturan pemerintah ini secara implisit mendukung poligini di kalangan pegawai negeri.\n",
      "Sumber: Repro Historia (2018)\n",
      "82\n",
      "SEJARAH UNTUK SMA/MA KELAS XII\n",
      "Selain terkait dengan basis massa yang besar, terdapat isu krusial yang \n",
      "diangkat pada tahun 1950an di antaranya adalah UU Perkawinan dan \n",
      "isu poligami. Kalangan organisasi maupun aktivis perempuan, menilai \n",
      "perlunya dibentuk komisi khusus yang merancang hukum perkawinan \n",
      "yang berpihak pada perempuan. Untuk itu dibentuk Komisi NTR (Nikah, \n",
      "Talak, Rujuk). Polemik pembuatan UU Perkawinan masih bergulir sampai \n",
      "dengan berakhirnya pemerintahan Sukarno dan akhirnya dapat disahkan \n",
      "pada tahun 1974. \n",
      "Sejarah Hari (Perjuangan) Ibu\n",
      "Gerakan sosial perempuan ditandai dengan terselenggaranya kongres \n",
      "pada 22—25 Desember 1928. Kongres ini memperjuangkan semangat \n",
      "perempuan dalam berkiprah. Mengingat pentingnya peristiwa tersebut dan \n",
      "untuk mengapresiasi langkah yang dilakukan oleh organisasi perempuan, \n",
      "Presiden Sukarno mencanangkan 22 Desember sebagai peringatan Hari \n",
      "Ibu melalui SK no. 316 tanggal 18 Desember 1959. Sejak ditetapkannya surat \n",
      "keputusan itu, seluruh bangsa Indonesia memperingati Hari Ibu pada 22 \n",
      "Desember. Tujuannya agar dapat mengenang dan menghayati semangat \n",
      "kebangkitan kaum perempuan Indonesia. Apresiasi terhadap perjuangan \n",
      "kaum perempuan layak dilakukan untuk menguatkan pikiran, tekad, dan \n",
      "semangat dalam memperbaiki serta meningkatkan hak, kewajiban, dan \n",
      "kedudukan perempuan. \n",
      "Apabila kalian ingin menggali lebih dalam mengenai \n",
      "sejarah gerakan perempuan di Indonesia, kalian dapat \n",
      "membaca berbagai buku, artikel, jurnal, atau laman bacaan \n",
      "populer berikut: https://historia.id/politik/articles/tonggak-\n",
      "tonggak-gerakan-perempuan-indonesia-vogLG/page/3  \n",
      "Kalian juga bisa memindai kode QR berikut.\n",
      "VIVA HISTORIA\n",
      "83\n",
      "BAB 2: DEMOKRASI LIBERAL HINGGA DEMOKRASI TERPIMPIN (1950—1966)\n",
      "Sumber: \n",
      "I Gusti Agung Ayu Ratih dkk, 2016, Merayakan Ibu Bangsa, Jakarta: Direktorat Sejarah, \n",
      "Kementerian Pendidikan dan Kebudayaan.\n",
      "Andri Setiawan, 2020. “Tonggak-tonggak Gerakan Perempuan Indonesia”. Historia. \n",
      "Dapat diakses pada https://historia.id/politik/articles/tonggak-tonggak-gerakan-\n",
      "perempuan-indonesia-vogLG/page/3\n",
      " 2.\t Pemilihan Umum Pertama\n",
      "Sebagai negara yang baru melewati masa kemerdekaannya, Indonesia \n",
      "melaksanakan pemilihan umum pertama kali pada tahun 1955. Apakah \n",
      "kalian pernah membayangkan bagaimana awal mula dan jalannya Pemilu \n",
      "pertama di Indonesia? \n",
      "Gambar 2.7 Suasana pada saat penghitungan surat suara Pemilu 1955 di TPS Kelurahan \n",
      "Kemayoran yang berlangsung hingga malam, 29 September 1955.\n",
      "Sumber: Dokumentasi ANRI/CNN Indonesia (2018)\n",
      "84\n",
      "SEJARAH UNTUK SMA/MA KELAS XII\n",
      "Pada masa Demokrasi Liberal, perubahan kabinet terus-menerus \n",
      "terjadi. Ini tentu saja menimbulkan ketidakstabilan politik di Indonesia.' metadata={'id': '75f218c9a1341be9b298ed3848d7c055__chunk_0045', 'file_name': 'Sejarah_BS_KLS_XII.pdf', '@search.score': 0.01666666753590107, '@search.reranker_score': 3.354781150817871, '@search.highlights': None, '@search.captions': [<azure.search.documents._generated.models._models_py3.QueryCaptionResult object at 0x10c714a10>], 'captions': {'text': '1. Gerakan Perempuan  Gerakan Perempuan pada tahun 1950—1960 merupakan salah satu  periode pergerakan paling progresif setelah tahun 1928. Pada periode ini  banyak organisasi perempuan yang berafiliasi dengan kekuatan-kekuatan  organisasi massa yang besar. Sumber: Repro Historia (2018) 82 SEJARAH UNTUK SMA/MA KELAS XII Selain terkait dengan basis.', 'highlights': '1. Gerakan Perempuan  Gerakan Perempuan pada tahun<em> 1950—1960 </em>merupakan salah satu  periode pergerakan paling progresif setelah tahun 1928. Pada periode ini  banyak organisasi perempuan yang berafiliasi dengan kekuatan-kekuatan  organisasi massa yang besar. Sumber: Repro Historia (2018) 82 SEJARAH UNTUK SMA/MA KELAS XII Selain terkait dengan basis.'}, 'answers': ''}\n"
     ]
    }
   ],
   "source": [
    "docs = vector_store.semantic_hybrid_search(\n",
    "    query=\"Tahun Gerakan Perempuan\", k=1,\n",
    ")\n",
    "print(docs[0])"
   ]
  },
  {
   "cell_type": "markdown",
   "id": "fc6db570-e1f4-4cc6-9425-3affb048e333",
   "metadata": {},
   "source": [
    "## Prepare Agent\n",
    "\n",
    "To maximize our search result, we're not only searching by one query, we need to expand user query into multiple query and search the best one"
   ]
  },
  {
   "cell_type": "code",
   "execution_count": 8,
   "id": "8b3e2875-b1fd-44e9-bf23-0d001ae42465",
   "metadata": {},
   "outputs": [],
   "source": [
    "# Prepare library\n",
    "## LLM related\n",
    "import os\n",
    "import json\n",
    "from langchain.chat_models import init_chat_model\n",
    "\n",
    "## State related\n",
    "from typing import Annotated\n",
    "from typing_extensions import TypedDict\n",
    "\n",
    "## Graph Related\n",
    "from langgraph.graph import StateGraph, START, END\n",
    "from langgraph.graph.message import add_messages\n",
    "from langchain_core.messages import SystemMessage, HumanMessage, AIMessage, AnyMessage\n",
    "\n",
    "## Graph Related Memory\n",
    "# import sqlite3\n",
    "# from langgraph.checkpoint.sqlite import SqliteSaver"
   ]
  },
  {
   "cell_type": "code",
   "execution_count": 9,
   "id": "fee7dd97-5794-4834-bea9-6a10f620f0c4",
   "metadata": {},
   "outputs": [],
   "source": [
    "# Check if you already prepare the environment file\n",
    "api_version = \"2024-12-01-preview\"\n",
    "langchain_model_name = \"azure_openai:gpt-4\" # Adjust based on what you deployed \n",
    "\n",
    "for key in [\"AZURE_OAI_ENDPOINT\", \"AZURE_OAI_KEY\", \"AZURE_OAI_CHAT_DEPLOYMENT\"]:\n",
    "    if not os.getenv(key):\n",
    "        raise ValueError(f\"{key} is not provided\")"
   ]
  },
  {
   "cell_type": "code",
   "execution_count": 10,
   "id": "580727a1-0509-48e7-92e6-9974d3f3b19f",
   "metadata": {},
   "outputs": [],
   "source": [
    "# Prepare langgraph state \n",
    "class State(TypedDict):\n",
    "    question: str # Saving the user questions\n",
    "    agent_query: list[str] # Saving the expanded agent query, could be multiple query\n",
    "    agent_query_answer: list[str] # Saving multiple unique relevance docs\n",
    "    answer: str # Saving the summarizer answer\n",
    "\n",
    "    messages: Annotated[list[AnyMessage], add_messages] # To keep chat threads"
   ]
  },
  {
   "cell_type": "code",
   "execution_count": 11,
   "id": "948e38a3-99f6-4154-9126-b5af309af436",
   "metadata": {},
   "outputs": [],
   "source": [
    "# Prepare LLM we're going to use\n",
    "\n",
    "## Prepare langgraph llm initialization\n",
    "os.environ[\"AZURE_OPENAI_API_KEY\"] = os.getenv(\"AZURE_OAI_KEY\")\n",
    "os.environ[\"AZURE_OPENAI_ENDPOINT\"] = os.getenv(\"AZURE_OAI_ENDPOINT\")\n",
    "os.environ[\"OPENAI_API_VERSION\"] = api_version\n",
    "\n",
    "chat_llm = init_chat_model(\n",
    "    langchain_model_name,\n",
    "    azure_deployment=os.environ[\"AZURE_OAI_CHAT_DEPLOYMENT\"],\n",
    ")"
   ]
  },
  {
   "cell_type": "code",
   "execution_count": 12,
   "id": "4b870030-2b69-48eb-ac36-14e7be94ce96",
   "metadata": {},
   "outputs": [
    {
     "data": {
      "text/plain": [
       "AIMessage(content='Hello! How can I help you today?', additional_kwargs={'refusal': None}, response_metadata={'token_usage': {'completion_tokens': 9, 'prompt_tokens': 8, 'total_tokens': 17, 'completion_tokens_details': None, 'prompt_tokens_details': None}, 'model_name': 'gpt-4-turbo-2024-04-09', 'system_fingerprint': 'fp_5603ee5e2e', 'id': 'chatcmpl-CFelb5BjaEqBIlzosSSAlqRgBpsNs', 'service_tier': None, 'prompt_filter_results': [{'prompt_index': 0, 'content_filter_results': {'hate': {'filtered': False, 'severity': 'safe'}, 'jailbreak': {'filtered': False, 'detected': False}, 'self_harm': {'filtered': False, 'severity': 'safe'}, 'sexual': {'filtered': False, 'severity': 'safe'}, 'violence': {'filtered': False, 'severity': 'safe'}}}], 'finish_reason': 'stop', 'logprobs': None, 'content_filter_results': {'hate': {'filtered': False, 'severity': 'safe'}, 'protected_material_code': {'filtered': False, 'detected': False}, 'protected_material_text': {'filtered': False, 'detected': False}, 'self_harm': {'filtered': False, 'severity': 'safe'}, 'sexual': {'filtered': False, 'severity': 'safe'}, 'violence': {'filtered': False, 'severity': 'safe'}}}, id='run--1c5e9113-e82a-4582-863e-2d1c3717b859-0', usage_metadata={'input_tokens': 8, 'output_tokens': 9, 'total_tokens': 17, 'input_token_details': {}, 'output_token_details': {}})"
      ]
     },
     "execution_count": 12,
     "metadata": {},
     "output_type": "execute_result"
    }
   ],
   "source": [
    "response = chat_llm.invoke([HumanMessage(\"Hello\")])\n",
    "response"
   ]
  },
  {
   "cell_type": "code",
   "execution_count": 13,
   "id": "f4ec1eaf-d16a-433a-a99f-77a664e4f1c8",
   "metadata": {},
   "outputs": [],
   "source": [
    "# Prepare function for each langgraph nodes\n",
    "def expand_query(state: State):\n",
    "    system_prompt = (\n",
    "        \"You're a search query expander, you'll get a user question and you need to create multiple concise, keyworded, and general search query\"\n",
    "        \"That'll be injected to the Azure AI Search\"\n",
    "        \"Return the question only in JSON array without any codeblocks\"\n",
    "        \"You'll only return like \\'[\\\"query_1\\\", \\\"query_2\\\", \\\"query_3\\\", \\\"query_4\\\", \\\"query_5\\\"]\\'\"\n",
    "    )\n",
    "\n",
    "    valid = False\n",
    "    data = []\n",
    "    while not valid:\n",
    "        result = chat_llm.invoke([SystemMessage(content=system_prompt), HumanMessage(content=state[\"question\"])])\n",
    "        print(\"[expand_query] llm_result\", result.content)\n",
    "        \n",
    "        try:\n",
    "            data = json.loads(result.content)\n",
    "            if type(data) is list:\n",
    "                valid = True\n",
    "        except:\n",
    "            print(\"[expand_query] not a valid value\")\n",
    "    return {\"agent_query\": data, \"messages\": [HumanMessage(content=state[\"question\"])]}\n",
    "\n",
    "def retrieve_documents(state: State):\n",
    "    retrieved_chunks = []\n",
    "    for question in state[\"agent_query\"]:\n",
    "        answers = vector_store.semantic_hybrid_search(\n",
    "            query=question, k=5,\n",
    "        )\n",
    "        for x in answers:\n",
    "            retrieved_chunks.append(x.page_content)\n",
    "    print(\"[retrieved_chunks] retrieved before set\", len(retrieved_chunks), \"of documents\")\n",
    "    final_chunks = list(set(retrieved_chunks))\n",
    "    print(\"[retrieve_documents] retrieved\", len(final_chunks), \"of documents\")\n",
    "    return {\"agent_query_answer\": final_chunks}\n",
    "\n",
    "def summarize(state: State):\n",
    "    system_prompt = (\n",
    "        \"You're a search questions and answer summarizer\"\n",
    "        \"You'll be given a multiple related documents, try to answer based on the documents given\"\n",
    "        \"Articulate the questions first and then if the questions is not related based on the relevance documents,\"\n",
    "        \"Let the user know that you're not entirely sure\"\n",
    "        \"Be sure to answer with user question language\"\n",
    "    )\n",
    "\n",
    "    human_prompt_template = (\n",
    "        \"Here are related documents\"\n",
    "        \"{documents}\"\n",
    "        \"\\n\"\n",
    "        \"Here are my questions\"\n",
    "        \"{question}\"\n",
    "    )\n",
    "\n",
    "    prepared_documents_prompt = []\n",
    "    for i, doc in enumerate(state[\"agent_query_answer\"]):\n",
    "        prepared_documents_prompt.append(f\"# Document {i+1}\\n```{doc}```\")\n",
    "\n",
    "    documents_prompt = \"\\n\".join(prepared_documents_prompt)\n",
    "\n",
    "    human_prompt = human_prompt_template.format(documents=documents_prompt, question=state[\"question\"])\n",
    "\n",
    "    # Add to message threads\n",
    "    state[\"messages\"].append(SystemMessage(content=system_prompt))\n",
    "    state[\"messages\"].append(HumanMessage(content=human_prompt))\n",
    "\n",
    "    chat_res = chat_llm.invoke(state[\"messages\"])\n",
    "\n",
    "    print(f\"[summarize]\", chat_res.content)\n",
    "\n",
    "    return {\"messages\": [chat_res]}"
   ]
  },
  {
   "cell_type": "code",
   "execution_count": 14,
   "id": "5351e2e8-31ac-41ea-9c30-b5ecc1f5e81a",
   "metadata": {
    "scrolled": true
   },
   "outputs": [
    {
     "data": {
      "text/plain": [
       "<langgraph.graph.state.StateGraph at 0x10d0c20f0>"
      ]
     },
     "execution_count": 14,
     "metadata": {},
     "output_type": "execute_result"
    }
   ],
   "source": [
    "# Create and connect the graph\n",
    "# Define graph\n",
    "graph_builder = StateGraph(State)\n",
    "\n",
    "# Define nodes\n",
    "graph_builder.add_node(\"query_expander\", expand_query)\n",
    "graph_builder.add_node(\"retriever\", retrieve_documents)\n",
    "graph_builder.add_node(\"summarizer\", summarize)\n",
    "\n",
    "# Define Edges\n",
    "graph_builder.add_edge(START, \"query_expander\")\n",
    "graph_builder.add_edge(\"query_expander\", \"retriever\")\n",
    "graph_builder.add_edge(\"retriever\", \"summarizer\")\n",
    "graph_builder.add_edge(\"summarizer\", END)\n"
   ]
  },
  {
   "cell_type": "code",
   "execution_count": 15,
   "id": "57ffee94-7535-4689-a93f-de61b3ec7d84",
   "metadata": {},
   "outputs": [
    {
     "data": {
      "image/png": "[encoded data removed]",
      "text/plain": [
       "<langgraph.graph.state.CompiledStateGraph object at 0x10d0ac740>"
      ]
     },
     "metadata": {},
     "output_type": "display_data"
    }
   ],
   "source": [
    "# Prepare checkpointer\n",
    "# conn = sqlite3.connect(\"checkpoints.sqlite\", check_same_thread=False)\n",
    "# memory = SqliteSaver(conn)\n",
    "\n",
    "# Not using checkpointer on langgraph cloud\n",
    "# graph = graph_builder.compile(checkpointer=memory)\n",
    "graph = graph_builder.compile()\n",
    "display(graph)"
   ]
  },
  {
   "cell_type": "markdown",
   "id": "ad0104ab-aa65-44dd-babb-beb83b0ede3e",
   "metadata": {},
   "source": [
    "# Let's Test The Retrieving Capability"
   ]
  },
  {
   "cell_type": "code",
   "execution_count": 17,
   "id": "3693d26e-a42c-4d9b-8045-fae4d8a8b2eb",
   "metadata": {},
   "outputs": [
    {
     "name": "stdin",
     "output_type": "stream",
     "text": [
      ">  Kapan Gerakan Perempuan?\n"
     ]
    },
    {
     "name": "stdout",
     "output_type": "stream",
     "text": [
      "[expand_query] llm_result [\"Sejarah Gerakan Perempuan Indonesia\", \"Tahun awal Gerakan Perempuan\", \"Kronologi perkembangan Gerakan Perempuan\", \"Milestone penting Gerakan Perempuan\", \"Kapan mulai Gerakan Emansipasi Perempuan\"]\n",
      "[retrieved_chunks] retrieved before set 25 of documents\n",
      "[retrieve_documents] retrieved 6 of documents\n",
      "[summarize] Gerakan Perempuan di Indonesia memiliki berbagai tonggak penting yang mencakup beberapa periode:\n",
      "\n",
      "1. Periode paling progresif setelah tahun 1928 terjadi antara tahun 1950—1960, di mana banyak organisasi perempuan berafiliasi dengan kekuatan-kekuatan organisasi massa yang besar (Document 3).\n",
      "\n",
      "2. Gerakan Wanita Istri Sedar (Gerwis) berubah nama menjadi Gerakan Wanita Indonesia (Gerwani) pada kongres pertama tahun 1951 (Document 3).\n",
      "\n",
      "3. Gerakan perempuan pada masa Orde Baru mengalami sentralisasi di bawah Kongres Wanita Indonesia (Kowani) dan dipaksa mendukung tujuan pembangunan pemerintah (Document 1).\n",
      "\n",
      "Dengan demikian, Gerakan Perempuan di Indonesia sudah aktif sejak 1928 dan mengalami berbagai perkembangan signifikan sepanjang dekade 1950-an hingga masa Orde Baru.\n"
     ]
    },
    {
     "name": "stdin",
     "output_type": "stream",
     "text": [
      ">  Apa itu gerakan perempuan?\n"
     ]
    },
    {
     "name": "stdout",
     "output_type": "stream",
     "text": [
      "[expand_query] llm_result [\"definisi gerakan perempuan\", \"sejarah gerakan perempuan\", \"tujuan gerakan perempuan\", \"pengaruh gerakan perempuan\", \"contoh gerakan perempuan\"]\n",
      "[retrieved_chunks] retrieved before set 25 of documents\n",
      "[retrieve_documents] retrieved 6 of documents\n",
      "[summarize] Gerakan perempuan didefinisikan sebagai usaha kolektif dan terorganisasi yang dilakukan oleh individu-individu atau kelompok untuk memajukan kondisi, status, dan hak-hak perempuan dalam masyarakat. Gerakan ini bertujuan untuk mengatasi isu-isu kritis yang dihadapi perempuan, termasuk ketidakadilan gender, diskriminasi, akses terhadap pendidikan, dan hak-hak reproduksi.\n",
      "\n",
      "Dari dokumen yang tersedia, gerakan perempuan di Indonesia telah meliputi pembentukan organisasi seperti Aisyiah dari Muhammadiyah, Muslimat dari Masyumi, dan Muslimat Nahdlatul Ulama (NU), serta Gerakan Wanita Istri Sedar (Gerwis) yang kemudian bertransformasi menjadi Gerakan Wanita Indonesia (Gerwani). Kegiatan gerakan ini meliputi advokasi untuk reformasi kebijakan dan undang-undang, peningkatan kesadaran mengenai isu-isu yang berkaitan dengan perempuan, serta partisipasi dalam politik dan sosial kemasyarakatan untuk memperjuangkan keadilan dan kesetaraan gender.\n"
     ]
    },
    {
     "name": "stdin",
     "output_type": "stream",
     "text": [
      ">  q\n"
     ]
    },
    {
     "name": "stdout",
     "output_type": "stream",
     "text": [
      "Goodbye!\n"
     ]
    }
   ],
   "source": [
    "# Session 1\n",
    "chat_id = \"unique-id-01\"\n",
    "config = {\"configurable\": {\"thread_id\": chat_id}}\n",
    "\n",
    "while True:\n",
    "    user_input = input(\"> \")\n",
    "    if user_input.lower() in [\"quit\", \"exit\", \"q\"]:\n",
    "        print(\"Goodbye!\")\n",
    "        break\n",
    "    graph.invoke({\"question\": user_input}, config=config)"
   ]
  },
  {
   "cell_type": "markdown",
   "id": "f4223f55-de4f-4544-9d79-c14846a3fead",
   "metadata": {},
   "source": [
    "# What's next?\n",
    "\n",
    "This retrieving process should be as a tool and a function, where if the chatboot needed it can use it, but if not needed, the chat can be varies topic generally"
   ]
  }
 ],
 "metadata": {
  "kernelspec": {
   "display_name": "Python 3 (ipykernel)",
   "language": "python",
   "name": "python3"
  },
  "language_info": {
   "codemirror_mode": {
    "name": "ipython",
    "version": 3
   },
   "file_extension": ".py",
   "mimetype": "text/x-python",
   "name": "python",
   "nbconvert_exporter": "python",
   "pygments_lexer": "ipython3",
   "version": "3.12.11"
  }
 },
 "nbformat": 4,
 "nbformat_minor": 5
}
